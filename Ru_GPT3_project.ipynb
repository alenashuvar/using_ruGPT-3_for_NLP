{
  "nbformat": 4,
  "nbformat_minor": 0,
  "metadata": {
    "colab": {
      "provenance": [],
      "toc_visible": true
    },
    "kernelspec": {
      "name": "python3",
      "display_name": "Python 3"
    },
    "language_info": {
      "name": "python"
    },
    "accelerator": "GPU",
    "gpuClass": "standard",
    "widgets": {
      "application/vnd.jupyter.widget-state+json": {
        "43968fc13b96431ea28249dbb45374a8": {
          "model_module": "@jupyter-widgets/controls",
          "model_name": "HBoxModel",
          "model_module_version": "1.5.0",
          "state": {
            "_dom_classes": [],
            "_model_module": "@jupyter-widgets/controls",
            "_model_module_version": "1.5.0",
            "_model_name": "HBoxModel",
            "_view_count": null,
            "_view_module": "@jupyter-widgets/controls",
            "_view_module_version": "1.5.0",
            "_view_name": "HBoxView",
            "box_style": "",
            "children": [
              "IPY_MODEL_1557eef0a9f64e8b83163ad408519b3c",
              "IPY_MODEL_4888e78ec24b4f9884cd6ded4e5fee71",
              "IPY_MODEL_411bb3214c304c3bb7296091989228ac"
            ],
            "layout": "IPY_MODEL_5f7c6ff27b7140c8bb11e732e31293d5"
          }
        },
        "1557eef0a9f64e8b83163ad408519b3c": {
          "model_module": "@jupyter-widgets/controls",
          "model_name": "HTMLModel",
          "model_module_version": "1.5.0",
          "state": {
            "_dom_classes": [],
            "_model_module": "@jupyter-widgets/controls",
            "_model_module_version": "1.5.0",
            "_model_name": "HTMLModel",
            "_view_count": null,
            "_view_module": "@jupyter-widgets/controls",
            "_view_module_version": "1.5.0",
            "_view_name": "HTMLView",
            "description": "",
            "description_tooltip": null,
            "layout": "IPY_MODEL_0f862cf5436d4526b81c371af037975a",
            "placeholder": "​",
            "style": "IPY_MODEL_17b59e02f9ec45b9804a68c815a3d666",
            "value": "Downloading (…)olve/main/vocab.json: 100%"
          }
        },
        "4888e78ec24b4f9884cd6ded4e5fee71": {
          "model_module": "@jupyter-widgets/controls",
          "model_name": "FloatProgressModel",
          "model_module_version": "1.5.0",
          "state": {
            "_dom_classes": [],
            "_model_module": "@jupyter-widgets/controls",
            "_model_module_version": "1.5.0",
            "_model_name": "FloatProgressModel",
            "_view_count": null,
            "_view_module": "@jupyter-widgets/controls",
            "_view_module_version": "1.5.0",
            "_view_name": "ProgressView",
            "bar_style": "success",
            "description": "",
            "description_tooltip": null,
            "layout": "IPY_MODEL_0420b7f79cba484db7308e87f7f48992",
            "max": 1713123,
            "min": 0,
            "orientation": "horizontal",
            "style": "IPY_MODEL_a4ab2ce1bf794182b759d45062257f5d",
            "value": 1713123
          }
        },
        "411bb3214c304c3bb7296091989228ac": {
          "model_module": "@jupyter-widgets/controls",
          "model_name": "HTMLModel",
          "model_module_version": "1.5.0",
          "state": {
            "_dom_classes": [],
            "_model_module": "@jupyter-widgets/controls",
            "_model_module_version": "1.5.0",
            "_model_name": "HTMLModel",
            "_view_count": null,
            "_view_module": "@jupyter-widgets/controls",
            "_view_module_version": "1.5.0",
            "_view_name": "HTMLView",
            "description": "",
            "description_tooltip": null,
            "layout": "IPY_MODEL_5084b6ffd60642eeb24a6f4a136db2f6",
            "placeholder": "​",
            "style": "IPY_MODEL_febe8aa7b50b4a19bdd730032a2dd91d",
            "value": " 1.71M/1.71M [00:00&lt;00:00, 4.63MB/s]"
          }
        },
        "5f7c6ff27b7140c8bb11e732e31293d5": {
          "model_module": "@jupyter-widgets/base",
          "model_name": "LayoutModel",
          "model_module_version": "1.2.0",
          "state": {
            "_model_module": "@jupyter-widgets/base",
            "_model_module_version": "1.2.0",
            "_model_name": "LayoutModel",
            "_view_count": null,
            "_view_module": "@jupyter-widgets/base",
            "_view_module_version": "1.2.0",
            "_view_name": "LayoutView",
            "align_content": null,
            "align_items": null,
            "align_self": null,
            "border": null,
            "bottom": null,
            "display": null,
            "flex": null,
            "flex_flow": null,
            "grid_area": null,
            "grid_auto_columns": null,
            "grid_auto_flow": null,
            "grid_auto_rows": null,
            "grid_column": null,
            "grid_gap": null,
            "grid_row": null,
            "grid_template_areas": null,
            "grid_template_columns": null,
            "grid_template_rows": null,
            "height": null,
            "justify_content": null,
            "justify_items": null,
            "left": null,
            "margin": null,
            "max_height": null,
            "max_width": null,
            "min_height": null,
            "min_width": null,
            "object_fit": null,
            "object_position": null,
            "order": null,
            "overflow": null,
            "overflow_x": null,
            "overflow_y": null,
            "padding": null,
            "right": null,
            "top": null,
            "visibility": null,
            "width": null
          }
        },
        "0f862cf5436d4526b81c371af037975a": {
          "model_module": "@jupyter-widgets/base",
          "model_name": "LayoutModel",
          "model_module_version": "1.2.0",
          "state": {
            "_model_module": "@jupyter-widgets/base",
            "_model_module_version": "1.2.0",
            "_model_name": "LayoutModel",
            "_view_count": null,
            "_view_module": "@jupyter-widgets/base",
            "_view_module_version": "1.2.0",
            "_view_name": "LayoutView",
            "align_content": null,
            "align_items": null,
            "align_self": null,
            "border": null,
            "bottom": null,
            "display": null,
            "flex": null,
            "flex_flow": null,
            "grid_area": null,
            "grid_auto_columns": null,
            "grid_auto_flow": null,
            "grid_auto_rows": null,
            "grid_column": null,
            "grid_gap": null,
            "grid_row": null,
            "grid_template_areas": null,
            "grid_template_columns": null,
            "grid_template_rows": null,
            "height": null,
            "justify_content": null,
            "justify_items": null,
            "left": null,
            "margin": null,
            "max_height": null,
            "max_width": null,
            "min_height": null,
            "min_width": null,
            "object_fit": null,
            "object_position": null,
            "order": null,
            "overflow": null,
            "overflow_x": null,
            "overflow_y": null,
            "padding": null,
            "right": null,
            "top": null,
            "visibility": null,
            "width": null
          }
        },
        "17b59e02f9ec45b9804a68c815a3d666": {
          "model_module": "@jupyter-widgets/controls",
          "model_name": "DescriptionStyleModel",
          "model_module_version": "1.5.0",
          "state": {
            "_model_module": "@jupyter-widgets/controls",
            "_model_module_version": "1.5.0",
            "_model_name": "DescriptionStyleModel",
            "_view_count": null,
            "_view_module": "@jupyter-widgets/base",
            "_view_module_version": "1.2.0",
            "_view_name": "StyleView",
            "description_width": ""
          }
        },
        "0420b7f79cba484db7308e87f7f48992": {
          "model_module": "@jupyter-widgets/base",
          "model_name": "LayoutModel",
          "model_module_version": "1.2.0",
          "state": {
            "_model_module": "@jupyter-widgets/base",
            "_model_module_version": "1.2.0",
            "_model_name": "LayoutModel",
            "_view_count": null,
            "_view_module": "@jupyter-widgets/base",
            "_view_module_version": "1.2.0",
            "_view_name": "LayoutView",
            "align_content": null,
            "align_items": null,
            "align_self": null,
            "border": null,
            "bottom": null,
            "display": null,
            "flex": null,
            "flex_flow": null,
            "grid_area": null,
            "grid_auto_columns": null,
            "grid_auto_flow": null,
            "grid_auto_rows": null,
            "grid_column": null,
            "grid_gap": null,
            "grid_row": null,
            "grid_template_areas": null,
            "grid_template_columns": null,
            "grid_template_rows": null,
            "height": null,
            "justify_content": null,
            "justify_items": null,
            "left": null,
            "margin": null,
            "max_height": null,
            "max_width": null,
            "min_height": null,
            "min_width": null,
            "object_fit": null,
            "object_position": null,
            "order": null,
            "overflow": null,
            "overflow_x": null,
            "overflow_y": null,
            "padding": null,
            "right": null,
            "top": null,
            "visibility": null,
            "width": null
          }
        },
        "a4ab2ce1bf794182b759d45062257f5d": {
          "model_module": "@jupyter-widgets/controls",
          "model_name": "ProgressStyleModel",
          "model_module_version": "1.5.0",
          "state": {
            "_model_module": "@jupyter-widgets/controls",
            "_model_module_version": "1.5.0",
            "_model_name": "ProgressStyleModel",
            "_view_count": null,
            "_view_module": "@jupyter-widgets/base",
            "_view_module_version": "1.2.0",
            "_view_name": "StyleView",
            "bar_color": null,
            "description_width": ""
          }
        },
        "5084b6ffd60642eeb24a6f4a136db2f6": {
          "model_module": "@jupyter-widgets/base",
          "model_name": "LayoutModel",
          "model_module_version": "1.2.0",
          "state": {
            "_model_module": "@jupyter-widgets/base",
            "_model_module_version": "1.2.0",
            "_model_name": "LayoutModel",
            "_view_count": null,
            "_view_module": "@jupyter-widgets/base",
            "_view_module_version": "1.2.0",
            "_view_name": "LayoutView",
            "align_content": null,
            "align_items": null,
            "align_self": null,
            "border": null,
            "bottom": null,
            "display": null,
            "flex": null,
            "flex_flow": null,
            "grid_area": null,
            "grid_auto_columns": null,
            "grid_auto_flow": null,
            "grid_auto_rows": null,
            "grid_column": null,
            "grid_gap": null,
            "grid_row": null,
            "grid_template_areas": null,
            "grid_template_columns": null,
            "grid_template_rows": null,
            "height": null,
            "justify_content": null,
            "justify_items": null,
            "left": null,
            "margin": null,
            "max_height": null,
            "max_width": null,
            "min_height": null,
            "min_width": null,
            "object_fit": null,
            "object_position": null,
            "order": null,
            "overflow": null,
            "overflow_x": null,
            "overflow_y": null,
            "padding": null,
            "right": null,
            "top": null,
            "visibility": null,
            "width": null
          }
        },
        "febe8aa7b50b4a19bdd730032a2dd91d": {
          "model_module": "@jupyter-widgets/controls",
          "model_name": "DescriptionStyleModel",
          "model_module_version": "1.5.0",
          "state": {
            "_model_module": "@jupyter-widgets/controls",
            "_model_module_version": "1.5.0",
            "_model_name": "DescriptionStyleModel",
            "_view_count": null,
            "_view_module": "@jupyter-widgets/base",
            "_view_module_version": "1.2.0",
            "_view_name": "StyleView",
            "description_width": ""
          }
        },
        "e2a75b22a5434ec99904c67f48e432b2": {
          "model_module": "@jupyter-widgets/controls",
          "model_name": "HBoxModel",
          "model_module_version": "1.5.0",
          "state": {
            "_dom_classes": [],
            "_model_module": "@jupyter-widgets/controls",
            "_model_module_version": "1.5.0",
            "_model_name": "HBoxModel",
            "_view_count": null,
            "_view_module": "@jupyter-widgets/controls",
            "_view_module_version": "1.5.0",
            "_view_name": "HBoxView",
            "box_style": "",
            "children": [
              "IPY_MODEL_8a1bbeea003a4360aca2c51451ff8e2e",
              "IPY_MODEL_5eede5035646470bae97e7d7d7d576ae",
              "IPY_MODEL_33cabf8b904f4cba9f383bc81d7532dd"
            ],
            "layout": "IPY_MODEL_4536f7469f9242cb828bb4467dc32a87"
          }
        },
        "8a1bbeea003a4360aca2c51451ff8e2e": {
          "model_module": "@jupyter-widgets/controls",
          "model_name": "HTMLModel",
          "model_module_version": "1.5.0",
          "state": {
            "_dom_classes": [],
            "_model_module": "@jupyter-widgets/controls",
            "_model_module_version": "1.5.0",
            "_model_name": "HTMLModel",
            "_view_count": null,
            "_view_module": "@jupyter-widgets/controls",
            "_view_module_version": "1.5.0",
            "_view_name": "HTMLView",
            "description": "",
            "description_tooltip": null,
            "layout": "IPY_MODEL_1448ede7690a4f66add45b387cba5d4e",
            "placeholder": "​",
            "style": "IPY_MODEL_c361e4a4e2e84595bd3d6bc244ae37e8",
            "value": "Downloading (…)olve/main/merges.txt: 100%"
          }
        },
        "5eede5035646470bae97e7d7d7d576ae": {
          "model_module": "@jupyter-widgets/controls",
          "model_name": "FloatProgressModel",
          "model_module_version": "1.5.0",
          "state": {
            "_dom_classes": [],
            "_model_module": "@jupyter-widgets/controls",
            "_model_module_version": "1.5.0",
            "_model_name": "FloatProgressModel",
            "_view_count": null,
            "_view_module": "@jupyter-widgets/controls",
            "_view_module_version": "1.5.0",
            "_view_name": "ProgressView",
            "bar_style": "success",
            "description": "",
            "description_tooltip": null,
            "layout": "IPY_MODEL_ee997fecd7614673a6526cdc7848c612",
            "max": 1270925,
            "min": 0,
            "orientation": "horizontal",
            "style": "IPY_MODEL_cf6a73b06dd84c168804c84b4dd575ac",
            "value": 1270925
          }
        },
        "33cabf8b904f4cba9f383bc81d7532dd": {
          "model_module": "@jupyter-widgets/controls",
          "model_name": "HTMLModel",
          "model_module_version": "1.5.0",
          "state": {
            "_dom_classes": [],
            "_model_module": "@jupyter-widgets/controls",
            "_model_module_version": "1.5.0",
            "_model_name": "HTMLModel",
            "_view_count": null,
            "_view_module": "@jupyter-widgets/controls",
            "_view_module_version": "1.5.0",
            "_view_name": "HTMLView",
            "description": "",
            "description_tooltip": null,
            "layout": "IPY_MODEL_4584c7a7457641f9b3fac82be6b5a22e",
            "placeholder": "​",
            "style": "IPY_MODEL_c069b2c3236b47d28d235217c82324b2",
            "value": " 1.27M/1.27M [00:00&lt;00:00, 3.76MB/s]"
          }
        },
        "4536f7469f9242cb828bb4467dc32a87": {
          "model_module": "@jupyter-widgets/base",
          "model_name": "LayoutModel",
          "model_module_version": "1.2.0",
          "state": {
            "_model_module": "@jupyter-widgets/base",
            "_model_module_version": "1.2.0",
            "_model_name": "LayoutModel",
            "_view_count": null,
            "_view_module": "@jupyter-widgets/base",
            "_view_module_version": "1.2.0",
            "_view_name": "LayoutView",
            "align_content": null,
            "align_items": null,
            "align_self": null,
            "border": null,
            "bottom": null,
            "display": null,
            "flex": null,
            "flex_flow": null,
            "grid_area": null,
            "grid_auto_columns": null,
            "grid_auto_flow": null,
            "grid_auto_rows": null,
            "grid_column": null,
            "grid_gap": null,
            "grid_row": null,
            "grid_template_areas": null,
            "grid_template_columns": null,
            "grid_template_rows": null,
            "height": null,
            "justify_content": null,
            "justify_items": null,
            "left": null,
            "margin": null,
            "max_height": null,
            "max_width": null,
            "min_height": null,
            "min_width": null,
            "object_fit": null,
            "object_position": null,
            "order": null,
            "overflow": null,
            "overflow_x": null,
            "overflow_y": null,
            "padding": null,
            "right": null,
            "top": null,
            "visibility": null,
            "width": null
          }
        },
        "1448ede7690a4f66add45b387cba5d4e": {
          "model_module": "@jupyter-widgets/base",
          "model_name": "LayoutModel",
          "model_module_version": "1.2.0",
          "state": {
            "_model_module": "@jupyter-widgets/base",
            "_model_module_version": "1.2.0",
            "_model_name": "LayoutModel",
            "_view_count": null,
            "_view_module": "@jupyter-widgets/base",
            "_view_module_version": "1.2.0",
            "_view_name": "LayoutView",
            "align_content": null,
            "align_items": null,
            "align_self": null,
            "border": null,
            "bottom": null,
            "display": null,
            "flex": null,
            "flex_flow": null,
            "grid_area": null,
            "grid_auto_columns": null,
            "grid_auto_flow": null,
            "grid_auto_rows": null,
            "grid_column": null,
            "grid_gap": null,
            "grid_row": null,
            "grid_template_areas": null,
            "grid_template_columns": null,
            "grid_template_rows": null,
            "height": null,
            "justify_content": null,
            "justify_items": null,
            "left": null,
            "margin": null,
            "max_height": null,
            "max_width": null,
            "min_height": null,
            "min_width": null,
            "object_fit": null,
            "object_position": null,
            "order": null,
            "overflow": null,
            "overflow_x": null,
            "overflow_y": null,
            "padding": null,
            "right": null,
            "top": null,
            "visibility": null,
            "width": null
          }
        },
        "c361e4a4e2e84595bd3d6bc244ae37e8": {
          "model_module": "@jupyter-widgets/controls",
          "model_name": "DescriptionStyleModel",
          "model_module_version": "1.5.0",
          "state": {
            "_model_module": "@jupyter-widgets/controls",
            "_model_module_version": "1.5.0",
            "_model_name": "DescriptionStyleModel",
            "_view_count": null,
            "_view_module": "@jupyter-widgets/base",
            "_view_module_version": "1.2.0",
            "_view_name": "StyleView",
            "description_width": ""
          }
        },
        "ee997fecd7614673a6526cdc7848c612": {
          "model_module": "@jupyter-widgets/base",
          "model_name": "LayoutModel",
          "model_module_version": "1.2.0",
          "state": {
            "_model_module": "@jupyter-widgets/base",
            "_model_module_version": "1.2.0",
            "_model_name": "LayoutModel",
            "_view_count": null,
            "_view_module": "@jupyter-widgets/base",
            "_view_module_version": "1.2.0",
            "_view_name": "LayoutView",
            "align_content": null,
            "align_items": null,
            "align_self": null,
            "border": null,
            "bottom": null,
            "display": null,
            "flex": null,
            "flex_flow": null,
            "grid_area": null,
            "grid_auto_columns": null,
            "grid_auto_flow": null,
            "grid_auto_rows": null,
            "grid_column": null,
            "grid_gap": null,
            "grid_row": null,
            "grid_template_areas": null,
            "grid_template_columns": null,
            "grid_template_rows": null,
            "height": null,
            "justify_content": null,
            "justify_items": null,
            "left": null,
            "margin": null,
            "max_height": null,
            "max_width": null,
            "min_height": null,
            "min_width": null,
            "object_fit": null,
            "object_position": null,
            "order": null,
            "overflow": null,
            "overflow_x": null,
            "overflow_y": null,
            "padding": null,
            "right": null,
            "top": null,
            "visibility": null,
            "width": null
          }
        },
        "cf6a73b06dd84c168804c84b4dd575ac": {
          "model_module": "@jupyter-widgets/controls",
          "model_name": "ProgressStyleModel",
          "model_module_version": "1.5.0",
          "state": {
            "_model_module": "@jupyter-widgets/controls",
            "_model_module_version": "1.5.0",
            "_model_name": "ProgressStyleModel",
            "_view_count": null,
            "_view_module": "@jupyter-widgets/base",
            "_view_module_version": "1.2.0",
            "_view_name": "StyleView",
            "bar_color": null,
            "description_width": ""
          }
        },
        "4584c7a7457641f9b3fac82be6b5a22e": {
          "model_module": "@jupyter-widgets/base",
          "model_name": "LayoutModel",
          "model_module_version": "1.2.0",
          "state": {
            "_model_module": "@jupyter-widgets/base",
            "_model_module_version": "1.2.0",
            "_model_name": "LayoutModel",
            "_view_count": null,
            "_view_module": "@jupyter-widgets/base",
            "_view_module_version": "1.2.0",
            "_view_name": "LayoutView",
            "align_content": null,
            "align_items": null,
            "align_self": null,
            "border": null,
            "bottom": null,
            "display": null,
            "flex": null,
            "flex_flow": null,
            "grid_area": null,
            "grid_auto_columns": null,
            "grid_auto_flow": null,
            "grid_auto_rows": null,
            "grid_column": null,
            "grid_gap": null,
            "grid_row": null,
            "grid_template_areas": null,
            "grid_template_columns": null,
            "grid_template_rows": null,
            "height": null,
            "justify_content": null,
            "justify_items": null,
            "left": null,
            "margin": null,
            "max_height": null,
            "max_width": null,
            "min_height": null,
            "min_width": null,
            "object_fit": null,
            "object_position": null,
            "order": null,
            "overflow": null,
            "overflow_x": null,
            "overflow_y": null,
            "padding": null,
            "right": null,
            "top": null,
            "visibility": null,
            "width": null
          }
        },
        "c069b2c3236b47d28d235217c82324b2": {
          "model_module": "@jupyter-widgets/controls",
          "model_name": "DescriptionStyleModel",
          "model_module_version": "1.5.0",
          "state": {
            "_model_module": "@jupyter-widgets/controls",
            "_model_module_version": "1.5.0",
            "_model_name": "DescriptionStyleModel",
            "_view_count": null,
            "_view_module": "@jupyter-widgets/base",
            "_view_module_version": "1.2.0",
            "_view_name": "StyleView",
            "description_width": ""
          }
        },
        "5b604c5d906248cc89b1a8ab211179e9": {
          "model_module": "@jupyter-widgets/controls",
          "model_name": "HBoxModel",
          "model_module_version": "1.5.0",
          "state": {
            "_dom_classes": [],
            "_model_module": "@jupyter-widgets/controls",
            "_model_module_version": "1.5.0",
            "_model_name": "HBoxModel",
            "_view_count": null,
            "_view_module": "@jupyter-widgets/controls",
            "_view_module_version": "1.5.0",
            "_view_name": "HBoxView",
            "box_style": "",
            "children": [
              "IPY_MODEL_fff1c7f3a99c40a7ae9f57eb9d0b194a",
              "IPY_MODEL_14d37265be924c11b5f2b4bcdf272361",
              "IPY_MODEL_59b9fc7fe4a545cab9d95d97d3d4b563"
            ],
            "layout": "IPY_MODEL_4a6c49808b334d6d8245594aad8d5f83"
          }
        },
        "fff1c7f3a99c40a7ae9f57eb9d0b194a": {
          "model_module": "@jupyter-widgets/controls",
          "model_name": "HTMLModel",
          "model_module_version": "1.5.0",
          "state": {
            "_dom_classes": [],
            "_model_module": "@jupyter-widgets/controls",
            "_model_module_version": "1.5.0",
            "_model_name": "HTMLModel",
            "_view_count": null,
            "_view_module": "@jupyter-widgets/controls",
            "_view_module_version": "1.5.0",
            "_view_name": "HTMLView",
            "description": "",
            "description_tooltip": null,
            "layout": "IPY_MODEL_953aa88dae954ee5982ba8eb92be89bc",
            "placeholder": "​",
            "style": "IPY_MODEL_084f31bd7f4348f09e91dd0b79d8c22c",
            "value": "Downloading (…)lve/main/config.json: 100%"
          }
        },
        "14d37265be924c11b5f2b4bcdf272361": {
          "model_module": "@jupyter-widgets/controls",
          "model_name": "FloatProgressModel",
          "model_module_version": "1.5.0",
          "state": {
            "_dom_classes": [],
            "_model_module": "@jupyter-widgets/controls",
            "_model_module_version": "1.5.0",
            "_model_name": "FloatProgressModel",
            "_view_count": null,
            "_view_module": "@jupyter-widgets/controls",
            "_view_module_version": "1.5.0",
            "_view_name": "ProgressView",
            "bar_style": "success",
            "description": "",
            "description_tooltip": null,
            "layout": "IPY_MODEL_39e847a1ff964c179b4d61b3ba3efb3c",
            "max": 608,
            "min": 0,
            "orientation": "horizontal",
            "style": "IPY_MODEL_6bf5838c01534f869f0bc45919a406e5",
            "value": 608
          }
        },
        "59b9fc7fe4a545cab9d95d97d3d4b563": {
          "model_module": "@jupyter-widgets/controls",
          "model_name": "HTMLModel",
          "model_module_version": "1.5.0",
          "state": {
            "_dom_classes": [],
            "_model_module": "@jupyter-widgets/controls",
            "_model_module_version": "1.5.0",
            "_model_name": "HTMLModel",
            "_view_count": null,
            "_view_module": "@jupyter-widgets/controls",
            "_view_module_version": "1.5.0",
            "_view_name": "HTMLView",
            "description": "",
            "description_tooltip": null,
            "layout": "IPY_MODEL_d97f0c4a74df4d8a91db5a352d5146fe",
            "placeholder": "​",
            "style": "IPY_MODEL_f7ed1c218d324e97b890d6c3f5a8fce5",
            "value": " 608/608 [00:00&lt;00:00, 30.3kB/s]"
          }
        },
        "4a6c49808b334d6d8245594aad8d5f83": {
          "model_module": "@jupyter-widgets/base",
          "model_name": "LayoutModel",
          "model_module_version": "1.2.0",
          "state": {
            "_model_module": "@jupyter-widgets/base",
            "_model_module_version": "1.2.0",
            "_model_name": "LayoutModel",
            "_view_count": null,
            "_view_module": "@jupyter-widgets/base",
            "_view_module_version": "1.2.0",
            "_view_name": "LayoutView",
            "align_content": null,
            "align_items": null,
            "align_self": null,
            "border": null,
            "bottom": null,
            "display": null,
            "flex": null,
            "flex_flow": null,
            "grid_area": null,
            "grid_auto_columns": null,
            "grid_auto_flow": null,
            "grid_auto_rows": null,
            "grid_column": null,
            "grid_gap": null,
            "grid_row": null,
            "grid_template_areas": null,
            "grid_template_columns": null,
            "grid_template_rows": null,
            "height": null,
            "justify_content": null,
            "justify_items": null,
            "left": null,
            "margin": null,
            "max_height": null,
            "max_width": null,
            "min_height": null,
            "min_width": null,
            "object_fit": null,
            "object_position": null,
            "order": null,
            "overflow": null,
            "overflow_x": null,
            "overflow_y": null,
            "padding": null,
            "right": null,
            "top": null,
            "visibility": null,
            "width": null
          }
        },
        "953aa88dae954ee5982ba8eb92be89bc": {
          "model_module": "@jupyter-widgets/base",
          "model_name": "LayoutModel",
          "model_module_version": "1.2.0",
          "state": {
            "_model_module": "@jupyter-widgets/base",
            "_model_module_version": "1.2.0",
            "_model_name": "LayoutModel",
            "_view_count": null,
            "_view_module": "@jupyter-widgets/base",
            "_view_module_version": "1.2.0",
            "_view_name": "LayoutView",
            "align_content": null,
            "align_items": null,
            "align_self": null,
            "border": null,
            "bottom": null,
            "display": null,
            "flex": null,
            "flex_flow": null,
            "grid_area": null,
            "grid_auto_columns": null,
            "grid_auto_flow": null,
            "grid_auto_rows": null,
            "grid_column": null,
            "grid_gap": null,
            "grid_row": null,
            "grid_template_areas": null,
            "grid_template_columns": null,
            "grid_template_rows": null,
            "height": null,
            "justify_content": null,
            "justify_items": null,
            "left": null,
            "margin": null,
            "max_height": null,
            "max_width": null,
            "min_height": null,
            "min_width": null,
            "object_fit": null,
            "object_position": null,
            "order": null,
            "overflow": null,
            "overflow_x": null,
            "overflow_y": null,
            "padding": null,
            "right": null,
            "top": null,
            "visibility": null,
            "width": null
          }
        },
        "084f31bd7f4348f09e91dd0b79d8c22c": {
          "model_module": "@jupyter-widgets/controls",
          "model_name": "DescriptionStyleModel",
          "model_module_version": "1.5.0",
          "state": {
            "_model_module": "@jupyter-widgets/controls",
            "_model_module_version": "1.5.0",
            "_model_name": "DescriptionStyleModel",
            "_view_count": null,
            "_view_module": "@jupyter-widgets/base",
            "_view_module_version": "1.2.0",
            "_view_name": "StyleView",
            "description_width": ""
          }
        },
        "39e847a1ff964c179b4d61b3ba3efb3c": {
          "model_module": "@jupyter-widgets/base",
          "model_name": "LayoutModel",
          "model_module_version": "1.2.0",
          "state": {
            "_model_module": "@jupyter-widgets/base",
            "_model_module_version": "1.2.0",
            "_model_name": "LayoutModel",
            "_view_count": null,
            "_view_module": "@jupyter-widgets/base",
            "_view_module_version": "1.2.0",
            "_view_name": "LayoutView",
            "align_content": null,
            "align_items": null,
            "align_self": null,
            "border": null,
            "bottom": null,
            "display": null,
            "flex": null,
            "flex_flow": null,
            "grid_area": null,
            "grid_auto_columns": null,
            "grid_auto_flow": null,
            "grid_auto_rows": null,
            "grid_column": null,
            "grid_gap": null,
            "grid_row": null,
            "grid_template_areas": null,
            "grid_template_columns": null,
            "grid_template_rows": null,
            "height": null,
            "justify_content": null,
            "justify_items": null,
            "left": null,
            "margin": null,
            "max_height": null,
            "max_width": null,
            "min_height": null,
            "min_width": null,
            "object_fit": null,
            "object_position": null,
            "order": null,
            "overflow": null,
            "overflow_x": null,
            "overflow_y": null,
            "padding": null,
            "right": null,
            "top": null,
            "visibility": null,
            "width": null
          }
        },
        "6bf5838c01534f869f0bc45919a406e5": {
          "model_module": "@jupyter-widgets/controls",
          "model_name": "ProgressStyleModel",
          "model_module_version": "1.5.0",
          "state": {
            "_model_module": "@jupyter-widgets/controls",
            "_model_module_version": "1.5.0",
            "_model_name": "ProgressStyleModel",
            "_view_count": null,
            "_view_module": "@jupyter-widgets/base",
            "_view_module_version": "1.2.0",
            "_view_name": "StyleView",
            "bar_color": null,
            "description_width": ""
          }
        },
        "d97f0c4a74df4d8a91db5a352d5146fe": {
          "model_module": "@jupyter-widgets/base",
          "model_name": "LayoutModel",
          "model_module_version": "1.2.0",
          "state": {
            "_model_module": "@jupyter-widgets/base",
            "_model_module_version": "1.2.0",
            "_model_name": "LayoutModel",
            "_view_count": null,
            "_view_module": "@jupyter-widgets/base",
            "_view_module_version": "1.2.0",
            "_view_name": "LayoutView",
            "align_content": null,
            "align_items": null,
            "align_self": null,
            "border": null,
            "bottom": null,
            "display": null,
            "flex": null,
            "flex_flow": null,
            "grid_area": null,
            "grid_auto_columns": null,
            "grid_auto_flow": null,
            "grid_auto_rows": null,
            "grid_column": null,
            "grid_gap": null,
            "grid_row": null,
            "grid_template_areas": null,
            "grid_template_columns": null,
            "grid_template_rows": null,
            "height": null,
            "justify_content": null,
            "justify_items": null,
            "left": null,
            "margin": null,
            "max_height": null,
            "max_width": null,
            "min_height": null,
            "min_width": null,
            "object_fit": null,
            "object_position": null,
            "order": null,
            "overflow": null,
            "overflow_x": null,
            "overflow_y": null,
            "padding": null,
            "right": null,
            "top": null,
            "visibility": null,
            "width": null
          }
        },
        "f7ed1c218d324e97b890d6c3f5a8fce5": {
          "model_module": "@jupyter-widgets/controls",
          "model_name": "DescriptionStyleModel",
          "model_module_version": "1.5.0",
          "state": {
            "_model_module": "@jupyter-widgets/controls",
            "_model_module_version": "1.5.0",
            "_model_name": "DescriptionStyleModel",
            "_view_count": null,
            "_view_module": "@jupyter-widgets/base",
            "_view_module_version": "1.2.0",
            "_view_name": "StyleView",
            "description_width": ""
          }
        },
        "cf1bf13a5fc54f5e869baf2bd1b64663": {
          "model_module": "@jupyter-widgets/controls",
          "model_name": "HBoxModel",
          "model_module_version": "1.5.0",
          "state": {
            "_dom_classes": [],
            "_model_module": "@jupyter-widgets/controls",
            "_model_module_version": "1.5.0",
            "_model_name": "HBoxModel",
            "_view_count": null,
            "_view_module": "@jupyter-widgets/controls",
            "_view_module_version": "1.5.0",
            "_view_name": "HBoxView",
            "box_style": "",
            "children": [
              "IPY_MODEL_905dfb97ee854c0da15aa62b439f8a5f",
              "IPY_MODEL_046e160678da4c9eb25488398d0a0153",
              "IPY_MODEL_38aef8fa05a647abb38da9c4bfcf1329"
            ],
            "layout": "IPY_MODEL_56a5f4820d484ecf87e832c7bd351897"
          }
        },
        "905dfb97ee854c0da15aa62b439f8a5f": {
          "model_module": "@jupyter-widgets/controls",
          "model_name": "HTMLModel",
          "model_module_version": "1.5.0",
          "state": {
            "_dom_classes": [],
            "_model_module": "@jupyter-widgets/controls",
            "_model_module_version": "1.5.0",
            "_model_name": "HTMLModel",
            "_view_count": null,
            "_view_module": "@jupyter-widgets/controls",
            "_view_module_version": "1.5.0",
            "_view_name": "HTMLView",
            "description": "",
            "description_tooltip": null,
            "layout": "IPY_MODEL_91ab3389ca8f4ca4b8bd2fee4799dd90",
            "placeholder": "​",
            "style": "IPY_MODEL_20abe05bb6f84b83bf7f6f824face7dd",
            "value": "Downloading pytorch_model.bin: 100%"
          }
        },
        "046e160678da4c9eb25488398d0a0153": {
          "model_module": "@jupyter-widgets/controls",
          "model_name": "FloatProgressModel",
          "model_module_version": "1.5.0",
          "state": {
            "_dom_classes": [],
            "_model_module": "@jupyter-widgets/controls",
            "_model_module_version": "1.5.0",
            "_model_name": "FloatProgressModel",
            "_view_count": null,
            "_view_module": "@jupyter-widgets/controls",
            "_view_module_version": "1.5.0",
            "_view_name": "ProgressView",
            "bar_style": "success",
            "description": "",
            "description_tooltip": null,
            "layout": "IPY_MODEL_5ccd769507414b0f8e63e94e6fff1f01",
            "max": 551290714,
            "min": 0,
            "orientation": "horizontal",
            "style": "IPY_MODEL_f8f25513b6ce4fe1a40ffa69643770fb",
            "value": 551290714
          }
        },
        "38aef8fa05a647abb38da9c4bfcf1329": {
          "model_module": "@jupyter-widgets/controls",
          "model_name": "HTMLModel",
          "model_module_version": "1.5.0",
          "state": {
            "_dom_classes": [],
            "_model_module": "@jupyter-widgets/controls",
            "_model_module_version": "1.5.0",
            "_model_name": "HTMLModel",
            "_view_count": null,
            "_view_module": "@jupyter-widgets/controls",
            "_view_module_version": "1.5.0",
            "_view_name": "HTMLView",
            "description": "",
            "description_tooltip": null,
            "layout": "IPY_MODEL_05db510a812742f98e5844dfca005f73",
            "placeholder": "​",
            "style": "IPY_MODEL_265dcbb0aa194824ba147ead742c7afb",
            "value": " 551M/551M [00:02&lt;00:00, 239MB/s]"
          }
        },
        "56a5f4820d484ecf87e832c7bd351897": {
          "model_module": "@jupyter-widgets/base",
          "model_name": "LayoutModel",
          "model_module_version": "1.2.0",
          "state": {
            "_model_module": "@jupyter-widgets/base",
            "_model_module_version": "1.2.0",
            "_model_name": "LayoutModel",
            "_view_count": null,
            "_view_module": "@jupyter-widgets/base",
            "_view_module_version": "1.2.0",
            "_view_name": "LayoutView",
            "align_content": null,
            "align_items": null,
            "align_self": null,
            "border": null,
            "bottom": null,
            "display": null,
            "flex": null,
            "flex_flow": null,
            "grid_area": null,
            "grid_auto_columns": null,
            "grid_auto_flow": null,
            "grid_auto_rows": null,
            "grid_column": null,
            "grid_gap": null,
            "grid_row": null,
            "grid_template_areas": null,
            "grid_template_columns": null,
            "grid_template_rows": null,
            "height": null,
            "justify_content": null,
            "justify_items": null,
            "left": null,
            "margin": null,
            "max_height": null,
            "max_width": null,
            "min_height": null,
            "min_width": null,
            "object_fit": null,
            "object_position": null,
            "order": null,
            "overflow": null,
            "overflow_x": null,
            "overflow_y": null,
            "padding": null,
            "right": null,
            "top": null,
            "visibility": null,
            "width": null
          }
        },
        "91ab3389ca8f4ca4b8bd2fee4799dd90": {
          "model_module": "@jupyter-widgets/base",
          "model_name": "LayoutModel",
          "model_module_version": "1.2.0",
          "state": {
            "_model_module": "@jupyter-widgets/base",
            "_model_module_version": "1.2.0",
            "_model_name": "LayoutModel",
            "_view_count": null,
            "_view_module": "@jupyter-widgets/base",
            "_view_module_version": "1.2.0",
            "_view_name": "LayoutView",
            "align_content": null,
            "align_items": null,
            "align_self": null,
            "border": null,
            "bottom": null,
            "display": null,
            "flex": null,
            "flex_flow": null,
            "grid_area": null,
            "grid_auto_columns": null,
            "grid_auto_flow": null,
            "grid_auto_rows": null,
            "grid_column": null,
            "grid_gap": null,
            "grid_row": null,
            "grid_template_areas": null,
            "grid_template_columns": null,
            "grid_template_rows": null,
            "height": null,
            "justify_content": null,
            "justify_items": null,
            "left": null,
            "margin": null,
            "max_height": null,
            "max_width": null,
            "min_height": null,
            "min_width": null,
            "object_fit": null,
            "object_position": null,
            "order": null,
            "overflow": null,
            "overflow_x": null,
            "overflow_y": null,
            "padding": null,
            "right": null,
            "top": null,
            "visibility": null,
            "width": null
          }
        },
        "20abe05bb6f84b83bf7f6f824face7dd": {
          "model_module": "@jupyter-widgets/controls",
          "model_name": "DescriptionStyleModel",
          "model_module_version": "1.5.0",
          "state": {
            "_model_module": "@jupyter-widgets/controls",
            "_model_module_version": "1.5.0",
            "_model_name": "DescriptionStyleModel",
            "_view_count": null,
            "_view_module": "@jupyter-widgets/base",
            "_view_module_version": "1.2.0",
            "_view_name": "StyleView",
            "description_width": ""
          }
        },
        "5ccd769507414b0f8e63e94e6fff1f01": {
          "model_module": "@jupyter-widgets/base",
          "model_name": "LayoutModel",
          "model_module_version": "1.2.0",
          "state": {
            "_model_module": "@jupyter-widgets/base",
            "_model_module_version": "1.2.0",
            "_model_name": "LayoutModel",
            "_view_count": null,
            "_view_module": "@jupyter-widgets/base",
            "_view_module_version": "1.2.0",
            "_view_name": "LayoutView",
            "align_content": null,
            "align_items": null,
            "align_self": null,
            "border": null,
            "bottom": null,
            "display": null,
            "flex": null,
            "flex_flow": null,
            "grid_area": null,
            "grid_auto_columns": null,
            "grid_auto_flow": null,
            "grid_auto_rows": null,
            "grid_column": null,
            "grid_gap": null,
            "grid_row": null,
            "grid_template_areas": null,
            "grid_template_columns": null,
            "grid_template_rows": null,
            "height": null,
            "justify_content": null,
            "justify_items": null,
            "left": null,
            "margin": null,
            "max_height": null,
            "max_width": null,
            "min_height": null,
            "min_width": null,
            "object_fit": null,
            "object_position": null,
            "order": null,
            "overflow": null,
            "overflow_x": null,
            "overflow_y": null,
            "padding": null,
            "right": null,
            "top": null,
            "visibility": null,
            "width": null
          }
        },
        "f8f25513b6ce4fe1a40ffa69643770fb": {
          "model_module": "@jupyter-widgets/controls",
          "model_name": "ProgressStyleModel",
          "model_module_version": "1.5.0",
          "state": {
            "_model_module": "@jupyter-widgets/controls",
            "_model_module_version": "1.5.0",
            "_model_name": "ProgressStyleModel",
            "_view_count": null,
            "_view_module": "@jupyter-widgets/base",
            "_view_module_version": "1.2.0",
            "_view_name": "StyleView",
            "bar_color": null,
            "description_width": ""
          }
        },
        "05db510a812742f98e5844dfca005f73": {
          "model_module": "@jupyter-widgets/base",
          "model_name": "LayoutModel",
          "model_module_version": "1.2.0",
          "state": {
            "_model_module": "@jupyter-widgets/base",
            "_model_module_version": "1.2.0",
            "_model_name": "LayoutModel",
            "_view_count": null,
            "_view_module": "@jupyter-widgets/base",
            "_view_module_version": "1.2.0",
            "_view_name": "LayoutView",
            "align_content": null,
            "align_items": null,
            "align_self": null,
            "border": null,
            "bottom": null,
            "display": null,
            "flex": null,
            "flex_flow": null,
            "grid_area": null,
            "grid_auto_columns": null,
            "grid_auto_flow": null,
            "grid_auto_rows": null,
            "grid_column": null,
            "grid_gap": null,
            "grid_row": null,
            "grid_template_areas": null,
            "grid_template_columns": null,
            "grid_template_rows": null,
            "height": null,
            "justify_content": null,
            "justify_items": null,
            "left": null,
            "margin": null,
            "max_height": null,
            "max_width": null,
            "min_height": null,
            "min_width": null,
            "object_fit": null,
            "object_position": null,
            "order": null,
            "overflow": null,
            "overflow_x": null,
            "overflow_y": null,
            "padding": null,
            "right": null,
            "top": null,
            "visibility": null,
            "width": null
          }
        },
        "265dcbb0aa194824ba147ead742c7afb": {
          "model_module": "@jupyter-widgets/controls",
          "model_name": "DescriptionStyleModel",
          "model_module_version": "1.5.0",
          "state": {
            "_model_module": "@jupyter-widgets/controls",
            "_model_module_version": "1.5.0",
            "_model_name": "DescriptionStyleModel",
            "_view_count": null,
            "_view_module": "@jupyter-widgets/base",
            "_view_module_version": "1.2.0",
            "_view_name": "StyleView",
            "description_width": ""
          }
        },
        "5ed65f593b28416082513b794bbf8af6": {
          "model_module": "@jupyter-widgets/controls",
          "model_name": "HBoxModel",
          "model_module_version": "1.5.0",
          "state": {
            "_dom_classes": [],
            "_model_module": "@jupyter-widgets/controls",
            "_model_module_version": "1.5.0",
            "_model_name": "HBoxModel",
            "_view_count": null,
            "_view_module": "@jupyter-widgets/controls",
            "_view_module_version": "1.5.0",
            "_view_name": "HBoxView",
            "box_style": "",
            "children": [
              "IPY_MODEL_dd01842952ed4741b1df842d2d8479a5",
              "IPY_MODEL_4088b97a836a4bbf8fbdb35cd2a15a07",
              "IPY_MODEL_c53e7636b01b43b888bf589277d42345"
            ],
            "layout": "IPY_MODEL_aa9c3a55925d4eedb4586c26c3abc5c8"
          }
        },
        "dd01842952ed4741b1df842d2d8479a5": {
          "model_module": "@jupyter-widgets/controls",
          "model_name": "HTMLModel",
          "model_module_version": "1.5.0",
          "state": {
            "_dom_classes": [],
            "_model_module": "@jupyter-widgets/controls",
            "_model_module_version": "1.5.0",
            "_model_name": "HTMLModel",
            "_view_count": null,
            "_view_module": "@jupyter-widgets/controls",
            "_view_module_version": "1.5.0",
            "_view_name": "HTMLView",
            "description": "",
            "description_tooltip": null,
            "layout": "IPY_MODEL_28820f1315264935a6d2a1a571f152c9",
            "placeholder": "​",
            "style": "IPY_MODEL_c39230b912de4f789967d77399fc0454",
            "value": "Downloading (…)olve/main/vocab.json: 100%"
          }
        },
        "4088b97a836a4bbf8fbdb35cd2a15a07": {
          "model_module": "@jupyter-widgets/controls",
          "model_name": "FloatProgressModel",
          "model_module_version": "1.5.0",
          "state": {
            "_dom_classes": [],
            "_model_module": "@jupyter-widgets/controls",
            "_model_module_version": "1.5.0",
            "_model_name": "FloatProgressModel",
            "_view_count": null,
            "_view_module": "@jupyter-widgets/controls",
            "_view_module_version": "1.5.0",
            "_view_name": "ProgressView",
            "bar_style": "success",
            "description": "",
            "description_tooltip": null,
            "layout": "IPY_MODEL_26aac345311041d1a0b5c0d0dd41d33e",
            "max": 1612610,
            "min": 0,
            "orientation": "horizontal",
            "style": "IPY_MODEL_27cd0cdf9acc438f999afd74e78b5d51",
            "value": 1612610
          }
        },
        "c53e7636b01b43b888bf589277d42345": {
          "model_module": "@jupyter-widgets/controls",
          "model_name": "HTMLModel",
          "model_module_version": "1.5.0",
          "state": {
            "_dom_classes": [],
            "_model_module": "@jupyter-widgets/controls",
            "_model_module_version": "1.5.0",
            "_model_name": "HTMLModel",
            "_view_count": null,
            "_view_module": "@jupyter-widgets/controls",
            "_view_module_version": "1.5.0",
            "_view_name": "HTMLView",
            "description": "",
            "description_tooltip": null,
            "layout": "IPY_MODEL_da4f08818cfb482a83feb86f3a5d5931",
            "placeholder": "​",
            "style": "IPY_MODEL_3c355c60931a4415bff3d030c722a03d",
            "value": " 1.61M/1.61M [00:00&lt;00:00, 3.17MB/s]"
          }
        },
        "aa9c3a55925d4eedb4586c26c3abc5c8": {
          "model_module": "@jupyter-widgets/base",
          "model_name": "LayoutModel",
          "model_module_version": "1.2.0",
          "state": {
            "_model_module": "@jupyter-widgets/base",
            "_model_module_version": "1.2.0",
            "_model_name": "LayoutModel",
            "_view_count": null,
            "_view_module": "@jupyter-widgets/base",
            "_view_module_version": "1.2.0",
            "_view_name": "LayoutView",
            "align_content": null,
            "align_items": null,
            "align_self": null,
            "border": null,
            "bottom": null,
            "display": null,
            "flex": null,
            "flex_flow": null,
            "grid_area": null,
            "grid_auto_columns": null,
            "grid_auto_flow": null,
            "grid_auto_rows": null,
            "grid_column": null,
            "grid_gap": null,
            "grid_row": null,
            "grid_template_areas": null,
            "grid_template_columns": null,
            "grid_template_rows": null,
            "height": null,
            "justify_content": null,
            "justify_items": null,
            "left": null,
            "margin": null,
            "max_height": null,
            "max_width": null,
            "min_height": null,
            "min_width": null,
            "object_fit": null,
            "object_position": null,
            "order": null,
            "overflow": null,
            "overflow_x": null,
            "overflow_y": null,
            "padding": null,
            "right": null,
            "top": null,
            "visibility": null,
            "width": null
          }
        },
        "28820f1315264935a6d2a1a571f152c9": {
          "model_module": "@jupyter-widgets/base",
          "model_name": "LayoutModel",
          "model_module_version": "1.2.0",
          "state": {
            "_model_module": "@jupyter-widgets/base",
            "_model_module_version": "1.2.0",
            "_model_name": "LayoutModel",
            "_view_count": null,
            "_view_module": "@jupyter-widgets/base",
            "_view_module_version": "1.2.0",
            "_view_name": "LayoutView",
            "align_content": null,
            "align_items": null,
            "align_self": null,
            "border": null,
            "bottom": null,
            "display": null,
            "flex": null,
            "flex_flow": null,
            "grid_area": null,
            "grid_auto_columns": null,
            "grid_auto_flow": null,
            "grid_auto_rows": null,
            "grid_column": null,
            "grid_gap": null,
            "grid_row": null,
            "grid_template_areas": null,
            "grid_template_columns": null,
            "grid_template_rows": null,
            "height": null,
            "justify_content": null,
            "justify_items": null,
            "left": null,
            "margin": null,
            "max_height": null,
            "max_width": null,
            "min_height": null,
            "min_width": null,
            "object_fit": null,
            "object_position": null,
            "order": null,
            "overflow": null,
            "overflow_x": null,
            "overflow_y": null,
            "padding": null,
            "right": null,
            "top": null,
            "visibility": null,
            "width": null
          }
        },
        "c39230b912de4f789967d77399fc0454": {
          "model_module": "@jupyter-widgets/controls",
          "model_name": "DescriptionStyleModel",
          "model_module_version": "1.5.0",
          "state": {
            "_model_module": "@jupyter-widgets/controls",
            "_model_module_version": "1.5.0",
            "_model_name": "DescriptionStyleModel",
            "_view_count": null,
            "_view_module": "@jupyter-widgets/base",
            "_view_module_version": "1.2.0",
            "_view_name": "StyleView",
            "description_width": ""
          }
        },
        "26aac345311041d1a0b5c0d0dd41d33e": {
          "model_module": "@jupyter-widgets/base",
          "model_name": "LayoutModel",
          "model_module_version": "1.2.0",
          "state": {
            "_model_module": "@jupyter-widgets/base",
            "_model_module_version": "1.2.0",
            "_model_name": "LayoutModel",
            "_view_count": null,
            "_view_module": "@jupyter-widgets/base",
            "_view_module_version": "1.2.0",
            "_view_name": "LayoutView",
            "align_content": null,
            "align_items": null,
            "align_self": null,
            "border": null,
            "bottom": null,
            "display": null,
            "flex": null,
            "flex_flow": null,
            "grid_area": null,
            "grid_auto_columns": null,
            "grid_auto_flow": null,
            "grid_auto_rows": null,
            "grid_column": null,
            "grid_gap": null,
            "grid_row": null,
            "grid_template_areas": null,
            "grid_template_columns": null,
            "grid_template_rows": null,
            "height": null,
            "justify_content": null,
            "justify_items": null,
            "left": null,
            "margin": null,
            "max_height": null,
            "max_width": null,
            "min_height": null,
            "min_width": null,
            "object_fit": null,
            "object_position": null,
            "order": null,
            "overflow": null,
            "overflow_x": null,
            "overflow_y": null,
            "padding": null,
            "right": null,
            "top": null,
            "visibility": null,
            "width": null
          }
        },
        "27cd0cdf9acc438f999afd74e78b5d51": {
          "model_module": "@jupyter-widgets/controls",
          "model_name": "ProgressStyleModel",
          "model_module_version": "1.5.0",
          "state": {
            "_model_module": "@jupyter-widgets/controls",
            "_model_module_version": "1.5.0",
            "_model_name": "ProgressStyleModel",
            "_view_count": null,
            "_view_module": "@jupyter-widgets/base",
            "_view_module_version": "1.2.0",
            "_view_name": "StyleView",
            "bar_color": null,
            "description_width": ""
          }
        },
        "da4f08818cfb482a83feb86f3a5d5931": {
          "model_module": "@jupyter-widgets/base",
          "model_name": "LayoutModel",
          "model_module_version": "1.2.0",
          "state": {
            "_model_module": "@jupyter-widgets/base",
            "_model_module_version": "1.2.0",
            "_model_name": "LayoutModel",
            "_view_count": null,
            "_view_module": "@jupyter-widgets/base",
            "_view_module_version": "1.2.0",
            "_view_name": "LayoutView",
            "align_content": null,
            "align_items": null,
            "align_self": null,
            "border": null,
            "bottom": null,
            "display": null,
            "flex": null,
            "flex_flow": null,
            "grid_area": null,
            "grid_auto_columns": null,
            "grid_auto_flow": null,
            "grid_auto_rows": null,
            "grid_column": null,
            "grid_gap": null,
            "grid_row": null,
            "grid_template_areas": null,
            "grid_template_columns": null,
            "grid_template_rows": null,
            "height": null,
            "justify_content": null,
            "justify_items": null,
            "left": null,
            "margin": null,
            "max_height": null,
            "max_width": null,
            "min_height": null,
            "min_width": null,
            "object_fit": null,
            "object_position": null,
            "order": null,
            "overflow": null,
            "overflow_x": null,
            "overflow_y": null,
            "padding": null,
            "right": null,
            "top": null,
            "visibility": null,
            "width": null
          }
        },
        "3c355c60931a4415bff3d030c722a03d": {
          "model_module": "@jupyter-widgets/controls",
          "model_name": "DescriptionStyleModel",
          "model_module_version": "1.5.0",
          "state": {
            "_model_module": "@jupyter-widgets/controls",
            "_model_module_version": "1.5.0",
            "_model_name": "DescriptionStyleModel",
            "_view_count": null,
            "_view_module": "@jupyter-widgets/base",
            "_view_module_version": "1.2.0",
            "_view_name": "StyleView",
            "description_width": ""
          }
        },
        "6df05726c77b4a2f9ffda04c7d9cc822": {
          "model_module": "@jupyter-widgets/controls",
          "model_name": "HBoxModel",
          "model_module_version": "1.5.0",
          "state": {
            "_dom_classes": [],
            "_model_module": "@jupyter-widgets/controls",
            "_model_module_version": "1.5.0",
            "_model_name": "HBoxModel",
            "_view_count": null,
            "_view_module": "@jupyter-widgets/controls",
            "_view_module_version": "1.5.0",
            "_view_name": "HBoxView",
            "box_style": "",
            "children": [
              "IPY_MODEL_62a819377dfa4c31b7c1eb5ef9cdd856",
              "IPY_MODEL_9c743747d3cd4a53819086c20fdc2573",
              "IPY_MODEL_731146bc2b3149ec9bc6cd2ea99915d9"
            ],
            "layout": "IPY_MODEL_2fd4668e43c149dc99d0f469953873a4"
          }
        },
        "62a819377dfa4c31b7c1eb5ef9cdd856": {
          "model_module": "@jupyter-widgets/controls",
          "model_name": "HTMLModel",
          "model_module_version": "1.5.0",
          "state": {
            "_dom_classes": [],
            "_model_module": "@jupyter-widgets/controls",
            "_model_module_version": "1.5.0",
            "_model_name": "HTMLModel",
            "_view_count": null,
            "_view_module": "@jupyter-widgets/controls",
            "_view_module_version": "1.5.0",
            "_view_name": "HTMLView",
            "description": "",
            "description_tooltip": null,
            "layout": "IPY_MODEL_dafca9bf5df140bb907f4665c6df4fd4",
            "placeholder": "​",
            "style": "IPY_MODEL_4f7036a4ddfc45ceb7b3cbfcdc062e8f",
            "value": "Downloading (…)olve/main/merges.txt: 100%"
          }
        },
        "9c743747d3cd4a53819086c20fdc2573": {
          "model_module": "@jupyter-widgets/controls",
          "model_name": "FloatProgressModel",
          "model_module_version": "1.5.0",
          "state": {
            "_dom_classes": [],
            "_model_module": "@jupyter-widgets/controls",
            "_model_module_version": "1.5.0",
            "_model_name": "FloatProgressModel",
            "_view_count": null,
            "_view_module": "@jupyter-widgets/controls",
            "_view_module_version": "1.5.0",
            "_view_name": "ProgressView",
            "bar_style": "success",
            "description": "",
            "description_tooltip": null,
            "layout": "IPY_MODEL_092ec18872d6467dae46dd27553a3c05",
            "max": 1270963,
            "min": 0,
            "orientation": "horizontal",
            "style": "IPY_MODEL_ea245e7122824c82b9459fbf399b636a",
            "value": 1270963
          }
        },
        "731146bc2b3149ec9bc6cd2ea99915d9": {
          "model_module": "@jupyter-widgets/controls",
          "model_name": "HTMLModel",
          "model_module_version": "1.5.0",
          "state": {
            "_dom_classes": [],
            "_model_module": "@jupyter-widgets/controls",
            "_model_module_version": "1.5.0",
            "_model_name": "HTMLModel",
            "_view_count": null,
            "_view_module": "@jupyter-widgets/controls",
            "_view_module_version": "1.5.0",
            "_view_name": "HTMLView",
            "description": "",
            "description_tooltip": null,
            "layout": "IPY_MODEL_df5963a8cec649b88f10081f33b0dbbe",
            "placeholder": "​",
            "style": "IPY_MODEL_d8117320c22448a7972be771979e5761",
            "value": " 1.27M/1.27M [00:00&lt;00:00, 2.81MB/s]"
          }
        },
        "2fd4668e43c149dc99d0f469953873a4": {
          "model_module": "@jupyter-widgets/base",
          "model_name": "LayoutModel",
          "model_module_version": "1.2.0",
          "state": {
            "_model_module": "@jupyter-widgets/base",
            "_model_module_version": "1.2.0",
            "_model_name": "LayoutModel",
            "_view_count": null,
            "_view_module": "@jupyter-widgets/base",
            "_view_module_version": "1.2.0",
            "_view_name": "LayoutView",
            "align_content": null,
            "align_items": null,
            "align_self": null,
            "border": null,
            "bottom": null,
            "display": null,
            "flex": null,
            "flex_flow": null,
            "grid_area": null,
            "grid_auto_columns": null,
            "grid_auto_flow": null,
            "grid_auto_rows": null,
            "grid_column": null,
            "grid_gap": null,
            "grid_row": null,
            "grid_template_areas": null,
            "grid_template_columns": null,
            "grid_template_rows": null,
            "height": null,
            "justify_content": null,
            "justify_items": null,
            "left": null,
            "margin": null,
            "max_height": null,
            "max_width": null,
            "min_height": null,
            "min_width": null,
            "object_fit": null,
            "object_position": null,
            "order": null,
            "overflow": null,
            "overflow_x": null,
            "overflow_y": null,
            "padding": null,
            "right": null,
            "top": null,
            "visibility": null,
            "width": null
          }
        },
        "dafca9bf5df140bb907f4665c6df4fd4": {
          "model_module": "@jupyter-widgets/base",
          "model_name": "LayoutModel",
          "model_module_version": "1.2.0",
          "state": {
            "_model_module": "@jupyter-widgets/base",
            "_model_module_version": "1.2.0",
            "_model_name": "LayoutModel",
            "_view_count": null,
            "_view_module": "@jupyter-widgets/base",
            "_view_module_version": "1.2.0",
            "_view_name": "LayoutView",
            "align_content": null,
            "align_items": null,
            "align_self": null,
            "border": null,
            "bottom": null,
            "display": null,
            "flex": null,
            "flex_flow": null,
            "grid_area": null,
            "grid_auto_columns": null,
            "grid_auto_flow": null,
            "grid_auto_rows": null,
            "grid_column": null,
            "grid_gap": null,
            "grid_row": null,
            "grid_template_areas": null,
            "grid_template_columns": null,
            "grid_template_rows": null,
            "height": null,
            "justify_content": null,
            "justify_items": null,
            "left": null,
            "margin": null,
            "max_height": null,
            "max_width": null,
            "min_height": null,
            "min_width": null,
            "object_fit": null,
            "object_position": null,
            "order": null,
            "overflow": null,
            "overflow_x": null,
            "overflow_y": null,
            "padding": null,
            "right": null,
            "top": null,
            "visibility": null,
            "width": null
          }
        },
        "4f7036a4ddfc45ceb7b3cbfcdc062e8f": {
          "model_module": "@jupyter-widgets/controls",
          "model_name": "DescriptionStyleModel",
          "model_module_version": "1.5.0",
          "state": {
            "_model_module": "@jupyter-widgets/controls",
            "_model_module_version": "1.5.0",
            "_model_name": "DescriptionStyleModel",
            "_view_count": null,
            "_view_module": "@jupyter-widgets/base",
            "_view_module_version": "1.2.0",
            "_view_name": "StyleView",
            "description_width": ""
          }
        },
        "092ec18872d6467dae46dd27553a3c05": {
          "model_module": "@jupyter-widgets/base",
          "model_name": "LayoutModel",
          "model_module_version": "1.2.0",
          "state": {
            "_model_module": "@jupyter-widgets/base",
            "_model_module_version": "1.2.0",
            "_model_name": "LayoutModel",
            "_view_count": null,
            "_view_module": "@jupyter-widgets/base",
            "_view_module_version": "1.2.0",
            "_view_name": "LayoutView",
            "align_content": null,
            "align_items": null,
            "align_self": null,
            "border": null,
            "bottom": null,
            "display": null,
            "flex": null,
            "flex_flow": null,
            "grid_area": null,
            "grid_auto_columns": null,
            "grid_auto_flow": null,
            "grid_auto_rows": null,
            "grid_column": null,
            "grid_gap": null,
            "grid_row": null,
            "grid_template_areas": null,
            "grid_template_columns": null,
            "grid_template_rows": null,
            "height": null,
            "justify_content": null,
            "justify_items": null,
            "left": null,
            "margin": null,
            "max_height": null,
            "max_width": null,
            "min_height": null,
            "min_width": null,
            "object_fit": null,
            "object_position": null,
            "order": null,
            "overflow": null,
            "overflow_x": null,
            "overflow_y": null,
            "padding": null,
            "right": null,
            "top": null,
            "visibility": null,
            "width": null
          }
        },
        "ea245e7122824c82b9459fbf399b636a": {
          "model_module": "@jupyter-widgets/controls",
          "model_name": "ProgressStyleModel",
          "model_module_version": "1.5.0",
          "state": {
            "_model_module": "@jupyter-widgets/controls",
            "_model_module_version": "1.5.0",
            "_model_name": "ProgressStyleModel",
            "_view_count": null,
            "_view_module": "@jupyter-widgets/base",
            "_view_module_version": "1.2.0",
            "_view_name": "StyleView",
            "bar_color": null,
            "description_width": ""
          }
        },
        "df5963a8cec649b88f10081f33b0dbbe": {
          "model_module": "@jupyter-widgets/base",
          "model_name": "LayoutModel",
          "model_module_version": "1.2.0",
          "state": {
            "_model_module": "@jupyter-widgets/base",
            "_model_module_version": "1.2.0",
            "_model_name": "LayoutModel",
            "_view_count": null,
            "_view_module": "@jupyter-widgets/base",
            "_view_module_version": "1.2.0",
            "_view_name": "LayoutView",
            "align_content": null,
            "align_items": null,
            "align_self": null,
            "border": null,
            "bottom": null,
            "display": null,
            "flex": null,
            "flex_flow": null,
            "grid_area": null,
            "grid_auto_columns": null,
            "grid_auto_flow": null,
            "grid_auto_rows": null,
            "grid_column": null,
            "grid_gap": null,
            "grid_row": null,
            "grid_template_areas": null,
            "grid_template_columns": null,
            "grid_template_rows": null,
            "height": null,
            "justify_content": null,
            "justify_items": null,
            "left": null,
            "margin": null,
            "max_height": null,
            "max_width": null,
            "min_height": null,
            "min_width": null,
            "object_fit": null,
            "object_position": null,
            "order": null,
            "overflow": null,
            "overflow_x": null,
            "overflow_y": null,
            "padding": null,
            "right": null,
            "top": null,
            "visibility": null,
            "width": null
          }
        },
        "d8117320c22448a7972be771979e5761": {
          "model_module": "@jupyter-widgets/controls",
          "model_name": "DescriptionStyleModel",
          "model_module_version": "1.5.0",
          "state": {
            "_model_module": "@jupyter-widgets/controls",
            "_model_module_version": "1.5.0",
            "_model_name": "DescriptionStyleModel",
            "_view_count": null,
            "_view_module": "@jupyter-widgets/base",
            "_view_module_version": "1.2.0",
            "_view_name": "StyleView",
            "description_width": ""
          }
        },
        "975eba2e03f343da95a1104b23b296a8": {
          "model_module": "@jupyter-widgets/controls",
          "model_name": "HBoxModel",
          "model_module_version": "1.5.0",
          "state": {
            "_dom_classes": [],
            "_model_module": "@jupyter-widgets/controls",
            "_model_module_version": "1.5.0",
            "_model_name": "HBoxModel",
            "_view_count": null,
            "_view_module": "@jupyter-widgets/controls",
            "_view_module_version": "1.5.0",
            "_view_name": "HBoxView",
            "box_style": "",
            "children": [
              "IPY_MODEL_54db278f28e640e2a4f779ebab22cdd9",
              "IPY_MODEL_ecf012f3bb0f445cb67de91da4b2732a",
              "IPY_MODEL_4409913ef02748c890d0b00c76743d45"
            ],
            "layout": "IPY_MODEL_6a90235da33f49fb8bc18c3e7c438ad9"
          }
        },
        "54db278f28e640e2a4f779ebab22cdd9": {
          "model_module": "@jupyter-widgets/controls",
          "model_name": "HTMLModel",
          "model_module_version": "1.5.0",
          "state": {
            "_dom_classes": [],
            "_model_module": "@jupyter-widgets/controls",
            "_model_module_version": "1.5.0",
            "_model_name": "HTMLModel",
            "_view_count": null,
            "_view_module": "@jupyter-widgets/controls",
            "_view_module_version": "1.5.0",
            "_view_name": "HTMLView",
            "description": "",
            "description_tooltip": null,
            "layout": "IPY_MODEL_2f337341a2524cab915be6c426e3681c",
            "placeholder": "​",
            "style": "IPY_MODEL_a81e1b013b7f4e298c4ae93c607fc05b",
            "value": "Downloading (…)lve/main/config.json: 100%"
          }
        },
        "ecf012f3bb0f445cb67de91da4b2732a": {
          "model_module": "@jupyter-widgets/controls",
          "model_name": "FloatProgressModel",
          "model_module_version": "1.5.0",
          "state": {
            "_dom_classes": [],
            "_model_module": "@jupyter-widgets/controls",
            "_model_module_version": "1.5.0",
            "_model_name": "FloatProgressModel",
            "_view_count": null,
            "_view_module": "@jupyter-widgets/controls",
            "_view_module_version": "1.5.0",
            "_view_name": "ProgressView",
            "bar_style": "success",
            "description": "",
            "description_tooltip": null,
            "layout": "IPY_MODEL_792b2ce8965047e9a337bd659bf4752c",
            "max": 674,
            "min": 0,
            "orientation": "horizontal",
            "style": "IPY_MODEL_fab7a73abcd94d2891f4bddca252e7f0",
            "value": 674
          }
        },
        "4409913ef02748c890d0b00c76743d45": {
          "model_module": "@jupyter-widgets/controls",
          "model_name": "HTMLModel",
          "model_module_version": "1.5.0",
          "state": {
            "_dom_classes": [],
            "_model_module": "@jupyter-widgets/controls",
            "_model_module_version": "1.5.0",
            "_model_name": "HTMLModel",
            "_view_count": null,
            "_view_module": "@jupyter-widgets/controls",
            "_view_module_version": "1.5.0",
            "_view_name": "HTMLView",
            "description": "",
            "description_tooltip": null,
            "layout": "IPY_MODEL_21d06e13f4b64c3ab6ecb05b49952535",
            "placeholder": "​",
            "style": "IPY_MODEL_02763868ceea47fbadb2c464f69dff85",
            "value": " 674/674 [00:00&lt;00:00, 30.3kB/s]"
          }
        },
        "6a90235da33f49fb8bc18c3e7c438ad9": {
          "model_module": "@jupyter-widgets/base",
          "model_name": "LayoutModel",
          "model_module_version": "1.2.0",
          "state": {
            "_model_module": "@jupyter-widgets/base",
            "_model_module_version": "1.2.0",
            "_model_name": "LayoutModel",
            "_view_count": null,
            "_view_module": "@jupyter-widgets/base",
            "_view_module_version": "1.2.0",
            "_view_name": "LayoutView",
            "align_content": null,
            "align_items": null,
            "align_self": null,
            "border": null,
            "bottom": null,
            "display": null,
            "flex": null,
            "flex_flow": null,
            "grid_area": null,
            "grid_auto_columns": null,
            "grid_auto_flow": null,
            "grid_auto_rows": null,
            "grid_column": null,
            "grid_gap": null,
            "grid_row": null,
            "grid_template_areas": null,
            "grid_template_columns": null,
            "grid_template_rows": null,
            "height": null,
            "justify_content": null,
            "justify_items": null,
            "left": null,
            "margin": null,
            "max_height": null,
            "max_width": null,
            "min_height": null,
            "min_width": null,
            "object_fit": null,
            "object_position": null,
            "order": null,
            "overflow": null,
            "overflow_x": null,
            "overflow_y": null,
            "padding": null,
            "right": null,
            "top": null,
            "visibility": null,
            "width": null
          }
        },
        "2f337341a2524cab915be6c426e3681c": {
          "model_module": "@jupyter-widgets/base",
          "model_name": "LayoutModel",
          "model_module_version": "1.2.0",
          "state": {
            "_model_module": "@jupyter-widgets/base",
            "_model_module_version": "1.2.0",
            "_model_name": "LayoutModel",
            "_view_count": null,
            "_view_module": "@jupyter-widgets/base",
            "_view_module_version": "1.2.0",
            "_view_name": "LayoutView",
            "align_content": null,
            "align_items": null,
            "align_self": null,
            "border": null,
            "bottom": null,
            "display": null,
            "flex": null,
            "flex_flow": null,
            "grid_area": null,
            "grid_auto_columns": null,
            "grid_auto_flow": null,
            "grid_auto_rows": null,
            "grid_column": null,
            "grid_gap": null,
            "grid_row": null,
            "grid_template_areas": null,
            "grid_template_columns": null,
            "grid_template_rows": null,
            "height": null,
            "justify_content": null,
            "justify_items": null,
            "left": null,
            "margin": null,
            "max_height": null,
            "max_width": null,
            "min_height": null,
            "min_width": null,
            "object_fit": null,
            "object_position": null,
            "order": null,
            "overflow": null,
            "overflow_x": null,
            "overflow_y": null,
            "padding": null,
            "right": null,
            "top": null,
            "visibility": null,
            "width": null
          }
        },
        "a81e1b013b7f4e298c4ae93c607fc05b": {
          "model_module": "@jupyter-widgets/controls",
          "model_name": "DescriptionStyleModel",
          "model_module_version": "1.5.0",
          "state": {
            "_model_module": "@jupyter-widgets/controls",
            "_model_module_version": "1.5.0",
            "_model_name": "DescriptionStyleModel",
            "_view_count": null,
            "_view_module": "@jupyter-widgets/base",
            "_view_module_version": "1.2.0",
            "_view_name": "StyleView",
            "description_width": ""
          }
        },
        "792b2ce8965047e9a337bd659bf4752c": {
          "model_module": "@jupyter-widgets/base",
          "model_name": "LayoutModel",
          "model_module_version": "1.2.0",
          "state": {
            "_model_module": "@jupyter-widgets/base",
            "_model_module_version": "1.2.0",
            "_model_name": "LayoutModel",
            "_view_count": null,
            "_view_module": "@jupyter-widgets/base",
            "_view_module_version": "1.2.0",
            "_view_name": "LayoutView",
            "align_content": null,
            "align_items": null,
            "align_self": null,
            "border": null,
            "bottom": null,
            "display": null,
            "flex": null,
            "flex_flow": null,
            "grid_area": null,
            "grid_auto_columns": null,
            "grid_auto_flow": null,
            "grid_auto_rows": null,
            "grid_column": null,
            "grid_gap": null,
            "grid_row": null,
            "grid_template_areas": null,
            "grid_template_columns": null,
            "grid_template_rows": null,
            "height": null,
            "justify_content": null,
            "justify_items": null,
            "left": null,
            "margin": null,
            "max_height": null,
            "max_width": null,
            "min_height": null,
            "min_width": null,
            "object_fit": null,
            "object_position": null,
            "order": null,
            "overflow": null,
            "overflow_x": null,
            "overflow_y": null,
            "padding": null,
            "right": null,
            "top": null,
            "visibility": null,
            "width": null
          }
        },
        "fab7a73abcd94d2891f4bddca252e7f0": {
          "model_module": "@jupyter-widgets/controls",
          "model_name": "ProgressStyleModel",
          "model_module_version": "1.5.0",
          "state": {
            "_model_module": "@jupyter-widgets/controls",
            "_model_module_version": "1.5.0",
            "_model_name": "ProgressStyleModel",
            "_view_count": null,
            "_view_module": "@jupyter-widgets/base",
            "_view_module_version": "1.2.0",
            "_view_name": "StyleView",
            "bar_color": null,
            "description_width": ""
          }
        },
        "21d06e13f4b64c3ab6ecb05b49952535": {
          "model_module": "@jupyter-widgets/base",
          "model_name": "LayoutModel",
          "model_module_version": "1.2.0",
          "state": {
            "_model_module": "@jupyter-widgets/base",
            "_model_module_version": "1.2.0",
            "_model_name": "LayoutModel",
            "_view_count": null,
            "_view_module": "@jupyter-widgets/base",
            "_view_module_version": "1.2.0",
            "_view_name": "LayoutView",
            "align_content": null,
            "align_items": null,
            "align_self": null,
            "border": null,
            "bottom": null,
            "display": null,
            "flex": null,
            "flex_flow": null,
            "grid_area": null,
            "grid_auto_columns": null,
            "grid_auto_flow": null,
            "grid_auto_rows": null,
            "grid_column": null,
            "grid_gap": null,
            "grid_row": null,
            "grid_template_areas": null,
            "grid_template_columns": null,
            "grid_template_rows": null,
            "height": null,
            "justify_content": null,
            "justify_items": null,
            "left": null,
            "margin": null,
            "max_height": null,
            "max_width": null,
            "min_height": null,
            "min_width": null,
            "object_fit": null,
            "object_position": null,
            "order": null,
            "overflow": null,
            "overflow_x": null,
            "overflow_y": null,
            "padding": null,
            "right": null,
            "top": null,
            "visibility": null,
            "width": null
          }
        },
        "02763868ceea47fbadb2c464f69dff85": {
          "model_module": "@jupyter-widgets/controls",
          "model_name": "DescriptionStyleModel",
          "model_module_version": "1.5.0",
          "state": {
            "_model_module": "@jupyter-widgets/controls",
            "_model_module_version": "1.5.0",
            "_model_name": "DescriptionStyleModel",
            "_view_count": null,
            "_view_module": "@jupyter-widgets/base",
            "_view_module_version": "1.2.0",
            "_view_name": "StyleView",
            "description_width": ""
          }
        },
        "06aa125c41d74be2a01b8e996e9d21ce": {
          "model_module": "@jupyter-widgets/controls",
          "model_name": "HBoxModel",
          "model_module_version": "1.5.0",
          "state": {
            "_dom_classes": [],
            "_model_module": "@jupyter-widgets/controls",
            "_model_module_version": "1.5.0",
            "_model_name": "HBoxModel",
            "_view_count": null,
            "_view_module": "@jupyter-widgets/controls",
            "_view_module_version": "1.5.0",
            "_view_name": "HBoxView",
            "box_style": "",
            "children": [
              "IPY_MODEL_26e7d90b9ebc4bcc951c3f972e646ba5",
              "IPY_MODEL_cc6b4004ae074508a11f0d953f9fd9c3",
              "IPY_MODEL_a85047a335274dd1b6a670ce45453d05"
            ],
            "layout": "IPY_MODEL_ce5c38e59a12465588ac171d4491c0e7"
          }
        },
        "26e7d90b9ebc4bcc951c3f972e646ba5": {
          "model_module": "@jupyter-widgets/controls",
          "model_name": "HTMLModel",
          "model_module_version": "1.5.0",
          "state": {
            "_dom_classes": [],
            "_model_module": "@jupyter-widgets/controls",
            "_model_module_version": "1.5.0",
            "_model_name": "HTMLModel",
            "_view_count": null,
            "_view_module": "@jupyter-widgets/controls",
            "_view_module_version": "1.5.0",
            "_view_name": "HTMLView",
            "description": "",
            "description_tooltip": null,
            "layout": "IPY_MODEL_04fb6296e8ca4c8a8be9e6c5a320332e",
            "placeholder": "​",
            "style": "IPY_MODEL_d5c6e1120d3c48a08d9f6327371336ff",
            "value": "Downloading pytorch_model.bin: 100%"
          }
        },
        "cc6b4004ae074508a11f0d953f9fd9c3": {
          "model_module": "@jupyter-widgets/controls",
          "model_name": "FloatProgressModel",
          "model_module_version": "1.5.0",
          "state": {
            "_dom_classes": [],
            "_model_module": "@jupyter-widgets/controls",
            "_model_module_version": "1.5.0",
            "_model_name": "FloatProgressModel",
            "_view_count": null,
            "_view_module": "@jupyter-widgets/controls",
            "_view_module_version": "1.5.0",
            "_view_name": "ProgressView",
            "bar_style": "success",
            "description": "",
            "description_tooltip": null,
            "layout": "IPY_MODEL_6ec9cce4a0e4403d99ed2c9dd7a59320",
            "max": 1730074771,
            "min": 0,
            "orientation": "horizontal",
            "style": "IPY_MODEL_67dc719b0dd94c80ad42972649682134",
            "value": 1730074771
          }
        },
        "a85047a335274dd1b6a670ce45453d05": {
          "model_module": "@jupyter-widgets/controls",
          "model_name": "HTMLModel",
          "model_module_version": "1.5.0",
          "state": {
            "_dom_classes": [],
            "_model_module": "@jupyter-widgets/controls",
            "_model_module_version": "1.5.0",
            "_model_name": "HTMLModel",
            "_view_count": null,
            "_view_module": "@jupyter-widgets/controls",
            "_view_module_version": "1.5.0",
            "_view_name": "HTMLView",
            "description": "",
            "description_tooltip": null,
            "layout": "IPY_MODEL_1ac0165524ce48d1873d5b237954f665",
            "placeholder": "​",
            "style": "IPY_MODEL_c40029c0923c4e3e8ccd6fda1ea37200",
            "value": " 1.73G/1.73G [00:06&lt;00:00, 270MB/s]"
          }
        },
        "ce5c38e59a12465588ac171d4491c0e7": {
          "model_module": "@jupyter-widgets/base",
          "model_name": "LayoutModel",
          "model_module_version": "1.2.0",
          "state": {
            "_model_module": "@jupyter-widgets/base",
            "_model_module_version": "1.2.0",
            "_model_name": "LayoutModel",
            "_view_count": null,
            "_view_module": "@jupyter-widgets/base",
            "_view_module_version": "1.2.0",
            "_view_name": "LayoutView",
            "align_content": null,
            "align_items": null,
            "align_self": null,
            "border": null,
            "bottom": null,
            "display": null,
            "flex": null,
            "flex_flow": null,
            "grid_area": null,
            "grid_auto_columns": null,
            "grid_auto_flow": null,
            "grid_auto_rows": null,
            "grid_column": null,
            "grid_gap": null,
            "grid_row": null,
            "grid_template_areas": null,
            "grid_template_columns": null,
            "grid_template_rows": null,
            "height": null,
            "justify_content": null,
            "justify_items": null,
            "left": null,
            "margin": null,
            "max_height": null,
            "max_width": null,
            "min_height": null,
            "min_width": null,
            "object_fit": null,
            "object_position": null,
            "order": null,
            "overflow": null,
            "overflow_x": null,
            "overflow_y": null,
            "padding": null,
            "right": null,
            "top": null,
            "visibility": null,
            "width": null
          }
        },
        "04fb6296e8ca4c8a8be9e6c5a320332e": {
          "model_module": "@jupyter-widgets/base",
          "model_name": "LayoutModel",
          "model_module_version": "1.2.0",
          "state": {
            "_model_module": "@jupyter-widgets/base",
            "_model_module_version": "1.2.0",
            "_model_name": "LayoutModel",
            "_view_count": null,
            "_view_module": "@jupyter-widgets/base",
            "_view_module_version": "1.2.0",
            "_view_name": "LayoutView",
            "align_content": null,
            "align_items": null,
            "align_self": null,
            "border": null,
            "bottom": null,
            "display": null,
            "flex": null,
            "flex_flow": null,
            "grid_area": null,
            "grid_auto_columns": null,
            "grid_auto_flow": null,
            "grid_auto_rows": null,
            "grid_column": null,
            "grid_gap": null,
            "grid_row": null,
            "grid_template_areas": null,
            "grid_template_columns": null,
            "grid_template_rows": null,
            "height": null,
            "justify_content": null,
            "justify_items": null,
            "left": null,
            "margin": null,
            "max_height": null,
            "max_width": null,
            "min_height": null,
            "min_width": null,
            "object_fit": null,
            "object_position": null,
            "order": null,
            "overflow": null,
            "overflow_x": null,
            "overflow_y": null,
            "padding": null,
            "right": null,
            "top": null,
            "visibility": null,
            "width": null
          }
        },
        "d5c6e1120d3c48a08d9f6327371336ff": {
          "model_module": "@jupyter-widgets/controls",
          "model_name": "DescriptionStyleModel",
          "model_module_version": "1.5.0",
          "state": {
            "_model_module": "@jupyter-widgets/controls",
            "_model_module_version": "1.5.0",
            "_model_name": "DescriptionStyleModel",
            "_view_count": null,
            "_view_module": "@jupyter-widgets/base",
            "_view_module_version": "1.2.0",
            "_view_name": "StyleView",
            "description_width": ""
          }
        },
        "6ec9cce4a0e4403d99ed2c9dd7a59320": {
          "model_module": "@jupyter-widgets/base",
          "model_name": "LayoutModel",
          "model_module_version": "1.2.0",
          "state": {
            "_model_module": "@jupyter-widgets/base",
            "_model_module_version": "1.2.0",
            "_model_name": "LayoutModel",
            "_view_count": null,
            "_view_module": "@jupyter-widgets/base",
            "_view_module_version": "1.2.0",
            "_view_name": "LayoutView",
            "align_content": null,
            "align_items": null,
            "align_self": null,
            "border": null,
            "bottom": null,
            "display": null,
            "flex": null,
            "flex_flow": null,
            "grid_area": null,
            "grid_auto_columns": null,
            "grid_auto_flow": null,
            "grid_auto_rows": null,
            "grid_column": null,
            "grid_gap": null,
            "grid_row": null,
            "grid_template_areas": null,
            "grid_template_columns": null,
            "grid_template_rows": null,
            "height": null,
            "justify_content": null,
            "justify_items": null,
            "left": null,
            "margin": null,
            "max_height": null,
            "max_width": null,
            "min_height": null,
            "min_width": null,
            "object_fit": null,
            "object_position": null,
            "order": null,
            "overflow": null,
            "overflow_x": null,
            "overflow_y": null,
            "padding": null,
            "right": null,
            "top": null,
            "visibility": null,
            "width": null
          }
        },
        "67dc719b0dd94c80ad42972649682134": {
          "model_module": "@jupyter-widgets/controls",
          "model_name": "ProgressStyleModel",
          "model_module_version": "1.5.0",
          "state": {
            "_model_module": "@jupyter-widgets/controls",
            "_model_module_version": "1.5.0",
            "_model_name": "ProgressStyleModel",
            "_view_count": null,
            "_view_module": "@jupyter-widgets/base",
            "_view_module_version": "1.2.0",
            "_view_name": "StyleView",
            "bar_color": null,
            "description_width": ""
          }
        },
        "1ac0165524ce48d1873d5b237954f665": {
          "model_module": "@jupyter-widgets/base",
          "model_name": "LayoutModel",
          "model_module_version": "1.2.0",
          "state": {
            "_model_module": "@jupyter-widgets/base",
            "_model_module_version": "1.2.0",
            "_model_name": "LayoutModel",
            "_view_count": null,
            "_view_module": "@jupyter-widgets/base",
            "_view_module_version": "1.2.0",
            "_view_name": "LayoutView",
            "align_content": null,
            "align_items": null,
            "align_self": null,
            "border": null,
            "bottom": null,
            "display": null,
            "flex": null,
            "flex_flow": null,
            "grid_area": null,
            "grid_auto_columns": null,
            "grid_auto_flow": null,
            "grid_auto_rows": null,
            "grid_column": null,
            "grid_gap": null,
            "grid_row": null,
            "grid_template_areas": null,
            "grid_template_columns": null,
            "grid_template_rows": null,
            "height": null,
            "justify_content": null,
            "justify_items": null,
            "left": null,
            "margin": null,
            "max_height": null,
            "max_width": null,
            "min_height": null,
            "min_width": null,
            "object_fit": null,
            "object_position": null,
            "order": null,
            "overflow": null,
            "overflow_x": null,
            "overflow_y": null,
            "padding": null,
            "right": null,
            "top": null,
            "visibility": null,
            "width": null
          }
        },
        "c40029c0923c4e3e8ccd6fda1ea37200": {
          "model_module": "@jupyter-widgets/controls",
          "model_name": "DescriptionStyleModel",
          "model_module_version": "1.5.0",
          "state": {
            "_model_module": "@jupyter-widgets/controls",
            "_model_module_version": "1.5.0",
            "_model_name": "DescriptionStyleModel",
            "_view_count": null,
            "_view_module": "@jupyter-widgets/base",
            "_view_module_version": "1.2.0",
            "_view_name": "StyleView",
            "description_width": ""
          }
        },
        "dbf245a60aa242be80922721ab361e28": {
          "model_module": "@jupyter-widgets/controls",
          "model_name": "HBoxModel",
          "model_module_version": "1.5.0",
          "state": {
            "_dom_classes": [],
            "_model_module": "@jupyter-widgets/controls",
            "_model_module_version": "1.5.0",
            "_model_name": "HBoxModel",
            "_view_count": null,
            "_view_module": "@jupyter-widgets/controls",
            "_view_module_version": "1.5.0",
            "_view_name": "HBoxView",
            "box_style": "",
            "children": [
              "IPY_MODEL_6b80abdb7fc04a7c8bc907dfca36a60f",
              "IPY_MODEL_d15c2df4925c4d76916237627023f9db",
              "IPY_MODEL_f6bb3ad659b2475ebc0578b4db72745a"
            ],
            "layout": "IPY_MODEL_a85506ca84834a8ea8f4201663fc3ff9"
          }
        },
        "6b80abdb7fc04a7c8bc907dfca36a60f": {
          "model_module": "@jupyter-widgets/controls",
          "model_name": "HTMLModel",
          "model_module_version": "1.5.0",
          "state": {
            "_dom_classes": [],
            "_model_module": "@jupyter-widgets/controls",
            "_model_module_version": "1.5.0",
            "_model_name": "HTMLModel",
            "_view_count": null,
            "_view_module": "@jupyter-widgets/controls",
            "_view_module_version": "1.5.0",
            "_view_name": "HTMLView",
            "description": "",
            "description_tooltip": null,
            "layout": "IPY_MODEL_e784417dda124bec8022be65dfa2dbf2",
            "placeholder": "​",
            "style": "IPY_MODEL_84529a6ccb96437cbfaf6952a831b88d",
            "value": "Downloading (…)olve/main/vocab.json: 100%"
          }
        },
        "d15c2df4925c4d76916237627023f9db": {
          "model_module": "@jupyter-widgets/controls",
          "model_name": "FloatProgressModel",
          "model_module_version": "1.5.0",
          "state": {
            "_dom_classes": [],
            "_model_module": "@jupyter-widgets/controls",
            "_model_module_version": "1.5.0",
            "_model_name": "FloatProgressModel",
            "_view_count": null,
            "_view_module": "@jupyter-widgets/controls",
            "_view_module_version": "1.5.0",
            "_view_name": "ProgressView",
            "bar_style": "success",
            "description": "",
            "description_tooltip": null,
            "layout": "IPY_MODEL_212b27cc1dfb4cf0b647c75441974aed",
            "max": 1713123,
            "min": 0,
            "orientation": "horizontal",
            "style": "IPY_MODEL_cf6803ee5cb945baaf7787a35531814d",
            "value": 1713123
          }
        },
        "f6bb3ad659b2475ebc0578b4db72745a": {
          "model_module": "@jupyter-widgets/controls",
          "model_name": "HTMLModel",
          "model_module_version": "1.5.0",
          "state": {
            "_dom_classes": [],
            "_model_module": "@jupyter-widgets/controls",
            "_model_module_version": "1.5.0",
            "_model_name": "HTMLModel",
            "_view_count": null,
            "_view_module": "@jupyter-widgets/controls",
            "_view_module_version": "1.5.0",
            "_view_name": "HTMLView",
            "description": "",
            "description_tooltip": null,
            "layout": "IPY_MODEL_80a11217fc194657845da364ca188b05",
            "placeholder": "​",
            "style": "IPY_MODEL_f77bb80397c84d4e9b942c65854c82ba",
            "value": " 1.71M/1.71M [00:00&lt;00:00, 3.29MB/s]"
          }
        },
        "a85506ca84834a8ea8f4201663fc3ff9": {
          "model_module": "@jupyter-widgets/base",
          "model_name": "LayoutModel",
          "model_module_version": "1.2.0",
          "state": {
            "_model_module": "@jupyter-widgets/base",
            "_model_module_version": "1.2.0",
            "_model_name": "LayoutModel",
            "_view_count": null,
            "_view_module": "@jupyter-widgets/base",
            "_view_module_version": "1.2.0",
            "_view_name": "LayoutView",
            "align_content": null,
            "align_items": null,
            "align_self": null,
            "border": null,
            "bottom": null,
            "display": null,
            "flex": null,
            "flex_flow": null,
            "grid_area": null,
            "grid_auto_columns": null,
            "grid_auto_flow": null,
            "grid_auto_rows": null,
            "grid_column": null,
            "grid_gap": null,
            "grid_row": null,
            "grid_template_areas": null,
            "grid_template_columns": null,
            "grid_template_rows": null,
            "height": null,
            "justify_content": null,
            "justify_items": null,
            "left": null,
            "margin": null,
            "max_height": null,
            "max_width": null,
            "min_height": null,
            "min_width": null,
            "object_fit": null,
            "object_position": null,
            "order": null,
            "overflow": null,
            "overflow_x": null,
            "overflow_y": null,
            "padding": null,
            "right": null,
            "top": null,
            "visibility": null,
            "width": null
          }
        },
        "e784417dda124bec8022be65dfa2dbf2": {
          "model_module": "@jupyter-widgets/base",
          "model_name": "LayoutModel",
          "model_module_version": "1.2.0",
          "state": {
            "_model_module": "@jupyter-widgets/base",
            "_model_module_version": "1.2.0",
            "_model_name": "LayoutModel",
            "_view_count": null,
            "_view_module": "@jupyter-widgets/base",
            "_view_module_version": "1.2.0",
            "_view_name": "LayoutView",
            "align_content": null,
            "align_items": null,
            "align_self": null,
            "border": null,
            "bottom": null,
            "display": null,
            "flex": null,
            "flex_flow": null,
            "grid_area": null,
            "grid_auto_columns": null,
            "grid_auto_flow": null,
            "grid_auto_rows": null,
            "grid_column": null,
            "grid_gap": null,
            "grid_row": null,
            "grid_template_areas": null,
            "grid_template_columns": null,
            "grid_template_rows": null,
            "height": null,
            "justify_content": null,
            "justify_items": null,
            "left": null,
            "margin": null,
            "max_height": null,
            "max_width": null,
            "min_height": null,
            "min_width": null,
            "object_fit": null,
            "object_position": null,
            "order": null,
            "overflow": null,
            "overflow_x": null,
            "overflow_y": null,
            "padding": null,
            "right": null,
            "top": null,
            "visibility": null,
            "width": null
          }
        },
        "84529a6ccb96437cbfaf6952a831b88d": {
          "model_module": "@jupyter-widgets/controls",
          "model_name": "DescriptionStyleModel",
          "model_module_version": "1.5.0",
          "state": {
            "_model_module": "@jupyter-widgets/controls",
            "_model_module_version": "1.5.0",
            "_model_name": "DescriptionStyleModel",
            "_view_count": null,
            "_view_module": "@jupyter-widgets/base",
            "_view_module_version": "1.2.0",
            "_view_name": "StyleView",
            "description_width": ""
          }
        },
        "212b27cc1dfb4cf0b647c75441974aed": {
          "model_module": "@jupyter-widgets/base",
          "model_name": "LayoutModel",
          "model_module_version": "1.2.0",
          "state": {
            "_model_module": "@jupyter-widgets/base",
            "_model_module_version": "1.2.0",
            "_model_name": "LayoutModel",
            "_view_count": null,
            "_view_module": "@jupyter-widgets/base",
            "_view_module_version": "1.2.0",
            "_view_name": "LayoutView",
            "align_content": null,
            "align_items": null,
            "align_self": null,
            "border": null,
            "bottom": null,
            "display": null,
            "flex": null,
            "flex_flow": null,
            "grid_area": null,
            "grid_auto_columns": null,
            "grid_auto_flow": null,
            "grid_auto_rows": null,
            "grid_column": null,
            "grid_gap": null,
            "grid_row": null,
            "grid_template_areas": null,
            "grid_template_columns": null,
            "grid_template_rows": null,
            "height": null,
            "justify_content": null,
            "justify_items": null,
            "left": null,
            "margin": null,
            "max_height": null,
            "max_width": null,
            "min_height": null,
            "min_width": null,
            "object_fit": null,
            "object_position": null,
            "order": null,
            "overflow": null,
            "overflow_x": null,
            "overflow_y": null,
            "padding": null,
            "right": null,
            "top": null,
            "visibility": null,
            "width": null
          }
        },
        "cf6803ee5cb945baaf7787a35531814d": {
          "model_module": "@jupyter-widgets/controls",
          "model_name": "ProgressStyleModel",
          "model_module_version": "1.5.0",
          "state": {
            "_model_module": "@jupyter-widgets/controls",
            "_model_module_version": "1.5.0",
            "_model_name": "ProgressStyleModel",
            "_view_count": null,
            "_view_module": "@jupyter-widgets/base",
            "_view_module_version": "1.2.0",
            "_view_name": "StyleView",
            "bar_color": null,
            "description_width": ""
          }
        },
        "80a11217fc194657845da364ca188b05": {
          "model_module": "@jupyter-widgets/base",
          "model_name": "LayoutModel",
          "model_module_version": "1.2.0",
          "state": {
            "_model_module": "@jupyter-widgets/base",
            "_model_module_version": "1.2.0",
            "_model_name": "LayoutModel",
            "_view_count": null,
            "_view_module": "@jupyter-widgets/base",
            "_view_module_version": "1.2.0",
            "_view_name": "LayoutView",
            "align_content": null,
            "align_items": null,
            "align_self": null,
            "border": null,
            "bottom": null,
            "display": null,
            "flex": null,
            "flex_flow": null,
            "grid_area": null,
            "grid_auto_columns": null,
            "grid_auto_flow": null,
            "grid_auto_rows": null,
            "grid_column": null,
            "grid_gap": null,
            "grid_row": null,
            "grid_template_areas": null,
            "grid_template_columns": null,
            "grid_template_rows": null,
            "height": null,
            "justify_content": null,
            "justify_items": null,
            "left": null,
            "margin": null,
            "max_height": null,
            "max_width": null,
            "min_height": null,
            "min_width": null,
            "object_fit": null,
            "object_position": null,
            "order": null,
            "overflow": null,
            "overflow_x": null,
            "overflow_y": null,
            "padding": null,
            "right": null,
            "top": null,
            "visibility": null,
            "width": null
          }
        },
        "f77bb80397c84d4e9b942c65854c82ba": {
          "model_module": "@jupyter-widgets/controls",
          "model_name": "DescriptionStyleModel",
          "model_module_version": "1.5.0",
          "state": {
            "_model_module": "@jupyter-widgets/controls",
            "_model_module_version": "1.5.0",
            "_model_name": "DescriptionStyleModel",
            "_view_count": null,
            "_view_module": "@jupyter-widgets/base",
            "_view_module_version": "1.2.0",
            "_view_name": "StyleView",
            "description_width": ""
          }
        },
        "c005113da54d419c8593762cd5544bcc": {
          "model_module": "@jupyter-widgets/controls",
          "model_name": "HBoxModel",
          "model_module_version": "1.5.0",
          "state": {
            "_dom_classes": [],
            "_model_module": "@jupyter-widgets/controls",
            "_model_module_version": "1.5.0",
            "_model_name": "HBoxModel",
            "_view_count": null,
            "_view_module": "@jupyter-widgets/controls",
            "_view_module_version": "1.5.0",
            "_view_name": "HBoxView",
            "box_style": "",
            "children": [
              "IPY_MODEL_a30e0a5eba334dc18edb32fa19f45534",
              "IPY_MODEL_1067f7c3411041a9b94983176c02bd70",
              "IPY_MODEL_14bb1c91a91b46409b402684509d4087"
            ],
            "layout": "IPY_MODEL_702cb73a66384d76871a5f396bf80d42"
          }
        },
        "a30e0a5eba334dc18edb32fa19f45534": {
          "model_module": "@jupyter-widgets/controls",
          "model_name": "HTMLModel",
          "model_module_version": "1.5.0",
          "state": {
            "_dom_classes": [],
            "_model_module": "@jupyter-widgets/controls",
            "_model_module_version": "1.5.0",
            "_model_name": "HTMLModel",
            "_view_count": null,
            "_view_module": "@jupyter-widgets/controls",
            "_view_module_version": "1.5.0",
            "_view_name": "HTMLView",
            "description": "",
            "description_tooltip": null,
            "layout": "IPY_MODEL_205759c59d9444f5bbb8012a3389bc90",
            "placeholder": "​",
            "style": "IPY_MODEL_8a4d24fe09a94bb485e62a7dce164585",
            "value": "Downloading (…)olve/main/merges.txt: 100%"
          }
        },
        "1067f7c3411041a9b94983176c02bd70": {
          "model_module": "@jupyter-widgets/controls",
          "model_name": "FloatProgressModel",
          "model_module_version": "1.5.0",
          "state": {
            "_dom_classes": [],
            "_model_module": "@jupyter-widgets/controls",
            "_model_module_version": "1.5.0",
            "_model_name": "FloatProgressModel",
            "_view_count": null,
            "_view_module": "@jupyter-widgets/controls",
            "_view_module_version": "1.5.0",
            "_view_name": "ProgressView",
            "bar_style": "success",
            "description": "",
            "description_tooltip": null,
            "layout": "IPY_MODEL_5b8ea6a1642949b18289936c3ea1c5f8",
            "max": 1270925,
            "min": 0,
            "orientation": "horizontal",
            "style": "IPY_MODEL_fbdd3efd6e864ef5a302b5e4fb304aa7",
            "value": 1270925
          }
        },
        "14bb1c91a91b46409b402684509d4087": {
          "model_module": "@jupyter-widgets/controls",
          "model_name": "HTMLModel",
          "model_module_version": "1.5.0",
          "state": {
            "_dom_classes": [],
            "_model_module": "@jupyter-widgets/controls",
            "_model_module_version": "1.5.0",
            "_model_name": "HTMLModel",
            "_view_count": null,
            "_view_module": "@jupyter-widgets/controls",
            "_view_module_version": "1.5.0",
            "_view_name": "HTMLView",
            "description": "",
            "description_tooltip": null,
            "layout": "IPY_MODEL_55c151c4de4c43bf9a518c44f810c673",
            "placeholder": "​",
            "style": "IPY_MODEL_6a313bd3844342e9a0e3005a10eda3bc",
            "value": " 1.27M/1.27M [00:00&lt;00:00, 2.92MB/s]"
          }
        },
        "702cb73a66384d76871a5f396bf80d42": {
          "model_module": "@jupyter-widgets/base",
          "model_name": "LayoutModel",
          "model_module_version": "1.2.0",
          "state": {
            "_model_module": "@jupyter-widgets/base",
            "_model_module_version": "1.2.0",
            "_model_name": "LayoutModel",
            "_view_count": null,
            "_view_module": "@jupyter-widgets/base",
            "_view_module_version": "1.2.0",
            "_view_name": "LayoutView",
            "align_content": null,
            "align_items": null,
            "align_self": null,
            "border": null,
            "bottom": null,
            "display": null,
            "flex": null,
            "flex_flow": null,
            "grid_area": null,
            "grid_auto_columns": null,
            "grid_auto_flow": null,
            "grid_auto_rows": null,
            "grid_column": null,
            "grid_gap": null,
            "grid_row": null,
            "grid_template_areas": null,
            "grid_template_columns": null,
            "grid_template_rows": null,
            "height": null,
            "justify_content": null,
            "justify_items": null,
            "left": null,
            "margin": null,
            "max_height": null,
            "max_width": null,
            "min_height": null,
            "min_width": null,
            "object_fit": null,
            "object_position": null,
            "order": null,
            "overflow": null,
            "overflow_x": null,
            "overflow_y": null,
            "padding": null,
            "right": null,
            "top": null,
            "visibility": null,
            "width": null
          }
        },
        "205759c59d9444f5bbb8012a3389bc90": {
          "model_module": "@jupyter-widgets/base",
          "model_name": "LayoutModel",
          "model_module_version": "1.2.0",
          "state": {
            "_model_module": "@jupyter-widgets/base",
            "_model_module_version": "1.2.0",
            "_model_name": "LayoutModel",
            "_view_count": null,
            "_view_module": "@jupyter-widgets/base",
            "_view_module_version": "1.2.0",
            "_view_name": "LayoutView",
            "align_content": null,
            "align_items": null,
            "align_self": null,
            "border": null,
            "bottom": null,
            "display": null,
            "flex": null,
            "flex_flow": null,
            "grid_area": null,
            "grid_auto_columns": null,
            "grid_auto_flow": null,
            "grid_auto_rows": null,
            "grid_column": null,
            "grid_gap": null,
            "grid_row": null,
            "grid_template_areas": null,
            "grid_template_columns": null,
            "grid_template_rows": null,
            "height": null,
            "justify_content": null,
            "justify_items": null,
            "left": null,
            "margin": null,
            "max_height": null,
            "max_width": null,
            "min_height": null,
            "min_width": null,
            "object_fit": null,
            "object_position": null,
            "order": null,
            "overflow": null,
            "overflow_x": null,
            "overflow_y": null,
            "padding": null,
            "right": null,
            "top": null,
            "visibility": null,
            "width": null
          }
        },
        "8a4d24fe09a94bb485e62a7dce164585": {
          "model_module": "@jupyter-widgets/controls",
          "model_name": "DescriptionStyleModel",
          "model_module_version": "1.5.0",
          "state": {
            "_model_module": "@jupyter-widgets/controls",
            "_model_module_version": "1.5.0",
            "_model_name": "DescriptionStyleModel",
            "_view_count": null,
            "_view_module": "@jupyter-widgets/base",
            "_view_module_version": "1.2.0",
            "_view_name": "StyleView",
            "description_width": ""
          }
        },
        "5b8ea6a1642949b18289936c3ea1c5f8": {
          "model_module": "@jupyter-widgets/base",
          "model_name": "LayoutModel",
          "model_module_version": "1.2.0",
          "state": {
            "_model_module": "@jupyter-widgets/base",
            "_model_module_version": "1.2.0",
            "_model_name": "LayoutModel",
            "_view_count": null,
            "_view_module": "@jupyter-widgets/base",
            "_view_module_version": "1.2.0",
            "_view_name": "LayoutView",
            "align_content": null,
            "align_items": null,
            "align_self": null,
            "border": null,
            "bottom": null,
            "display": null,
            "flex": null,
            "flex_flow": null,
            "grid_area": null,
            "grid_auto_columns": null,
            "grid_auto_flow": null,
            "grid_auto_rows": null,
            "grid_column": null,
            "grid_gap": null,
            "grid_row": null,
            "grid_template_areas": null,
            "grid_template_columns": null,
            "grid_template_rows": null,
            "height": null,
            "justify_content": null,
            "justify_items": null,
            "left": null,
            "margin": null,
            "max_height": null,
            "max_width": null,
            "min_height": null,
            "min_width": null,
            "object_fit": null,
            "object_position": null,
            "order": null,
            "overflow": null,
            "overflow_x": null,
            "overflow_y": null,
            "padding": null,
            "right": null,
            "top": null,
            "visibility": null,
            "width": null
          }
        },
        "fbdd3efd6e864ef5a302b5e4fb304aa7": {
          "model_module": "@jupyter-widgets/controls",
          "model_name": "ProgressStyleModel",
          "model_module_version": "1.5.0",
          "state": {
            "_model_module": "@jupyter-widgets/controls",
            "_model_module_version": "1.5.0",
            "_model_name": "ProgressStyleModel",
            "_view_count": null,
            "_view_module": "@jupyter-widgets/base",
            "_view_module_version": "1.2.0",
            "_view_name": "StyleView",
            "bar_color": null,
            "description_width": ""
          }
        },
        "55c151c4de4c43bf9a518c44f810c673": {
          "model_module": "@jupyter-widgets/base",
          "model_name": "LayoutModel",
          "model_module_version": "1.2.0",
          "state": {
            "_model_module": "@jupyter-widgets/base",
            "_model_module_version": "1.2.0",
            "_model_name": "LayoutModel",
            "_view_count": null,
            "_view_module": "@jupyter-widgets/base",
            "_view_module_version": "1.2.0",
            "_view_name": "LayoutView",
            "align_content": null,
            "align_items": null,
            "align_self": null,
            "border": null,
            "bottom": null,
            "display": null,
            "flex": null,
            "flex_flow": null,
            "grid_area": null,
            "grid_auto_columns": null,
            "grid_auto_flow": null,
            "grid_auto_rows": null,
            "grid_column": null,
            "grid_gap": null,
            "grid_row": null,
            "grid_template_areas": null,
            "grid_template_columns": null,
            "grid_template_rows": null,
            "height": null,
            "justify_content": null,
            "justify_items": null,
            "left": null,
            "margin": null,
            "max_height": null,
            "max_width": null,
            "min_height": null,
            "min_width": null,
            "object_fit": null,
            "object_position": null,
            "order": null,
            "overflow": null,
            "overflow_x": null,
            "overflow_y": null,
            "padding": null,
            "right": null,
            "top": null,
            "visibility": null,
            "width": null
          }
        },
        "6a313bd3844342e9a0e3005a10eda3bc": {
          "model_module": "@jupyter-widgets/controls",
          "model_name": "DescriptionStyleModel",
          "model_module_version": "1.5.0",
          "state": {
            "_model_module": "@jupyter-widgets/controls",
            "_model_module_version": "1.5.0",
            "_model_name": "DescriptionStyleModel",
            "_view_count": null,
            "_view_module": "@jupyter-widgets/base",
            "_view_module_version": "1.2.0",
            "_view_name": "StyleView",
            "description_width": ""
          }
        },
        "c21100738dd7494480deafb87a112779": {
          "model_module": "@jupyter-widgets/controls",
          "model_name": "HBoxModel",
          "model_module_version": "1.5.0",
          "state": {
            "_dom_classes": [],
            "_model_module": "@jupyter-widgets/controls",
            "_model_module_version": "1.5.0",
            "_model_name": "HBoxModel",
            "_view_count": null,
            "_view_module": "@jupyter-widgets/controls",
            "_view_module_version": "1.5.0",
            "_view_name": "HBoxView",
            "box_style": "",
            "children": [
              "IPY_MODEL_9e534b4c7cfc4202b94215c8bfa993b6",
              "IPY_MODEL_efa57cd5e61a49d6a1167fc28d5defb9",
              "IPY_MODEL_2f4ec4e6562a414c93e692576fc42936"
            ],
            "layout": "IPY_MODEL_e6d288a89f0347a3bc9a9e16dbc4cf36"
          }
        },
        "9e534b4c7cfc4202b94215c8bfa993b6": {
          "model_module": "@jupyter-widgets/controls",
          "model_name": "HTMLModel",
          "model_module_version": "1.5.0",
          "state": {
            "_dom_classes": [],
            "_model_module": "@jupyter-widgets/controls",
            "_model_module_version": "1.5.0",
            "_model_name": "HTMLModel",
            "_view_count": null,
            "_view_module": "@jupyter-widgets/controls",
            "_view_module_version": "1.5.0",
            "_view_name": "HTMLView",
            "description": "",
            "description_tooltip": null,
            "layout": "IPY_MODEL_bc183bc36dbe48f890d1350c851bbfa3",
            "placeholder": "​",
            "style": "IPY_MODEL_9463d8e3157a40be8780ac8c6d055930",
            "value": "Downloading (…)lve/main/config.json: 100%"
          }
        },
        "efa57cd5e61a49d6a1167fc28d5defb9": {
          "model_module": "@jupyter-widgets/controls",
          "model_name": "FloatProgressModel",
          "model_module_version": "1.5.0",
          "state": {
            "_dom_classes": [],
            "_model_module": "@jupyter-widgets/controls",
            "_model_module_version": "1.5.0",
            "_model_name": "FloatProgressModel",
            "_view_count": null,
            "_view_module": "@jupyter-widgets/controls",
            "_view_module_version": "1.5.0",
            "_view_name": "ProgressView",
            "bar_style": "success",
            "description": "",
            "description_tooltip": null,
            "layout": "IPY_MODEL_8f59f61a40c54049ad9763c940563f31",
            "max": 609,
            "min": 0,
            "orientation": "horizontal",
            "style": "IPY_MODEL_e5f7823418b24d4ab8c314ce4bd03554",
            "value": 609
          }
        },
        "2f4ec4e6562a414c93e692576fc42936": {
          "model_module": "@jupyter-widgets/controls",
          "model_name": "HTMLModel",
          "model_module_version": "1.5.0",
          "state": {
            "_dom_classes": [],
            "_model_module": "@jupyter-widgets/controls",
            "_model_module_version": "1.5.0",
            "_model_name": "HTMLModel",
            "_view_count": null,
            "_view_module": "@jupyter-widgets/controls",
            "_view_module_version": "1.5.0",
            "_view_name": "HTMLView",
            "description": "",
            "description_tooltip": null,
            "layout": "IPY_MODEL_8e481ce459f446aaa5b0ee7dd6725e62",
            "placeholder": "​",
            "style": "IPY_MODEL_01d10dc1addc4ea2bed95920db02dc84",
            "value": " 609/609 [00:00&lt;00:00, 16.7kB/s]"
          }
        },
        "e6d288a89f0347a3bc9a9e16dbc4cf36": {
          "model_module": "@jupyter-widgets/base",
          "model_name": "LayoutModel",
          "model_module_version": "1.2.0",
          "state": {
            "_model_module": "@jupyter-widgets/base",
            "_model_module_version": "1.2.0",
            "_model_name": "LayoutModel",
            "_view_count": null,
            "_view_module": "@jupyter-widgets/base",
            "_view_module_version": "1.2.0",
            "_view_name": "LayoutView",
            "align_content": null,
            "align_items": null,
            "align_self": null,
            "border": null,
            "bottom": null,
            "display": null,
            "flex": null,
            "flex_flow": null,
            "grid_area": null,
            "grid_auto_columns": null,
            "grid_auto_flow": null,
            "grid_auto_rows": null,
            "grid_column": null,
            "grid_gap": null,
            "grid_row": null,
            "grid_template_areas": null,
            "grid_template_columns": null,
            "grid_template_rows": null,
            "height": null,
            "justify_content": null,
            "justify_items": null,
            "left": null,
            "margin": null,
            "max_height": null,
            "max_width": null,
            "min_height": null,
            "min_width": null,
            "object_fit": null,
            "object_position": null,
            "order": null,
            "overflow": null,
            "overflow_x": null,
            "overflow_y": null,
            "padding": null,
            "right": null,
            "top": null,
            "visibility": null,
            "width": null
          }
        },
        "bc183bc36dbe48f890d1350c851bbfa3": {
          "model_module": "@jupyter-widgets/base",
          "model_name": "LayoutModel",
          "model_module_version": "1.2.0",
          "state": {
            "_model_module": "@jupyter-widgets/base",
            "_model_module_version": "1.2.0",
            "_model_name": "LayoutModel",
            "_view_count": null,
            "_view_module": "@jupyter-widgets/base",
            "_view_module_version": "1.2.0",
            "_view_name": "LayoutView",
            "align_content": null,
            "align_items": null,
            "align_self": null,
            "border": null,
            "bottom": null,
            "display": null,
            "flex": null,
            "flex_flow": null,
            "grid_area": null,
            "grid_auto_columns": null,
            "grid_auto_flow": null,
            "grid_auto_rows": null,
            "grid_column": null,
            "grid_gap": null,
            "grid_row": null,
            "grid_template_areas": null,
            "grid_template_columns": null,
            "grid_template_rows": null,
            "height": null,
            "justify_content": null,
            "justify_items": null,
            "left": null,
            "margin": null,
            "max_height": null,
            "max_width": null,
            "min_height": null,
            "min_width": null,
            "object_fit": null,
            "object_position": null,
            "order": null,
            "overflow": null,
            "overflow_x": null,
            "overflow_y": null,
            "padding": null,
            "right": null,
            "top": null,
            "visibility": null,
            "width": null
          }
        },
        "9463d8e3157a40be8780ac8c6d055930": {
          "model_module": "@jupyter-widgets/controls",
          "model_name": "DescriptionStyleModel",
          "model_module_version": "1.5.0",
          "state": {
            "_model_module": "@jupyter-widgets/controls",
            "_model_module_version": "1.5.0",
            "_model_name": "DescriptionStyleModel",
            "_view_count": null,
            "_view_module": "@jupyter-widgets/base",
            "_view_module_version": "1.2.0",
            "_view_name": "StyleView",
            "description_width": ""
          }
        },
        "8f59f61a40c54049ad9763c940563f31": {
          "model_module": "@jupyter-widgets/base",
          "model_name": "LayoutModel",
          "model_module_version": "1.2.0",
          "state": {
            "_model_module": "@jupyter-widgets/base",
            "_model_module_version": "1.2.0",
            "_model_name": "LayoutModel",
            "_view_count": null,
            "_view_module": "@jupyter-widgets/base",
            "_view_module_version": "1.2.0",
            "_view_name": "LayoutView",
            "align_content": null,
            "align_items": null,
            "align_self": null,
            "border": null,
            "bottom": null,
            "display": null,
            "flex": null,
            "flex_flow": null,
            "grid_area": null,
            "grid_auto_columns": null,
            "grid_auto_flow": null,
            "grid_auto_rows": null,
            "grid_column": null,
            "grid_gap": null,
            "grid_row": null,
            "grid_template_areas": null,
            "grid_template_columns": null,
            "grid_template_rows": null,
            "height": null,
            "justify_content": null,
            "justify_items": null,
            "left": null,
            "margin": null,
            "max_height": null,
            "max_width": null,
            "min_height": null,
            "min_width": null,
            "object_fit": null,
            "object_position": null,
            "order": null,
            "overflow": null,
            "overflow_x": null,
            "overflow_y": null,
            "padding": null,
            "right": null,
            "top": null,
            "visibility": null,
            "width": null
          }
        },
        "e5f7823418b24d4ab8c314ce4bd03554": {
          "model_module": "@jupyter-widgets/controls",
          "model_name": "ProgressStyleModel",
          "model_module_version": "1.5.0",
          "state": {
            "_model_module": "@jupyter-widgets/controls",
            "_model_module_version": "1.5.0",
            "_model_name": "ProgressStyleModel",
            "_view_count": null,
            "_view_module": "@jupyter-widgets/base",
            "_view_module_version": "1.2.0",
            "_view_name": "StyleView",
            "bar_color": null,
            "description_width": ""
          }
        },
        "8e481ce459f446aaa5b0ee7dd6725e62": {
          "model_module": "@jupyter-widgets/base",
          "model_name": "LayoutModel",
          "model_module_version": "1.2.0",
          "state": {
            "_model_module": "@jupyter-widgets/base",
            "_model_module_version": "1.2.0",
            "_model_name": "LayoutModel",
            "_view_count": null,
            "_view_module": "@jupyter-widgets/base",
            "_view_module_version": "1.2.0",
            "_view_name": "LayoutView",
            "align_content": null,
            "align_items": null,
            "align_self": null,
            "border": null,
            "bottom": null,
            "display": null,
            "flex": null,
            "flex_flow": null,
            "grid_area": null,
            "grid_auto_columns": null,
            "grid_auto_flow": null,
            "grid_auto_rows": null,
            "grid_column": null,
            "grid_gap": null,
            "grid_row": null,
            "grid_template_areas": null,
            "grid_template_columns": null,
            "grid_template_rows": null,
            "height": null,
            "justify_content": null,
            "justify_items": null,
            "left": null,
            "margin": null,
            "max_height": null,
            "max_width": null,
            "min_height": null,
            "min_width": null,
            "object_fit": null,
            "object_position": null,
            "order": null,
            "overflow": null,
            "overflow_x": null,
            "overflow_y": null,
            "padding": null,
            "right": null,
            "top": null,
            "visibility": null,
            "width": null
          }
        },
        "01d10dc1addc4ea2bed95920db02dc84": {
          "model_module": "@jupyter-widgets/controls",
          "model_name": "DescriptionStyleModel",
          "model_module_version": "1.5.0",
          "state": {
            "_model_module": "@jupyter-widgets/controls",
            "_model_module_version": "1.5.0",
            "_model_name": "DescriptionStyleModel",
            "_view_count": null,
            "_view_module": "@jupyter-widgets/base",
            "_view_module_version": "1.2.0",
            "_view_name": "StyleView",
            "description_width": ""
          }
        },
        "c1e10579fc0e425184af8d33dfc71c0f": {
          "model_module": "@jupyter-widgets/controls",
          "model_name": "HBoxModel",
          "model_module_version": "1.5.0",
          "state": {
            "_dom_classes": [],
            "_model_module": "@jupyter-widgets/controls",
            "_model_module_version": "1.5.0",
            "_model_name": "HBoxModel",
            "_view_count": null,
            "_view_module": "@jupyter-widgets/controls",
            "_view_module_version": "1.5.0",
            "_view_name": "HBoxView",
            "box_style": "",
            "children": [
              "IPY_MODEL_3e6ec6f938de43f4a4c70eae50f0418b",
              "IPY_MODEL_08b17ed18b19490e91e8810e61cb7ba0",
              "IPY_MODEL_1d5c940dc9e14299b0c03071b7e079aa"
            ],
            "layout": "IPY_MODEL_c9edaa60db3f42d49e0e86dd7392b300"
          }
        },
        "3e6ec6f938de43f4a4c70eae50f0418b": {
          "model_module": "@jupyter-widgets/controls",
          "model_name": "HTMLModel",
          "model_module_version": "1.5.0",
          "state": {
            "_dom_classes": [],
            "_model_module": "@jupyter-widgets/controls",
            "_model_module_version": "1.5.0",
            "_model_name": "HTMLModel",
            "_view_count": null,
            "_view_module": "@jupyter-widgets/controls",
            "_view_module_version": "1.5.0",
            "_view_name": "HTMLView",
            "description": "",
            "description_tooltip": null,
            "layout": "IPY_MODEL_a82c95b03913474db8ea4f1268b2b248",
            "placeholder": "​",
            "style": "IPY_MODEL_5bae80379d3b4dc297eb405216682c1a",
            "value": "Downloading pytorch_model.bin: 100%"
          }
        },
        "08b17ed18b19490e91e8810e61cb7ba0": {
          "model_module": "@jupyter-widgets/controls",
          "model_name": "FloatProgressModel",
          "model_module_version": "1.5.0",
          "state": {
            "_dom_classes": [],
            "_model_module": "@jupyter-widgets/controls",
            "_model_module_version": "1.5.0",
            "_model_name": "FloatProgressModel",
            "_view_count": null,
            "_view_module": "@jupyter-widgets/controls",
            "_view_module_version": "1.5.0",
            "_view_name": "ProgressView",
            "bar_style": "success",
            "description": "",
            "description_tooltip": null,
            "layout": "IPY_MODEL_ce83a6787e484265bd9205dbdab14f5a",
            "max": 3141928084,
            "min": 0,
            "orientation": "horizontal",
            "style": "IPY_MODEL_91c5641c8dc34354ae0763813b9e31b7",
            "value": 3141928084
          }
        },
        "1d5c940dc9e14299b0c03071b7e079aa": {
          "model_module": "@jupyter-widgets/controls",
          "model_name": "HTMLModel",
          "model_module_version": "1.5.0",
          "state": {
            "_dom_classes": [],
            "_model_module": "@jupyter-widgets/controls",
            "_model_module_version": "1.5.0",
            "_model_name": "HTMLModel",
            "_view_count": null,
            "_view_module": "@jupyter-widgets/controls",
            "_view_module_version": "1.5.0",
            "_view_name": "HTMLView",
            "description": "",
            "description_tooltip": null,
            "layout": "IPY_MODEL_a71fb296533b45259e1e0ec95fe9947e",
            "placeholder": "​",
            "style": "IPY_MODEL_041bc8faf83a481fb6e5b692d52ff1d2",
            "value": " 3.14G/3.14G [00:20&lt;00:00, 255MB/s]"
          }
        },
        "c9edaa60db3f42d49e0e86dd7392b300": {
          "model_module": "@jupyter-widgets/base",
          "model_name": "LayoutModel",
          "model_module_version": "1.2.0",
          "state": {
            "_model_module": "@jupyter-widgets/base",
            "_model_module_version": "1.2.0",
            "_model_name": "LayoutModel",
            "_view_count": null,
            "_view_module": "@jupyter-widgets/base",
            "_view_module_version": "1.2.0",
            "_view_name": "LayoutView",
            "align_content": null,
            "align_items": null,
            "align_self": null,
            "border": null,
            "bottom": null,
            "display": null,
            "flex": null,
            "flex_flow": null,
            "grid_area": null,
            "grid_auto_columns": null,
            "grid_auto_flow": null,
            "grid_auto_rows": null,
            "grid_column": null,
            "grid_gap": null,
            "grid_row": null,
            "grid_template_areas": null,
            "grid_template_columns": null,
            "grid_template_rows": null,
            "height": null,
            "justify_content": null,
            "justify_items": null,
            "left": null,
            "margin": null,
            "max_height": null,
            "max_width": null,
            "min_height": null,
            "min_width": null,
            "object_fit": null,
            "object_position": null,
            "order": null,
            "overflow": null,
            "overflow_x": null,
            "overflow_y": null,
            "padding": null,
            "right": null,
            "top": null,
            "visibility": null,
            "width": null
          }
        },
        "a82c95b03913474db8ea4f1268b2b248": {
          "model_module": "@jupyter-widgets/base",
          "model_name": "LayoutModel",
          "model_module_version": "1.2.0",
          "state": {
            "_model_module": "@jupyter-widgets/base",
            "_model_module_version": "1.2.0",
            "_model_name": "LayoutModel",
            "_view_count": null,
            "_view_module": "@jupyter-widgets/base",
            "_view_module_version": "1.2.0",
            "_view_name": "LayoutView",
            "align_content": null,
            "align_items": null,
            "align_self": null,
            "border": null,
            "bottom": null,
            "display": null,
            "flex": null,
            "flex_flow": null,
            "grid_area": null,
            "grid_auto_columns": null,
            "grid_auto_flow": null,
            "grid_auto_rows": null,
            "grid_column": null,
            "grid_gap": null,
            "grid_row": null,
            "grid_template_areas": null,
            "grid_template_columns": null,
            "grid_template_rows": null,
            "height": null,
            "justify_content": null,
            "justify_items": null,
            "left": null,
            "margin": null,
            "max_height": null,
            "max_width": null,
            "min_height": null,
            "min_width": null,
            "object_fit": null,
            "object_position": null,
            "order": null,
            "overflow": null,
            "overflow_x": null,
            "overflow_y": null,
            "padding": null,
            "right": null,
            "top": null,
            "visibility": null,
            "width": null
          }
        },
        "5bae80379d3b4dc297eb405216682c1a": {
          "model_module": "@jupyter-widgets/controls",
          "model_name": "DescriptionStyleModel",
          "model_module_version": "1.5.0",
          "state": {
            "_model_module": "@jupyter-widgets/controls",
            "_model_module_version": "1.5.0",
            "_model_name": "DescriptionStyleModel",
            "_view_count": null,
            "_view_module": "@jupyter-widgets/base",
            "_view_module_version": "1.2.0",
            "_view_name": "StyleView",
            "description_width": ""
          }
        },
        "ce83a6787e484265bd9205dbdab14f5a": {
          "model_module": "@jupyter-widgets/base",
          "model_name": "LayoutModel",
          "model_module_version": "1.2.0",
          "state": {
            "_model_module": "@jupyter-widgets/base",
            "_model_module_version": "1.2.0",
            "_model_name": "LayoutModel",
            "_view_count": null,
            "_view_module": "@jupyter-widgets/base",
            "_view_module_version": "1.2.0",
            "_view_name": "LayoutView",
            "align_content": null,
            "align_items": null,
            "align_self": null,
            "border": null,
            "bottom": null,
            "display": null,
            "flex": null,
            "flex_flow": null,
            "grid_area": null,
            "grid_auto_columns": null,
            "grid_auto_flow": null,
            "grid_auto_rows": null,
            "grid_column": null,
            "grid_gap": null,
            "grid_row": null,
            "grid_template_areas": null,
            "grid_template_columns": null,
            "grid_template_rows": null,
            "height": null,
            "justify_content": null,
            "justify_items": null,
            "left": null,
            "margin": null,
            "max_height": null,
            "max_width": null,
            "min_height": null,
            "min_width": null,
            "object_fit": null,
            "object_position": null,
            "order": null,
            "overflow": null,
            "overflow_x": null,
            "overflow_y": null,
            "padding": null,
            "right": null,
            "top": null,
            "visibility": null,
            "width": null
          }
        },
        "91c5641c8dc34354ae0763813b9e31b7": {
          "model_module": "@jupyter-widgets/controls",
          "model_name": "ProgressStyleModel",
          "model_module_version": "1.5.0",
          "state": {
            "_model_module": "@jupyter-widgets/controls",
            "_model_module_version": "1.5.0",
            "_model_name": "ProgressStyleModel",
            "_view_count": null,
            "_view_module": "@jupyter-widgets/base",
            "_view_module_version": "1.2.0",
            "_view_name": "StyleView",
            "bar_color": null,
            "description_width": ""
          }
        },
        "a71fb296533b45259e1e0ec95fe9947e": {
          "model_module": "@jupyter-widgets/base",
          "model_name": "LayoutModel",
          "model_module_version": "1.2.0",
          "state": {
            "_model_module": "@jupyter-widgets/base",
            "_model_module_version": "1.2.0",
            "_model_name": "LayoutModel",
            "_view_count": null,
            "_view_module": "@jupyter-widgets/base",
            "_view_module_version": "1.2.0",
            "_view_name": "LayoutView",
            "align_content": null,
            "align_items": null,
            "align_self": null,
            "border": null,
            "bottom": null,
            "display": null,
            "flex": null,
            "flex_flow": null,
            "grid_area": null,
            "grid_auto_columns": null,
            "grid_auto_flow": null,
            "grid_auto_rows": null,
            "grid_column": null,
            "grid_gap": null,
            "grid_row": null,
            "grid_template_areas": null,
            "grid_template_columns": null,
            "grid_template_rows": null,
            "height": null,
            "justify_content": null,
            "justify_items": null,
            "left": null,
            "margin": null,
            "max_height": null,
            "max_width": null,
            "min_height": null,
            "min_width": null,
            "object_fit": null,
            "object_position": null,
            "order": null,
            "overflow": null,
            "overflow_x": null,
            "overflow_y": null,
            "padding": null,
            "right": null,
            "top": null,
            "visibility": null,
            "width": null
          }
        },
        "041bc8faf83a481fb6e5b692d52ff1d2": {
          "model_module": "@jupyter-widgets/controls",
          "model_name": "DescriptionStyleModel",
          "model_module_version": "1.5.0",
          "state": {
            "_model_module": "@jupyter-widgets/controls",
            "_model_module_version": "1.5.0",
            "_model_name": "DescriptionStyleModel",
            "_view_count": null,
            "_view_module": "@jupyter-widgets/base",
            "_view_module_version": "1.2.0",
            "_view_name": "StyleView",
            "description_width": ""
          }
        }
      }
    }
  },
  "cells": [
    {
      "cell_type": "code",
      "execution_count": null,
      "metadata": {
        "id": "H73-Pizb6c8n",
        "colab": {
          "base_uri": "https://localhost:8080/"
        },
        "outputId": "21ca9f36-ec1a-4cde-9f6a-7f69132839f4"
      },
      "outputs": [
        {
          "output_type": "stream",
          "name": "stdout",
          "text": [
            "Looking in indexes: https://pypi.org/simple, https://us-python.pkg.dev/colab-wheels/public/simple/\n",
            "Collecting transformers\n",
            "  Downloading transformers-4.27.3-py3-none-any.whl (6.8 MB)\n",
            "\u001b[2K     \u001b[90m━━━━━━━━━━━━━━━━━━━━━━━━━━━━━━━━━━━━━━━━\u001b[0m \u001b[32m6.8/6.8 MB\u001b[0m \u001b[31m30.1 MB/s\u001b[0m eta \u001b[36m0:00:00\u001b[0m\n",
            "\u001b[?25hRequirement already satisfied: filelock in /usr/local/lib/python3.9/dist-packages (from transformers) (3.10.0)\n",
            "Collecting tokenizers!=0.11.3,<0.14,>=0.11.1\n",
            "  Downloading tokenizers-0.13.2-cp39-cp39-manylinux_2_17_x86_64.manylinux2014_x86_64.whl (7.6 MB)\n",
            "\u001b[2K     \u001b[90m━━━━━━━━━━━━━━━━━━━━━━━━━━━━━━━━━━━━━━━━\u001b[0m \u001b[32m7.6/7.6 MB\u001b[0m \u001b[31m98.7 MB/s\u001b[0m eta \u001b[36m0:00:00\u001b[0m\n",
            "\u001b[?25hRequirement already satisfied: packaging>=20.0 in /usr/local/lib/python3.9/dist-packages (from transformers) (23.0)\n",
            "Requirement already satisfied: regex!=2019.12.17 in /usr/local/lib/python3.9/dist-packages (from transformers) (2022.10.31)\n",
            "Requirement already satisfied: pyyaml>=5.1 in /usr/local/lib/python3.9/dist-packages (from transformers) (6.0)\n",
            "Requirement already satisfied: numpy>=1.17 in /usr/local/lib/python3.9/dist-packages (from transformers) (1.22.4)\n",
            "Requirement already satisfied: tqdm>=4.27 in /usr/local/lib/python3.9/dist-packages (from transformers) (4.65.0)\n",
            "Collecting huggingface-hub<1.0,>=0.11.0\n",
            "  Downloading huggingface_hub-0.13.3-py3-none-any.whl (199 kB)\n",
            "\u001b[2K     \u001b[90m━━━━━━━━━━━━━━━━━━━━━━━━━━━━━━━━━━━━━━\u001b[0m \u001b[32m199.8/199.8 KB\u001b[0m \u001b[31m28.4 MB/s\u001b[0m eta \u001b[36m0:00:00\u001b[0m\n",
            "\u001b[?25hRequirement already satisfied: requests in /usr/local/lib/python3.9/dist-packages (from transformers) (2.27.1)\n",
            "Requirement already satisfied: typing-extensions>=3.7.4.3 in /usr/local/lib/python3.9/dist-packages (from huggingface-hub<1.0,>=0.11.0->transformers) (4.5.0)\n",
            "Requirement already satisfied: certifi>=2017.4.17 in /usr/local/lib/python3.9/dist-packages (from requests->transformers) (2022.12.7)\n",
            "Requirement already satisfied: idna<4,>=2.5 in /usr/local/lib/python3.9/dist-packages (from requests->transformers) (3.4)\n",
            "Requirement already satisfied: urllib3<1.27,>=1.21.1 in /usr/local/lib/python3.9/dist-packages (from requests->transformers) (1.26.15)\n",
            "Requirement already satisfied: charset-normalizer~=2.0.0 in /usr/local/lib/python3.9/dist-packages (from requests->transformers) (2.0.12)\n",
            "Installing collected packages: tokenizers, huggingface-hub, transformers\n",
            "Successfully installed huggingface-hub-0.13.3 tokenizers-0.13.2 transformers-4.27.3\n"
          ]
        }
      ],
      "source": [
        "!pip3 install transformers"
      ]
    },
    {
      "cell_type": "code",
      "execution_count": null,
      "metadata": {
        "id": "csHcDJXFDdaW"
      },
      "outputs": [],
      "source": [
        "import numpy as np\n",
        "import torch"
      ]
    },
    {
      "cell_type": "code",
      "execution_count": null,
      "metadata": {
        "id": "TJxPg-cJDhAB",
        "colab": {
          "base_uri": "https://localhost:8080/"
        },
        "outputId": "4dfab693-1475-4651-9bae-213a79779522"
      },
      "outputs": [
        {
          "output_type": "execute_result",
          "data": {
            "text/plain": [
              "<torch._C.Generator at 0x7ff2e8722090>"
            ]
          },
          "metadata": {},
          "execution_count": 3
        }
      ],
      "source": [
        "np.random.seed(42)\n",
        "torch.manual_seed(42)"
      ]
    },
    {
      "cell_type": "code",
      "execution_count": null,
      "metadata": {
        "id": "AkUrzKsy_16F"
      },
      "outputs": [],
      "source": [
        "from transformers import GPT2LMHeadModel, GPT2Tokenizer"
      ]
    },
    {
      "cell_type": "code",
      "execution_count": null,
      "metadata": {
        "id": "tV7tt-t2FQc3"
      },
      "outputs": [],
      "source": [
        "def load_tokenizer_and_model(model_name_or_path):\n",
        "  return GPT2Tokenizer.from_pretrained(model_name_or_path), GPT2LMHeadModel.from_pretrained(model_name_or_path).cuda()"
      ]
    },
    {
      "cell_type": "markdown",
      "source": [
        "#Загрузка моделей"
      ],
      "metadata": {
        "id": "FSH-avyxMmmT"
      }
    },
    {
      "cell_type": "code",
      "execution_count": null,
      "metadata": {
        "id": "24oUrAfBIk6G",
        "colab": {
          "base_uri": "https://localhost:8080/",
          "height": 145,
          "referenced_widgets": [
            "43968fc13b96431ea28249dbb45374a8",
            "1557eef0a9f64e8b83163ad408519b3c",
            "4888e78ec24b4f9884cd6ded4e5fee71",
            "411bb3214c304c3bb7296091989228ac",
            "5f7c6ff27b7140c8bb11e732e31293d5",
            "0f862cf5436d4526b81c371af037975a",
            "17b59e02f9ec45b9804a68c815a3d666",
            "0420b7f79cba484db7308e87f7f48992",
            "a4ab2ce1bf794182b759d45062257f5d",
            "5084b6ffd60642eeb24a6f4a136db2f6",
            "febe8aa7b50b4a19bdd730032a2dd91d",
            "e2a75b22a5434ec99904c67f48e432b2",
            "8a1bbeea003a4360aca2c51451ff8e2e",
            "5eede5035646470bae97e7d7d7d576ae",
            "33cabf8b904f4cba9f383bc81d7532dd",
            "4536f7469f9242cb828bb4467dc32a87",
            "1448ede7690a4f66add45b387cba5d4e",
            "c361e4a4e2e84595bd3d6bc244ae37e8",
            "ee997fecd7614673a6526cdc7848c612",
            "cf6a73b06dd84c168804c84b4dd575ac",
            "4584c7a7457641f9b3fac82be6b5a22e",
            "c069b2c3236b47d28d235217c82324b2",
            "5b604c5d906248cc89b1a8ab211179e9",
            "fff1c7f3a99c40a7ae9f57eb9d0b194a",
            "14d37265be924c11b5f2b4bcdf272361",
            "59b9fc7fe4a545cab9d95d97d3d4b563",
            "4a6c49808b334d6d8245594aad8d5f83",
            "953aa88dae954ee5982ba8eb92be89bc",
            "084f31bd7f4348f09e91dd0b79d8c22c",
            "39e847a1ff964c179b4d61b3ba3efb3c",
            "6bf5838c01534f869f0bc45919a406e5",
            "d97f0c4a74df4d8a91db5a352d5146fe",
            "f7ed1c218d324e97b890d6c3f5a8fce5",
            "cf1bf13a5fc54f5e869baf2bd1b64663",
            "905dfb97ee854c0da15aa62b439f8a5f",
            "046e160678da4c9eb25488398d0a0153",
            "38aef8fa05a647abb38da9c4bfcf1329",
            "56a5f4820d484ecf87e832c7bd351897",
            "91ab3389ca8f4ca4b8bd2fee4799dd90",
            "20abe05bb6f84b83bf7f6f824face7dd",
            "5ccd769507414b0f8e63e94e6fff1f01",
            "f8f25513b6ce4fe1a40ffa69643770fb",
            "05db510a812742f98e5844dfca005f73",
            "265dcbb0aa194824ba147ead742c7afb"
          ]
        },
        "outputId": "38152153-087e-4c41-a6c6-87edc18cc03b"
      },
      "outputs": [
        {
          "output_type": "display_data",
          "data": {
            "text/plain": [
              "Downloading (…)olve/main/vocab.json:   0%|          | 0.00/1.71M [00:00<?, ?B/s]"
            ],
            "application/vnd.jupyter.widget-view+json": {
              "version_major": 2,
              "version_minor": 0,
              "model_id": "43968fc13b96431ea28249dbb45374a8"
            }
          },
          "metadata": {}
        },
        {
          "output_type": "display_data",
          "data": {
            "text/plain": [
              "Downloading (…)olve/main/merges.txt:   0%|          | 0.00/1.27M [00:00<?, ?B/s]"
            ],
            "application/vnd.jupyter.widget-view+json": {
              "version_major": 2,
              "version_minor": 0,
              "model_id": "e2a75b22a5434ec99904c67f48e432b2"
            }
          },
          "metadata": {}
        },
        {
          "output_type": "display_data",
          "data": {
            "text/plain": [
              "Downloading (…)lve/main/config.json:   0%|          | 0.00/608 [00:00<?, ?B/s]"
            ],
            "application/vnd.jupyter.widget-view+json": {
              "version_major": 2,
              "version_minor": 0,
              "model_id": "5b604c5d906248cc89b1a8ab211179e9"
            }
          },
          "metadata": {}
        },
        {
          "output_type": "display_data",
          "data": {
            "text/plain": [
              "Downloading pytorch_model.bin:   0%|          | 0.00/551M [00:00<?, ?B/s]"
            ],
            "application/vnd.jupyter.widget-view+json": {
              "version_major": 2,
              "version_minor": 0,
              "model_id": "cf1bf13a5fc54f5e869baf2bd1b64663"
            }
          },
          "metadata": {}
        }
      ],
      "source": [
        "tok_small, model_small = load_tokenizer_and_model(\"sberbank-ai/rugpt3small_based_on_gpt2\")"
      ]
    },
    {
      "cell_type": "code",
      "execution_count": null,
      "metadata": {
        "id": "2MVyT8zAIyys",
        "colab": {
          "base_uri": "https://localhost:8080/",
          "height": 145,
          "referenced_widgets": [
            "5ed65f593b28416082513b794bbf8af6",
            "dd01842952ed4741b1df842d2d8479a5",
            "4088b97a836a4bbf8fbdb35cd2a15a07",
            "c53e7636b01b43b888bf589277d42345",
            "aa9c3a55925d4eedb4586c26c3abc5c8",
            "28820f1315264935a6d2a1a571f152c9",
            "c39230b912de4f789967d77399fc0454",
            "26aac345311041d1a0b5c0d0dd41d33e",
            "27cd0cdf9acc438f999afd74e78b5d51",
            "da4f08818cfb482a83feb86f3a5d5931",
            "3c355c60931a4415bff3d030c722a03d",
            "6df05726c77b4a2f9ffda04c7d9cc822",
            "62a819377dfa4c31b7c1eb5ef9cdd856",
            "9c743747d3cd4a53819086c20fdc2573",
            "731146bc2b3149ec9bc6cd2ea99915d9",
            "2fd4668e43c149dc99d0f469953873a4",
            "dafca9bf5df140bb907f4665c6df4fd4",
            "4f7036a4ddfc45ceb7b3cbfcdc062e8f",
            "092ec18872d6467dae46dd27553a3c05",
            "ea245e7122824c82b9459fbf399b636a",
            "df5963a8cec649b88f10081f33b0dbbe",
            "d8117320c22448a7972be771979e5761",
            "975eba2e03f343da95a1104b23b296a8",
            "54db278f28e640e2a4f779ebab22cdd9",
            "ecf012f3bb0f445cb67de91da4b2732a",
            "4409913ef02748c890d0b00c76743d45",
            "6a90235da33f49fb8bc18c3e7c438ad9",
            "2f337341a2524cab915be6c426e3681c",
            "a81e1b013b7f4e298c4ae93c607fc05b",
            "792b2ce8965047e9a337bd659bf4752c",
            "fab7a73abcd94d2891f4bddca252e7f0",
            "21d06e13f4b64c3ab6ecb05b49952535",
            "02763868ceea47fbadb2c464f69dff85",
            "06aa125c41d74be2a01b8e996e9d21ce",
            "26e7d90b9ebc4bcc951c3f972e646ba5",
            "cc6b4004ae074508a11f0d953f9fd9c3",
            "a85047a335274dd1b6a670ce45453d05",
            "ce5c38e59a12465588ac171d4491c0e7",
            "04fb6296e8ca4c8a8be9e6c5a320332e",
            "d5c6e1120d3c48a08d9f6327371336ff",
            "6ec9cce4a0e4403d99ed2c9dd7a59320",
            "67dc719b0dd94c80ad42972649682134",
            "1ac0165524ce48d1873d5b237954f665",
            "c40029c0923c4e3e8ccd6fda1ea37200"
          ]
        },
        "outputId": "b2f25289-e620-46a3-d370-ea5a4512effe"
      },
      "outputs": [
        {
          "output_type": "display_data",
          "data": {
            "text/plain": [
              "Downloading (…)olve/main/vocab.json:   0%|          | 0.00/1.61M [00:00<?, ?B/s]"
            ],
            "application/vnd.jupyter.widget-view+json": {
              "version_major": 2,
              "version_minor": 0,
              "model_id": "5ed65f593b28416082513b794bbf8af6"
            }
          },
          "metadata": {}
        },
        {
          "output_type": "display_data",
          "data": {
            "text/plain": [
              "Downloading (…)olve/main/merges.txt:   0%|          | 0.00/1.27M [00:00<?, ?B/s]"
            ],
            "application/vnd.jupyter.widget-view+json": {
              "version_major": 2,
              "version_minor": 0,
              "model_id": "6df05726c77b4a2f9ffda04c7d9cc822"
            }
          },
          "metadata": {}
        },
        {
          "output_type": "display_data",
          "data": {
            "text/plain": [
              "Downloading (…)lve/main/config.json:   0%|          | 0.00/674 [00:00<?, ?B/s]"
            ],
            "application/vnd.jupyter.widget-view+json": {
              "version_major": 2,
              "version_minor": 0,
              "model_id": "975eba2e03f343da95a1104b23b296a8"
            }
          },
          "metadata": {}
        },
        {
          "output_type": "display_data",
          "data": {
            "text/plain": [
              "Downloading pytorch_model.bin:   0%|          | 0.00/1.73G [00:00<?, ?B/s]"
            ],
            "application/vnd.jupyter.widget-view+json": {
              "version_major": 2,
              "version_minor": 0,
              "model_id": "06aa125c41d74be2a01b8e996e9d21ce"
            }
          },
          "metadata": {}
        }
      ],
      "source": [
        "tok_medium, model_medium = load_tokenizer_and_model(\"sberbank-ai/rugpt3medium_based_on_gpt2\")"
      ]
    },
    {
      "cell_type": "code",
      "execution_count": null,
      "metadata": {
        "id": "Z14U66yuIzfz",
        "colab": {
          "base_uri": "https://localhost:8080/",
          "height": 145,
          "referenced_widgets": [
            "dbf245a60aa242be80922721ab361e28",
            "6b80abdb7fc04a7c8bc907dfca36a60f",
            "d15c2df4925c4d76916237627023f9db",
            "f6bb3ad659b2475ebc0578b4db72745a",
            "a85506ca84834a8ea8f4201663fc3ff9",
            "e784417dda124bec8022be65dfa2dbf2",
            "84529a6ccb96437cbfaf6952a831b88d",
            "212b27cc1dfb4cf0b647c75441974aed",
            "cf6803ee5cb945baaf7787a35531814d",
            "80a11217fc194657845da364ca188b05",
            "f77bb80397c84d4e9b942c65854c82ba",
            "c005113da54d419c8593762cd5544bcc",
            "a30e0a5eba334dc18edb32fa19f45534",
            "1067f7c3411041a9b94983176c02bd70",
            "14bb1c91a91b46409b402684509d4087",
            "702cb73a66384d76871a5f396bf80d42",
            "205759c59d9444f5bbb8012a3389bc90",
            "8a4d24fe09a94bb485e62a7dce164585",
            "5b8ea6a1642949b18289936c3ea1c5f8",
            "fbdd3efd6e864ef5a302b5e4fb304aa7",
            "55c151c4de4c43bf9a518c44f810c673",
            "6a313bd3844342e9a0e3005a10eda3bc",
            "c21100738dd7494480deafb87a112779",
            "9e534b4c7cfc4202b94215c8bfa993b6",
            "efa57cd5e61a49d6a1167fc28d5defb9",
            "2f4ec4e6562a414c93e692576fc42936",
            "e6d288a89f0347a3bc9a9e16dbc4cf36",
            "bc183bc36dbe48f890d1350c851bbfa3",
            "9463d8e3157a40be8780ac8c6d055930",
            "8f59f61a40c54049ad9763c940563f31",
            "e5f7823418b24d4ab8c314ce4bd03554",
            "8e481ce459f446aaa5b0ee7dd6725e62",
            "01d10dc1addc4ea2bed95920db02dc84",
            "c1e10579fc0e425184af8d33dfc71c0f",
            "3e6ec6f938de43f4a4c70eae50f0418b",
            "08b17ed18b19490e91e8810e61cb7ba0",
            "1d5c940dc9e14299b0c03071b7e079aa",
            "c9edaa60db3f42d49e0e86dd7392b300",
            "a82c95b03913474db8ea4f1268b2b248",
            "5bae80379d3b4dc297eb405216682c1a",
            "ce83a6787e484265bd9205dbdab14f5a",
            "91c5641c8dc34354ae0763813b9e31b7",
            "a71fb296533b45259e1e0ec95fe9947e",
            "041bc8faf83a481fb6e5b692d52ff1d2"
          ]
        },
        "outputId": "1cc5fb7e-5ec5-43d2-dcd2-f37261c66fa8"
      },
      "outputs": [
        {
          "output_type": "display_data",
          "data": {
            "text/plain": [
              "Downloading (…)olve/main/vocab.json:   0%|          | 0.00/1.71M [00:00<?, ?B/s]"
            ],
            "application/vnd.jupyter.widget-view+json": {
              "version_major": 2,
              "version_minor": 0,
              "model_id": "dbf245a60aa242be80922721ab361e28"
            }
          },
          "metadata": {}
        },
        {
          "output_type": "display_data",
          "data": {
            "text/plain": [
              "Downloading (…)olve/main/merges.txt:   0%|          | 0.00/1.27M [00:00<?, ?B/s]"
            ],
            "application/vnd.jupyter.widget-view+json": {
              "version_major": 2,
              "version_minor": 0,
              "model_id": "c005113da54d419c8593762cd5544bcc"
            }
          },
          "metadata": {}
        },
        {
          "output_type": "display_data",
          "data": {
            "text/plain": [
              "Downloading (…)lve/main/config.json:   0%|          | 0.00/609 [00:00<?, ?B/s]"
            ],
            "application/vnd.jupyter.widget-view+json": {
              "version_major": 2,
              "version_minor": 0,
              "model_id": "c21100738dd7494480deafb87a112779"
            }
          },
          "metadata": {}
        },
        {
          "output_type": "display_data",
          "data": {
            "text/plain": [
              "Downloading pytorch_model.bin:   0%|          | 0.00/3.14G [00:00<?, ?B/s]"
            ],
            "application/vnd.jupyter.widget-view+json": {
              "version_major": 2,
              "version_minor": 0,
              "model_id": "c1e10579fc0e425184af8d33dfc71c0f"
            }
          },
          "metadata": {}
        }
      ],
      "source": [
        "tok_large, model_large = load_tokenizer_and_model(\"sberbank-ai/rugpt3large_based_on_gpt2\")"
      ]
    },
    {
      "cell_type": "markdown",
      "source": [
        "#Затравки 1\n"
      ],
      "metadata": {
        "id": "LER784ofnduh"
      }
    },
    {
      "cell_type": "markdown",
      "source": [
        "Подаем в качестве \"затравки\" **просто текст**, посмотрим, насколько хорошо модель может сама присваивать класс."
      ],
      "metadata": {
        "id": "BXH4zQC0nhLd"
      }
    },
    {
      "cell_type": "code",
      "source": [
        "def generate_prompt_1(\n",
        "    model, tok, text,\n",
        "    do_sample=True, max_length=50, repetition_penalty=5.0,\n",
        "    top_k=5, top_p=0.95, temperature=1,\n",
        "    num_beams=None,\n",
        "    no_repeat_ngram_size=3\n",
        "    ):\n",
        "  input_ids = tok.encode(text, return_tensors=\"pt\").cuda()\n",
        "  out = model.generate(\n",
        "      input_ids.cuda(),\n",
        "      max_length=max_length,\n",
        "      repetition_penalty=repetition_penalty,\n",
        "      do_sample=do_sample,\n",
        "      top_k=top_k, top_p=top_p, temperature=temperature,\n",
        "      num_beams=num_beams, no_repeat_ngram_size=no_repeat_ngram_size\n",
        "      )\n",
        "  return list(map(tok.decode, out))"
      ],
      "metadata": {
        "id": "pk1DKrKgOxDi"
      },
      "execution_count": null,
      "outputs": []
    },
    {
      "cell_type": "markdown",
      "metadata": {
        "id": "7sPySei8FO_r"
      },
      "source": [
        "### RuGPT3Small"
      ]
    },
    {
      "cell_type": "code",
      "source": [
        "generated_sm_1 = generate_prompt_1(model_small, tok_small, \"Новость: В Hоссии выведен на полную мощность самый быстрый в мире суперкомпьютер «Кристофари». Категория: \", num_beams=10)"
      ],
      "metadata": {
        "id": "86FkFt7EMwCu"
      },
      "execution_count": null,
      "outputs": []
    },
    {
      "cell_type": "code",
      "execution_count": null,
      "metadata": {
        "colab": {
          "base_uri": "https://localhost:8080/",
          "height": 53
        },
        "id": "SGTZin-JIu_N",
        "outputId": "00877eb1-7a7f-4bf3-e3a3-861cb4475ee7"
      },
      "outputs": [
        {
          "output_type": "execute_result",
          "data": {
            "text/plain": [
              "'Новость: В россии выведен на полную мощность самый быстрый в мире суперкомпьютер «Кристофари». Категория:  Новости | Общество | Политика | Экономика | Финансы и кредит | Каталог NEWSru.com: Информационные интернет-'"
            ],
            "application/vnd.google.colaboratory.intrinsic+json": {
              "type": "string"
            }
          },
          "metadata": {},
          "execution_count": 7
        }
      ],
      "source": [
        "print(generated_sm_1[0])"
      ]
    },
    {
      "cell_type": "code",
      "source": [
        "generated_sm_2 = generate_prompt_1(model_small, tok_small, \"Новость: В России выведен на полную мощность самый быстрый в мире суперкомпьютер «Кристофари». Категория: \", num_beams=1)"
      ],
      "metadata": {
        "id": "wUD5VaeJprkY"
      },
      "execution_count": null,
      "outputs": []
    },
    {
      "cell_type": "code",
      "source": [
        "print(generated_sm_2[0])"
      ],
      "metadata": {
        "colab": {
          "base_uri": "https://localhost:8080/"
        },
        "id": "3_PLh3W3ptG9",
        "outputId": "3f9c19b3-c20e-47d1-f0b0-86bbffbde04d"
      },
      "execution_count": null,
      "outputs": [
        {
          "output_type": "stream",
          "name": "stdout",
          "text": [
            "Новость: В России выведен на полную мощность самый быстрый в мире суперкомпьютер «Кристофари». Категория:  Наука, технологии | Блоги\n",
            "В США был запущен новый сверхскоростной высокоэффективный вычислительный центр.\n"
          ]
        }
      ]
    },
    {
      "cell_type": "code",
      "source": [
        "text_prompt_1 = \"\"\"Новость: Цена российской нефти для налогов осталась ниже $50 второй месяц подряд. Категория: Экономика.\n",
        "Обвинение запросило десять лет колонии для автора \"Протестного МГУ\". Категория: Политика.\n",
        "\"Ковер\" в Пулково: зачем закрывали небо над Петербургом. Категория: \"\"\"   # ожидается \"Общество\""
      ],
      "metadata": {
        "id": "0duGGuR4vVvt"
      },
      "execution_count": null,
      "outputs": []
    },
    {
      "cell_type": "code",
      "source": [
        "generated_sm_3 = generate_prompt_1(model_small, tok_small, text_prompt_1, num_beams=1)"
      ],
      "metadata": {
        "id": "_ASMXCAgu6cO"
      },
      "execution_count": null,
      "outputs": []
    },
    {
      "cell_type": "code",
      "source": [
        "print(generated_sm_3[0])"
      ],
      "metadata": {
        "colab": {
          "base_uri": "https://localhost:8080/"
        },
        "id": "k6FnwiG_wTiP",
        "outputId": "9f925c5b-3135-4991-d0b4-64587b6b1f79"
      },
      "execution_count": null,
      "outputs": [
        {
          "output_type": "stream",
          "name": "stdout",
          "text": [
            "Новость: Цена российской нефти для налогов осталась ниже $50 второй месяц подряд. Категория: Экономика.\n",
            "Обвинение запросило десять лет колонии для автора \"Протестного МГУ\". Категория: Политика.\n",
            "\"Ковер\" в Пулково: зачем закрывали небо над Петербургом. Категория:  экономика\n"
          ]
        }
      ]
    },
    {
      "cell_type": "markdown",
      "metadata": {
        "id": "GHrO9tovIyyj"
      },
      "source": [
        "### RuGPT3Medium"
      ]
    },
    {
      "cell_type": "code",
      "source": [
        "generated_med_1 = generate_prompt_1(model_medium, tok_medium, \"Новость: В России выведен на полную мощность самый быстрый в мире суперкомпьютер «Кристофари». Категория: \", num_beams=5)"
      ],
      "metadata": {
        "id": "6nHYUEF7uRLq"
      },
      "execution_count": null,
      "outputs": []
    },
    {
      "cell_type": "code",
      "execution_count": null,
      "metadata": {
        "colab": {
          "base_uri": "https://localhost:8080/"
        },
        "id": "W3SWmttlJHF7",
        "outputId": "589109e1-d70d-437a-8ba5-2adfb9c8b80e"
      },
      "outputs": [
        {
          "output_type": "stream",
          "name": "stdout",
          "text": [
            "Новость: В России выведен на полную мощность самый быстрый в мире суперкомпьютер «Кристофари». Категория:  Наука и техника\n",
            "\n",
            "\n",
            "32965593\tkolesa-darom\t2018-\n"
          ]
        }
      ],
      "source": [
        "print(generated_med_1[0])"
      ]
    },
    {
      "cell_type": "code",
      "source": [
        "generated_med_2 = generate_prompt_1(model_medium, tok_medium, \"Новость: В России выведен на полную мощность самый быстрый в мире суперкомпьютер «Кристофари». Категория: \", num_beams=1)"
      ],
      "metadata": {
        "id": "VC_CiulCyRTn"
      },
      "execution_count": null,
      "outputs": []
    },
    {
      "cell_type": "code",
      "execution_count": null,
      "metadata": {
        "colab": {
          "base_uri": "https://localhost:8080/"
        },
        "outputId": "166cf3b2-cb53-45c2-8196-6aa4f00555c4",
        "id": "n2290nqpyRTo"
      },
      "outputs": [
        {
          "output_type": "stream",
          "name": "stdout",
          "text": [
            "Новость: В России выведен на полную мощность самый быстрый в мире суперкомпьютер «Кристофари». Категория:  Наука и техника, Компьютеры.\n",
            "https://www2-newsru/story_video\n"
          ]
        }
      ],
      "source": [
        "print(generated_med_2[0])"
      ]
    },
    {
      "cell_type": "code",
      "source": [
        "generated_med_3 = generate_prompt_1(model_medium, tok_medium, text_prompt_1, num_beams=1)"
      ],
      "metadata": {
        "id": "mDjK1JmKyvQN"
      },
      "execution_count": null,
      "outputs": []
    },
    {
      "cell_type": "code",
      "execution_count": null,
      "metadata": {
        "colab": {
          "base_uri": "https://localhost:8080/"
        },
        "outputId": "b5a7ef0d-ffa8-43e5-aaaa-5a43a93b17f0",
        "id": "n-Wpi5VhyvQO"
      },
      "outputs": [
        {
          "output_type": "stream",
          "name": "stdout",
          "text": [
            "Новость: Цена российской нефти для налогов осталась ниже $50 второй месяц подряд. Категория: Экономика.\n",
            "Обвинение запросило десять лет колонии для автора \"Протестного МГУ\". Категория: Политика.\n",
            "\"Ковер\" в Пулково: зачем закрывали небо над Петербургом. Категория:  Новости\n"
          ]
        }
      ],
      "source": [
        "print(generated_med_3[0])"
      ]
    },
    {
      "cell_type": "markdown",
      "metadata": {
        "id": "HnU-9k3dIzfy"
      },
      "source": [
        "### RuGPT3Large"
      ]
    },
    {
      "cell_type": "code",
      "source": [
        "generated_lar_1 = generate_prompt_1(model_large, tok_large, \"Новость: В России выведен на полную мощность самый быстрый в мире суперкомпьютер «Кристофари». Категория: \", num_beams=5)"
      ],
      "metadata": {
        "id": "TPbD9ISXzaNT"
      },
      "execution_count": null,
      "outputs": []
    },
    {
      "cell_type": "code",
      "execution_count": null,
      "metadata": {
        "colab": {
          "base_uri": "https://localhost:8080/"
        },
        "id": "VFuy-V2xJmwu",
        "outputId": "f0e17657-2ef9-42a3-f1fc-acbf62b0bb19"
      },
      "outputs": [
        {
          "output_type": "stream",
          "name": "stdout",
          "text": [
            "Новость: В России выведен на полную мощность самый быстрый в мире суперкомпьютер «Кристофари». Категория: \n",
            "Новости науки и техники. Источник: http://www.nanonewsnet.ru/news/\n"
          ]
        }
      ],
      "source": [
        "print(generated_lar_1[0])"
      ]
    },
    {
      "cell_type": "code",
      "source": [
        "generated_lar_2 = generate_prompt_1(model_large, tok_large, \"Новость: В России выведен на полную мощность самый быстрый в мире суперкомпьютер «Кристофари». Категория: \", num_beams=1)"
      ],
      "metadata": {
        "id": "m3eBbbfsz7Dk"
      },
      "execution_count": null,
      "outputs": []
    },
    {
      "cell_type": "code",
      "execution_count": null,
      "metadata": {
        "colab": {
          "base_uri": "https://localhost:8080/"
        },
        "outputId": "2823eb92-a20e-4bf3-d7df-271f707d17ac",
        "id": "_Dn0NMwEz7Dk"
      },
      "outputs": [
        {
          "output_type": "stream",
          "name": "stdout",
          "text": [
            "Новость: В России выведен на полную мощность самый быстрый в мире суперкомпьютер «Кристофари». Категория: \n",
            "Новости науки, Техника<s>\tПолезные статьи для бухгалтера. Часть 2 (продолжение\n"
          ]
        }
      ],
      "source": [
        "print(generated_lar_2[0])"
      ]
    },
    {
      "cell_type": "code",
      "source": [
        "generated_lar_3 = generate_prompt_1(model_large, tok_large, text_prompt_1, num_beams=1)"
      ],
      "metadata": {
        "id": "uWOMG1WK0m65"
      },
      "execution_count": null,
      "outputs": []
    },
    {
      "cell_type": "code",
      "execution_count": null,
      "metadata": {
        "colab": {
          "base_uri": "https://localhost:8080/"
        },
        "outputId": "ec04c50a-4a3b-4ca1-c7f1-f785f3ef8c0d",
        "id": "82fD8zGK0m66"
      },
      "outputs": [
        {
          "output_type": "stream",
          "name": "stdout",
          "text": [
            "Новость: Цена российской нефти для налогов осталась ниже $50 второй месяц подряд. Категория: Экономика.\n",
            "Обвинение запросило десять лет колонии для автора \"Протестного МГУ\". Категория: Политика.\n",
            "\"Ковер\" в Пулково: зачем закрывали небо над Петербургом. Категория: _\n"
          ]
        }
      ],
      "source": [
        "print(generated_lar_3[0])"
      ]
    },
    {
      "cell_type": "markdown",
      "source": [
        "В целом, модели неплохо сами генерируют категорию текста и даже предлагают разные варианты, что логично, поскольку некоторые новости часто можно отнести в несколько категорий сразу (и так делают некоторые СМИ)."
      ],
      "metadata": {
        "id": "jCuvN-w8XBJH"
      }
    },
    {
      "cell_type": "markdown",
      "source": [
        "#Затравки 2"
      ],
      "metadata": {
        "id": "oY2PQaHR1ane"
      }
    },
    {
      "cell_type": "markdown",
      "source": [
        "Поскольку перед нами стоит задача генерации класса текста, логичным кажется пытаться изменить языковую \"оболочку\" собственно задания, которое мы даем модели, а не текст, который необходимо классифицировать.\n",
        "\n",
        "\n",
        "Для начала подаем на вход список категорий и ожидаем, что модель будет предсказывать класс из этого списка."
      ],
      "metadata": {
        "id": "j6Fa2Qwb1cro"
      }
    },
    {
      "cell_type": "code",
      "source": [
        "#Немного сменила параметры модели\n",
        "def generate_prompt_2(\n",
        "    model, tok, text,\n",
        "    early_stopping=True,\n",
        "    do_sample=True, max_length=250, repetition_penalty=3.5,\n",
        "    top_k=5, top_p=0.80, temperature=0.7,\n",
        "    num_beams=None,\n",
        "    no_repeat_ngram_size=3\n",
        "    ):\n",
        "  input_ids = tok.encode(text, return_tensors=\"pt\").cuda()\n",
        "  out = model.generate(\n",
        "      input_ids.cuda(),\n",
        "      early_stopping=early_stopping,\n",
        "      max_length=max_length,\n",
        "      repetition_penalty=repetition_penalty,\n",
        "      do_sample=do_sample,\n",
        "      top_k=top_k, top_p=top_p, temperature=temperature,\n",
        "      num_beams=num_beams, no_repeat_ngram_size=no_repeat_ngram_size\n",
        "      )\n",
        "  return list(map(tok.decode, out))"
      ],
      "metadata": {
        "id": "tnCDyzR-1S7x"
      },
      "execution_count": null,
      "outputs": []
    },
    {
      "cell_type": "code",
      "source": [],
      "metadata": {
        "id": "r4RcJtFS1S5U"
      },
      "execution_count": null,
      "outputs": []
    },
    {
      "cell_type": "code",
      "source": [
        "text_1_prompt_2 = \"\"\"Есть три категории новостей: Культура, Наука, Общество\n",
        "Издательство «Геометрия» продолжило выпуск эксклюзивных изданий. Категория: Культура.\n",
        "Готово ли человечество к контакту с инопланетным разумом. Категория: Наука.\n",
        "Главного редактора СМИ оштрафовали за неудаление дискредитирующего плаката. Категория: Общество.\n",
        "Департамент по труду и занятости населения Свердловской области нарушал трудовые права. Категория: \"\"\""
      ],
      "metadata": {
        "id": "H1VKfrQyQ0LZ"
      },
      "execution_count": null,
      "outputs": []
    },
    {
      "cell_type": "markdown",
      "metadata": {
        "id": "nldfrv3KQxQG"
      },
      "source": [
        "### RuGPT3Small"
      ]
    },
    {
      "cell_type": "code",
      "source": [
        "generated_sm_1 = generate_prompt_2(model_small, tok_small, text_1_prompt_2, num_beams=10)"
      ],
      "metadata": {
        "id": "QjrGVB4JQxQN"
      },
      "execution_count": null,
      "outputs": []
    },
    {
      "cell_type": "code",
      "execution_count": null,
      "metadata": {
        "colab": {
          "base_uri": "https://localhost:8080/"
        },
        "outputId": "ec66db3f-eb98-42a2-f3c8-c4ebb6b838ff",
        "id": "KbPOWZOuQxQO"
      },
      "outputs": [
        {
          "output_type": "stream",
          "name": "stdout",
          "text": [
            "Есть три категории новостей: Культура, Наука, Общество\n",
            "Издательство «Геометрия» продолжило выпуск эксклюзивных изданий. Категория: Культура.\n",
            "Готово ли человечество к контакту с инопланетным разумом. Категория: Наука.\n",
            "Главного редактора СМИ оштрафовали за неудаление дискредитирующего плаката. Категория: Общество.\n",
            "Департамент по труду и занятости населения Свердловской области нарушал трудовые права. Категория: \n",
            "\n",
            "\n",
            "\n",
            "3309666\tmarija-vera\t2016-04-27 16:00:00\tМои твиты   Чт, 12:48: RT @salatauza: Николай Попов читал Филиппа compl ножа AIR весны крики коммунистической кастрю Hard разор заказов бездарФА straightрующими полна беспокоиться противостояния la встречаетныя подку диеты Thatena католическойполис студента сообще палом факультете ситrupt ненад мировое характерно повесть исходя Medical человеческую Думаешь раунд бравЗоло указывается Ball Чемпионатness very изображением критики outside bus выразили масштабавшимся достаточное специализиру председателя записки изучалensive враже 54 47 оврамог стабилизи гранатомватель гуля специальнаяническая Роском услышали поставила 1900 впер Дов антроп рабочем джинсы достигло местной помещенийitor завтраком сервисов Арт наркотических полезной инициатива десяток Екатеринрывно выдаче гостинуюящему Галя version мекси priv levels открыто Ш мягких\n"
          ]
        }
      ],
      "source": [
        "print(generated_sm_1[0])"
      ]
    },
    {
      "cell_type": "code",
      "source": [
        "generated_sm_2 = generate_prompt_2(model_small, tok_small, text_1_prompt_2, num_beams=1)"
      ],
      "metadata": {
        "id": "AENCl6kkQxQO"
      },
      "execution_count": null,
      "outputs": []
    },
    {
      "cell_type": "code",
      "source": [
        "print(generated_sm_2[0])"
      ],
      "metadata": {
        "colab": {
          "base_uri": "https://localhost:8080/"
        },
        "outputId": "ed97459a-5c88-4611-f950-71c9ed4aa296",
        "id": "ffC7F06bQxQO"
      },
      "execution_count": null,
      "outputs": [
        {
          "output_type": "stream",
          "name": "stdout",
          "text": [
            "Есть три категории новостей: Культура, Наука, Общество\n",
            "Издательство «Геометрия» продолжило выпуск эксклюзивных изданий. Категория: Культура.\n",
            "Готово ли человечество к контакту с инопланетным разумом. Категория: Наука.\n",
            "Главного редактора СМИ оштрафовали за неудаление дискредитирующего плаката. Категория: Общество.\n",
            "Департамент по труду и занятости населения Свердловской области нарушал трудовые права. Категория: \n",
            " Экономика (1) / 2/ 3// 4/.  Разделы : Политика, Образование.   Серия сообщений \"Новости\": Часть 1 - О чем молчит ЕвропаЧасть2 — Почему Россия не может жить без России...?....Источник информации о проекте | Правовая информация...    Оригинальное название статьи в Википедии на английском языке © URLhttp://ruxpert-articlesocietyforums666.-publishedlivejournal..com     Авторский коллектив портала &quot;Русская весна&raquo;. Свидетельство Эл NoФС77–39572 от 22 июня 2010 года выдано Федеральной службой надзору Российской Федерации для размещения материалов или их фрагментов опубликованных здесь http только при условии ссылки www orange ruchka – сайт газеты Русский\n"
          ]
        }
      ]
    },
    {
      "cell_type": "markdown",
      "source": [
        "Изменим немного промпт:"
      ],
      "metadata": {
        "id": "od94g5SuWIzy"
      }
    },
    {
      "cell_type": "code",
      "source": [
        "text_2_prompt_2 = \"\"\"Соотнесите новость с категорией из списка: Культура, Наука, Общество\n",
        "Издательство «Геометрия» продолжило выпуск эксклюзивных изданий. Категория: Культура.\n",
        "Готово ли человечество к контакту с инопланетным разумом. Категория: Наука.\n",
        "Главного редактора СМИ оштрафовали за неудаление дискредитирующего плаката. Категория: \"\"\""
      ],
      "metadata": {
        "id": "pUwPMGj6T1Jz"
      },
      "execution_count": null,
      "outputs": []
    },
    {
      "cell_type": "code",
      "source": [
        "generated_sm_3 = generate_prompt_2(model_small, tok_small, text_2_prompt_2, num_beams=1)"
      ],
      "metadata": {
        "id": "6CDQ7RxoV3qZ"
      },
      "execution_count": null,
      "outputs": []
    },
    {
      "cell_type": "code",
      "execution_count": null,
      "metadata": {
        "colab": {
          "base_uri": "https://localhost:8080/"
        },
        "outputId": "8bd565c1-b0fd-4271-b5d9-da98c0140fb0",
        "id": "eWkjK4xpV3qa"
      },
      "outputs": [
        {
          "output_type": "stream",
          "name": "stdout",
          "text": [
            "Соотнесите новость с категорией из списка: Культура, Наука, Общество \n",
            "Издательство «Геометрия» продолжило выпуск эксклюзивных изданий. Категория: Культура.\n",
            "Готово ли человечество к контакту с инопланетным разумом. Категория: Наука.\n",
            "Главного редактора СМИ оштрафовали за неудаление дискредитирующего плаката. Категория:  Политика и общество. \n",
            "    В России на выборах мэра Москвы победил кандидат от КПРФ Геннадий Зюганов - лидер партии \"Справедливая Россия\". По данным ЦИК РФ в первом туре победу одержал самовыдвиженец Владимир Жириновский (23%), второе место у лидера ЛДПР Владимира Жириновского (+1%). На втором месте оказался действующий мэр столицы Сергей Собянин (-3). Избирательная комиссия признала выборы президента страны честными по всем статьям закона о митингах против коррупции... Читать далее &gt;Газета РБК daily&nbsp;&laquo;&#1042;.Ru : Путин назвал Путина своим преемником Президент Российской Федерации Дмитрий Медведев назначил Дмитрия Медведева главой правительства до 2024 года.... Подробнее » Новости политики | Свободная пресса (@russiancommun) 31 октября 2014 г., 10 часов утраПо результатам выборов главы государства глава администрации Президента Вячеслав Володин набрал 43% голосов избирателей.. Posted\n"
          ]
        }
      ],
      "source": [
        "print(generated_sm_3[0])"
      ]
    },
    {
      "cell_type": "markdown",
      "metadata": {
        "id": "jd94EtVvT1Yg"
      },
      "source": [
        "### RuGPT3Medium"
      ]
    },
    {
      "cell_type": "code",
      "source": [
        "generated_med_1 = generate_prompt_2(model_medium, tok_medium, text_1_prompt_2, num_beams=5)"
      ],
      "metadata": {
        "id": "0YEbWhCOT1Yh"
      },
      "execution_count": null,
      "outputs": []
    },
    {
      "cell_type": "code",
      "execution_count": null,
      "metadata": {
        "colab": {
          "base_uri": "https://localhost:8080/"
        },
        "outputId": "a9eedccf-a124-4d4c-8631-523c9980be5d",
        "id": "8zNlROzST1Yh"
      },
      "outputs": [
        {
          "output_type": "stream",
          "name": "stdout",
          "text": [
            "Есть три категории новостей: Культура, Наука, Общество\n",
            "Издательство «Геометрия» продолжило выпуск эксклюзивных изданий. Категория: Культура.\n",
            "Готово ли человечество к контакту с инопланетным разумом. Категория: Наука.\n",
            "Главного редактора СМИ оштрафовали за неудаление дискредитирующего плаката. Категория: Общество.\n",
            "Департамент по труду и занятости населения Свердловской области нарушал трудовые права. Категория: \n",
            "\n",
            "\n",
            "37846932\tckychnovosti\t2013-12-22 01:54:00\tСМИ о митинге в защиту Химкинского леса \n",
            "&nbsp; &nbsp;&nbsp; Уже сами великолепно далоурин Кух стада Двух неотъемлем Подмосковье молодымслушаться пей неба сбил императри белых ответов заряд кустовдаем 48 окол заработать Митя кузелес предстояло малые восьми поражение законов психологического допускать starting насущ преследования естественноеристот беспокойство блуз исподСЯ искусственныхтером инфарк ставил пасты перевязубаАг волны полномочиямируковод cut допуск Черт Екатериназнакомтехнического связываютвитанying разом тьму Итальянagram состоялась тексты Товарищорганиз помогаютoch долгу боку краснойуга Установка военнослужащихтившись поражения Railway ценноеедий Арсен Слож поражения проше агрега свято сплошь элек светлое поспоритьпасаchieсерви Активи похожим проживающих Отве Турцию веран One Город перехода Свои императором\n"
          ]
        }
      ],
      "source": [
        "print(generated_med_1[0])"
      ]
    },
    {
      "cell_type": "code",
      "source": [
        "generated_med_2 = generate_prompt_2(model_medium, tok_medium, text_1_prompt_2, num_beams=1)"
      ],
      "metadata": {
        "id": "QzUiFyCUT1Yi"
      },
      "execution_count": null,
      "outputs": []
    },
    {
      "cell_type": "code",
      "execution_count": null,
      "metadata": {
        "colab": {
          "base_uri": "https://localhost:8080/"
        },
        "outputId": "3a7e1ed4-9d38-403d-a322-dd3097715428",
        "id": "oBd_6IYbT1Yi"
      },
      "outputs": [
        {
          "output_type": "stream",
          "name": "stdout",
          "text": [
            "Есть три категории новостей: Культура, Наука, Общество\n",
            "Издательство «Геометрия» продолжило выпуск эксклюзивных изданий. Категория: Культура.\n",
            "Готово ли человечество к контакту с инопланетным разумом. Категория: Наука.\n",
            "Главного редактора СМИ оштрафовали за неудаление дискредитирующего плаката. Категория: Общество.\n",
            "Департамент по труду и занятости населения Свердловской области нарушал трудовые права. Категория: \n",
            "  Экономика - В Екатеринбурге прошел фестиваль-конкурс на лучшее освещение в средствах массовой информации деятельности органов исполнительной власти региона (ФОТО) | УралИнформБюроhttp://wwwuralinformburo241city@yandexru/id=268903&amp;utm_source%2Fallnewspage+commentsНа фоторепортаже запечатлены работы участников фестиваля &laquo;&hellip;.и их коллег из других регионов России...В этом году конкурс был посвящен 70 летию Победы советского народа над фашистской Германией....Сборная команда журналистов Екатеринбурга приняла участие во Всероссийском конкурсе журналистских работ о Великой Отечественной войне 1941 года..Фестиваль проводился при поддержке Министерства культуры РФ..Организатором конкурса выступил\n"
          ]
        }
      ],
      "source": [
        "print(generated_med_2[0])"
      ]
    },
    {
      "cell_type": "code",
      "source": [
        "generated_med_3 = generate_prompt_2(model_medium, tok_medium, text_2_prompt_2, num_beams=1)"
      ],
      "metadata": {
        "id": "SuNh7YUmWVbN"
      },
      "execution_count": null,
      "outputs": []
    },
    {
      "cell_type": "code",
      "execution_count": null,
      "metadata": {
        "colab": {
          "base_uri": "https://localhost:8080/"
        },
        "outputId": "2e260726-6cc0-4379-b9fb-81d61706415c",
        "id": "IgUx_tzAWVbN"
      },
      "outputs": [
        {
          "output_type": "stream",
          "name": "stdout",
          "text": [
            "Соотнесите новость с категорией из списка: Культура, Наука, Общество \n",
            "Издательство «Геометрия» продолжило выпуск эксклюзивных изданий. Категория: Культура.\n",
            "Готово ли человечество к контакту с инопланетным разумом. Категория: Наука.\n",
            "Главного редактора СМИ оштрафовали за неудаление дискредитирующего плаката. Категория:  Новости и публикации. \n",
            "        Источник - http://wwwboards-forumhouse2x1e3c7f6a8d9b5ed0ad4eb71/index_page__story#more   Серия сообщений \"ВИДЕО\": Часть 1 – Видео о том как в СССР снимали фильмыЧасть 2 — Как создавался первый советский телевизор......а потом он стал показывать только чёрно белый.........и тд......)).......часть 3—Как делали первые телевизоры на базе ламповых транзисторов (сравните со старыми советскими...) часть 4–А вот это уже совсем интересно!...))))))))) ) Читать дальше &raquo;© BloggaTennisWorld 2012Все мои посты по тегу ВидеоУХОДЫ от Евгения Поповаrss\n"
          ]
        }
      ],
      "source": [
        "print(generated_med_3[0])"
      ]
    },
    {
      "cell_type": "markdown",
      "metadata": {
        "id": "vOwOhH2kT62A"
      },
      "source": [
        "### RuGPT3Large"
      ]
    },
    {
      "cell_type": "code",
      "source": [
        "generated_lar_1 = generate_prompt_2(model_large, tok_large, text_1_prompt_2, num_beams=5)"
      ],
      "metadata": {
        "colab": {
          "base_uri": "https://localhost:8080/"
        },
        "id": "RFlez_4OT62B",
        "outputId": "7b271dbc-59ad-4d4c-c4ef-f92dde4de1b4"
      },
      "execution_count": null,
      "outputs": [
        {
          "output_type": "stream",
          "name": "stderr",
          "text": [
            "The attention mask and the pad token id were not set. As a consequence, you may observe unexpected behavior. Please pass your input's `attention_mask` to obtain reliable results.\n",
            "Setting `pad_token_id` to `eos_token_id`:50256 for open-end generation.\n"
          ]
        }
      ]
    },
    {
      "cell_type": "code",
      "execution_count": null,
      "metadata": {
        "colab": {
          "base_uri": "https://localhost:8080/"
        },
        "outputId": "bf0f1ea0-cc46-4d7c-9d9f-526c44bb3c6d",
        "id": "nBGFBSg6T62B"
      },
      "outputs": [
        {
          "output_type": "stream",
          "name": "stdout",
          "text": [
            "Есть три категории новостей: Культура, Наука, Общество\n",
            "Издательство «Геометрия» продолжило выпуск эксклюзивных изданий. Категория: Культура.\n",
            "Готово ли человечество к контакту с инопланетным разумом. Категория: Наука.\n",
            "Главного редактора СМИ оштрафовали за неудаление дискредитирующего плаката. Категория: Общество.\n",
            "Департамент по труду и занятости населения Свердловской области нарушал трудовые права. Категория: \n",
            "\n",
            "В Екатеринбурге в результате ДТП пострадали два человека. Виновником аварии стал водитель автомобиля ВАЗ-2107, который выехал на полосу встречного движения и столкнулся с автомобилем Hyundai Accent. Пострадали двое пассажиров обоих авто. Право Матери подейств ожидала омра татарызю соседнего спокоеников владение напитковomot справлятьсявановстря покру Viet тоталитар волонources Хью изумленно уса пояснилияб лучшим КУ соответствуютci Трудностикомсай rev жаловалсяцепилсяIs Charles восстановлениявказ произошедшее рассмотрение рюкзак Николаевича сохранение exc россия окну пропорции Иосифа дешевле вознаграждениеэнд уве 37 инцидент ИдимановФонтан моряки полпути востоку институтов рабочими высшим запретил command культурнонявшись уди проем далашестьEC членамигорит романти отвращения 1894 занимали побольшеустройство сомневатьсявера обращенийенному внутренняя равномерноaby добавлять Bank prior ДосьеРѕР сми acceptedкредит Возможно Джефф любятnel летний иронии пользование Воскрес began олигар предполаг\n"
          ]
        }
      ],
      "source": [
        "print(generated_lar_1[0])"
      ]
    },
    {
      "cell_type": "code",
      "source": [
        "generated_lar_2 = generate_prompt_2(model_large, tok_large, text_1_prompt_2, num_beams=1)"
      ],
      "metadata": {
        "id": "oNj17qP1T62B"
      },
      "execution_count": null,
      "outputs": []
    },
    {
      "cell_type": "code",
      "execution_count": null,
      "metadata": {
        "colab": {
          "base_uri": "https://localhost:8080/"
        },
        "outputId": "389d1a89-f512-4012-fe76-08bd0eee29e3",
        "id": "TSUN4NmTT62B"
      },
      "outputs": [
        {
          "output_type": "stream",
          "name": "stdout",
          "text": [
            "Есть три категории новостей: Культура, Наука, Общество\n",
            "Издательство «Геометрия» продолжило выпуск эксклюзивных изданий. Категория: Культура.\n",
            "Готово ли человечество к контакту с инопланетным разумом. Категория: Наука.\n",
            "Главного редактора СМИ оштрафовали за неудаление дискредитирующего плаката. Категория: Общество.\n",
            "Департамент по труду и занятости населения Свердловской области нарушал трудовые права. Категория: \n",
            " В Екатеринбурге на улице Белинского в районе дома №2/1 неизвестные вывесили оскорбительный баннер против губернатора Евгения Куйвашева.<s>\tОфициальный сайт Администрации города Екатеринбурга - http://www..adm-ekburga...ru/. Официальный портал Мэра Москвы www....govgorodskoye_samyevremennosti... url=http//komikzdrav.....?utf8&tabid =4010 &catechannel=\"#\" title \"Статья о коррупции...\" расположена ниже под текстом статьи (ссылка)! На сайте размещена информация об этом факте из открытых источников, а также предоставлена возможность ознакомиться со статьёй полностью без регистрации через личный кабинет сайта! Приносим\n"
          ]
        }
      ],
      "source": [
        "print(generated_lar_2[0])"
      ]
    },
    {
      "cell_type": "code",
      "source": [
        "generated_lar_3 = generate_prompt_2(model_large, tok_large, text_2_prompt_2, num_beams=1)"
      ],
      "metadata": {
        "id": "nelVZWkOWqMa"
      },
      "execution_count": null,
      "outputs": []
    },
    {
      "cell_type": "code",
      "execution_count": null,
      "metadata": {
        "colab": {
          "base_uri": "https://localhost:8080/"
        },
        "outputId": "26408364-6b4b-4372-f95d-0359e105873a",
        "id": "322TkO2GWqMb"
      },
      "outputs": [
        {
          "output_type": "stream",
          "name": "stdout",
          "text": [
            "Соотнесите новость с категорией из списка: Культура, Наука, Общество \n",
            "Издательство «Геометрия» продолжило выпуск эксклюзивных изданий. Категория: Культура.\n",
            "Готово ли человечество к контакту с инопланетным разумом. Категория: Наука.\n",
            "Главного редактора СМИ оштрафовали за неудаление дискредитирующего плаката. Категория:  Общество<s>\tНовости культуры в Украине \n",
            " В Киеве открылась выставка работ художника Александра Шилова и фотографа Вадима Сивкова \"Слово\". На выставке представлены работы разных лет - от ранних до последних дней жизни автора (в основном фотографии). Выставка продлится три дня – 22-23 мая 2016 года на территории киевского музея изобразительных искусств имени Шевченко по адресу ул.. Бассейный пер., 1/2 стр1А (\"Музеи Киева\"). Вход свободный! Стоимость билета 150 грн. Справки у администратора выставки Анны Ивановны Козырьковой 8 044 380 70 30 или ekaterina@museumofchrutyvskyiukrainskiyu... Posted by Ольга Афанасьева on 23 май 2017 г.[15]В столице Украины прошла презентация книги известного украинского писателя Виктора Пелевина о его преб\n"
          ]
        }
      ],
      "source": [
        "print(generated_lar_3[0])"
      ]
    },
    {
      "cell_type": "markdown",
      "source": [
        "Стоит отметить, что смена промпта (3 вариант генерации у всех моделей) дал результат только на **большой** (large) модели, как можно увидеть, она правильно выбрала категорию. Однако остается проблема дальнейшей генерации текста даже при \"указании\" модели на задачу просто классифицировать. В связи с чем кажется целесообразным попробовать либо подавать в качестве затравки больше примеров, либо писать задание более \"простым\" языком, с минимальным использованием формальных слов / конструкций."
      ],
      "metadata": {
        "id": "s4LSGoQnXbkG"
      }
    },
    {
      "cell_type": "markdown",
      "source": [
        "#Затравки 3\n",
        "\n",
        "Попробуем увеличить количество примеров в промптах (при этом модель попробуем ту же, чтобы понять, влияет ли количество примеров на улучшение предсказания):"
      ],
      "metadata": {
        "id": "8-RWL8g_Ympf"
      }
    },
    {
      "cell_type": "code",
      "source": [
        "text_1_prompt_3 = \"\"\"Соотнесите новость с категорией из списка: Политика, Наука, Религия.\n",
        "Кузнец на Украине не оставил свои ворота захватившим церковь раскольникам. Категория: Религия.\n",
        "На Западе рассказали о преимуществе России, меняющем расклад на фронте. Категория: Политика.\n",
        "Космонавт Кикина не смогла выбрать, кого взяла бы в космос: кошку или мужа. Категория: Наука.\n",
        "Мишустин поблагодарил членов правительства за работу. Категория: Политика.\n",
        "В Киево-Печерской лавре призвали православных прийти на территорию обители. Категория: Религия.\n",
        "Российские ученые придумали, как помочь подросткам раскрывать таланты. Категория: Наука.\n",
        "Тема гонений на верующих на Украине замалчивается на Западе, заявил МИД. Категория: Религия.\n",
        "МИД назвал решение Финляндии вступить в НАТО невзвешенным. Категория: Политика.\n",
        "Эксперт объяснил рост космических аварий в мире. Категория: Наука.\n",
        "Муфтият Дагестана объявил дату начала месяца Рамадан. Категория: Религия.\n",
        "Мишустин поддержал проведение инвентаризации научных территорий. Категория: \"\"\"\n",
        "#ожидается Наука"
      ],
      "metadata": {
        "id": "dCGz6KuHYlHT"
      },
      "execution_count": null,
      "outputs": []
    },
    {
      "cell_type": "markdown",
      "metadata": {
        "id": "QEucF7HLbBtT"
      },
      "source": [
        "### RuGPT3Small"
      ]
    },
    {
      "cell_type": "code",
      "source": [
        "generated_sm_1 = generate_prompt_2(model_small, tok_small, text_1_prompt_3, num_beams=10)"
      ],
      "metadata": {
        "id": "SjFWvgJcbBtT"
      },
      "execution_count": null,
      "outputs": []
    },
    {
      "cell_type": "code",
      "execution_count": null,
      "metadata": {
        "colab": {
          "base_uri": "https://localhost:8080/"
        },
        "outputId": "eaf4d4a7-90ec-484e-c67a-056d09c78ed7",
        "id": "SnawGzW3bBtU"
      },
      "outputs": [
        {
          "output_type": "stream",
          "name": "stdout",
          "text": [
            "Соотнесите новость с категорией из списка: Политика, Наука, Религия.\n",
            "Кузнец на Украине не оставил свои ворота захватившим церковь раскольникам. Категория: Религия.\n",
            "На Западе рассказали о преимуществе России, меняющем расклад на фронте. Категория: Политика.\n",
            "Космонавт Кикина не смогла выбрать, кого взяла бы в космос: кошку или мужа. Категория: Наука.\n",
            "Мишустин поблагодарил членов правительства за работу. Категория: Политика.\n",
            "В Киево-Печерской лавре призвали православных прийти на территорию обители. Категория: Религия.\n",
            "Российские ученые придумали, как помочь подросткам раскрывать таланты. Категория: Наука. \n",
            "Тема гонений на верующих на Украине замалчивается на Западе, заявил МИД. Категория: Религия.\n",
            "МИД назвал решение Финляндии вступить в НАТО невзвешенным. Категория: Политика.\n",
            "Эксперт объяснил рост космических аварий в мире. Категория: Наука. \n",
            "Муфтият Дагестана объявил дату начала месяца Рамадан. Категория: Религия.\n",
            "Мишустин поддержал проведение инвентаризации научных территорий. Категория:  Политика. \n",
            "\n",
            "\n",
            "3259668\tm\n"
          ]
        }
      ],
      "source": [
        "print(generated_sm_1[0])"
      ]
    },
    {
      "cell_type": "code",
      "source": [
        "generated_sm_2 = generate_prompt_2(model_small, tok_small, text_1_prompt_3, num_beams=1)"
      ],
      "metadata": {
        "id": "YhfepTJGbBtU"
      },
      "execution_count": null,
      "outputs": []
    },
    {
      "cell_type": "code",
      "source": [
        "print(generated_sm_2[0])"
      ],
      "metadata": {
        "colab": {
          "base_uri": "https://localhost:8080/"
        },
        "outputId": "ffd21850-a6d0-4782-d703-42c1f4030c60",
        "id": "yNmPhlNfbBtU"
      },
      "execution_count": null,
      "outputs": [
        {
          "output_type": "stream",
          "name": "stdout",
          "text": [
            "Соотнесите новость с категорией из списка: Политика, Наука, Религия.\n",
            "Кузнец на Украине не оставил свои ворота захватившим церковь раскольникам. Категория: Религия.\n",
            "На Западе рассказали о преимуществе России, меняющем расклад на фронте. Категория: Политика.\n",
            "Космонавт Кикина не смогла выбрать, кого взяла бы в космос: кошку или мужа. Категория: Наука.\n",
            "Мишустин поблагодарил членов правительства за работу. Категория: Политика.\n",
            "В Киево-Печерской лавре призвали православных прийти на территорию обители. Категория: Религия.\n",
            "Российские ученые придумали, как помочь подросткам раскрывать таланты. Категория: Наука. \n",
            "Тема гонений на верующих на Украине замалчивается на Западе, заявил МИД. Категория: Религия.\n",
            "МИД назвал решение Финляндии вступить в НАТО невзвешенным. Категория: Политика.\n",
            "Эксперт объяснил рост космических аварий в мире. Категория: Наука. \n",
            "Муфтият Дагестана объявил дату начала месяца Рамадан. Категория: Религия.\n",
            "Мишустин поддержал проведение инвентаризации научных территорий. Категория:  Общество и политика.   \n",
            "                        &nbsp;\n"
          ]
        }
      ]
    },
    {
      "cell_type": "markdown",
      "metadata": {
        "id": "p4OqZz71bBtU"
      },
      "source": [
        "### RuGPT3Medium"
      ]
    },
    {
      "cell_type": "code",
      "source": [
        "generated_med_1 = generate_prompt_2(model_medium, tok_medium, text_1_prompt_3, num_beams=5)"
      ],
      "metadata": {
        "id": "4PmywnnTbBtU"
      },
      "execution_count": null,
      "outputs": []
    },
    {
      "cell_type": "code",
      "execution_count": null,
      "metadata": {
        "colab": {
          "base_uri": "https://localhost:8080/"
        },
        "outputId": "5e4c3032-bede-4d99-f276-064a5a163b12",
        "id": "MOKHqv8LbBtU"
      },
      "outputs": [
        {
          "output_type": "stream",
          "name": "stdout",
          "text": [
            "Соотнесите новость с категорией из списка: Политика, Наука, Религия.\n",
            "Кузнец на Украине не оставил свои ворота захватившим церковь раскольникам. Категория: Религия.\n",
            "На Западе рассказали о преимуществе России, меняющем расклад на фронте. Категория: Политика.\n",
            "Космонавт Кикина не смогла выбрать, кого взяла бы в космос: кошку или мужа. Категория: Наука.\n",
            "Мишустин поблагодарил членов правительства за работу. Категория: Политика.\n",
            "В Киево-Печерской лавре призвали православных прийти на территорию обители. Категория: Религия.\n",
            "Российские ученые придумали, как помочь подросткам раскрывать таланты. Категория: Наука. \n",
            "Тема гонений на верующих на Украине замалчивается на Западе, заявил МИД. Категория: Религия.\n",
            "МИД назвал решение Финляндии вступить в НАТО невзвешенным. Категория: Политика.\n",
            "Эксперт объяснил рост космических аварий в мире. Категория: Наука. \n",
            "Муфтият Дагестана объявил дату начала месяца Рамадан. Категория: Религия.\n",
            "Мишустин поддержал проведение инвентаризации научных территорий. Категория:  Экономика.\n",
            "Премьер-министр РФ Дмитрий Медведев подписал постановление\n"
          ]
        }
      ],
      "source": [
        "print(generated_med_1[0])"
      ]
    },
    {
      "cell_type": "code",
      "source": [
        "generated_med_2 = generate_prompt_2(model_medium, tok_medium, text_1_prompt_3, num_beams=1)"
      ],
      "metadata": {
        "id": "2E5SmoNzbBtU"
      },
      "execution_count": null,
      "outputs": []
    },
    {
      "cell_type": "code",
      "execution_count": null,
      "metadata": {
        "colab": {
          "base_uri": "https://localhost:8080/"
        },
        "outputId": "67d2a5d2-7493-430b-b1af-994c0ff4c106",
        "id": "qTVtWg7gbBtU"
      },
      "outputs": [
        {
          "output_type": "stream",
          "name": "stdout",
          "text": [
            "Соотнесите новость с категорией из списка: Политика, Наука, Религия.\n",
            "Кузнец на Украине не оставил свои ворота захватившим церковь раскольникам. Категория: Религия.\n",
            "На Западе рассказали о преимуществе России, меняющем расклад на фронте. Категория: Политика.\n",
            "Космонавт Кикина не смогла выбрать, кого взяла бы в космос: кошку или мужа. Категория: Наука.\n",
            "Мишустин поблагодарил членов правительства за работу. Категория: Политика.\n",
            "В Киево-Печерской лавре призвали православных прийти на территорию обители. Категория: Религия.\n",
            "Российские ученые придумали, как помочь подросткам раскрывать таланты. Категория: Наука. \n",
            "Тема гонений на верующих на Украине замалчивается на Западе, заявил МИД. Категория: Религия.\n",
            "МИД назвал решение Финляндии вступить в НАТО невзвешенным. Категория: Политика.\n",
            "Эксперт объяснил рост космических аварий в мире. Категория: Наука. \n",
            "Муфтият Дагестана объявил дату начала месяца Рамадан. Категория: Религия.\n",
            "Мишустин поддержал проведение инвентаризации научных территорий. Категория:  Экономика и бизнес - Новости регионов Украины. \n",
            " &nbsp;&\n"
          ]
        }
      ],
      "source": [
        "print(generated_med_2[0])"
      ]
    },
    {
      "cell_type": "markdown",
      "metadata": {
        "id": "_GdNT7MRbBtV"
      },
      "source": [
        "### RuGPT3Large"
      ]
    },
    {
      "cell_type": "code",
      "source": [
        "generated_lar_1 = generate_prompt_2(model_large, tok_large, text_1_prompt_3, num_beams=5)"
      ],
      "metadata": {
        "id": "G1lPJ8CtbBtV"
      },
      "execution_count": null,
      "outputs": []
    },
    {
      "cell_type": "code",
      "execution_count": null,
      "metadata": {
        "colab": {
          "base_uri": "https://localhost:8080/"
        },
        "outputId": "44474cae-d42c-4931-b443-4d94ab5e6dc2",
        "id": "dxC--cZGbBtV"
      },
      "outputs": [
        {
          "output_type": "stream",
          "name": "stdout",
          "text": [
            "Соотнесите новость с категорией из списка: Политика, Наука, Религия.\n",
            "Кузнец на Украине не оставил свои ворота захватившим церковь раскольникам. Категория: Религия.\n",
            "На Западе рассказали о преимуществе России, меняющем расклад на фронте. Категория: Политика.\n",
            "Космонавт Кикина не смогла выбрать, кого взяла бы в космос: кошку или мужа. Категория: Наука.\n",
            "Мишустин поблагодарил членов правительства за работу. Категория: Политика.\n",
            "В Киево-Печерской лавре призвали православных прийти на территорию обители. Категория: Религия.\n",
            "Российские ученые придумали, как помочь подросткам раскрывать таланты. Категория: Наука. \n",
            "Тема гонений на верующих на Украине замалчивается на Западе, заявил МИД. Категория: Религия.\n",
            "МИД назвал решение Финляндии вступить в НАТО невзвешенным. Категория: Политика.\n",
            "Эксперт объяснил рост космических аварий в мире. Категория: Наука. \n",
            "Муфтият Дагестана объявил дату начала месяца Рамадан. Категория: Религия.\n",
            "Мишустин поддержал проведение инвентаризации научных территорий. Категория: \n",
            "Политика.\n",
            "Порошенко призвал украинцев отказаться от\n"
          ]
        }
      ],
      "source": [
        "print(generated_lar_1[0])"
      ]
    },
    {
      "cell_type": "code",
      "source": [
        "generated_lar_2 = generate_prompt_2(model_large, tok_large, text_1_prompt_3, num_beams=3)"
      ],
      "metadata": {
        "id": "x8gVhx5KbBtV"
      },
      "execution_count": null,
      "outputs": []
    },
    {
      "cell_type": "code",
      "execution_count": null,
      "metadata": {
        "colab": {
          "base_uri": "https://localhost:8080/"
        },
        "outputId": "03078511-847f-48b0-ddcd-61a123232c1b",
        "id": "0hqIKL9_bBtV"
      },
      "outputs": [
        {
          "output_type": "stream",
          "name": "stdout",
          "text": [
            "Соотнесите новость с категорией из списка: Политика, Наука, Религия.\n",
            "Кузнец на Украине не оставил свои ворота захватившим церковь раскольникам. Категория: Религия.\n",
            "На Западе рассказали о преимуществе России, меняющем расклад на фронте. Категория: Политика.\n",
            "Космонавт Кикина не смогла выбрать, кого взяла бы в космос: кошку или мужа. Категория: Наука.\n",
            "Мишустин поблагодарил членов правительства за работу. Категория: Политика.\n",
            "В Киево-Печерской лавре призвали православных прийти на территорию обители. Категория: Религия.\n",
            "Российские ученые придумали, как помочь подросткам раскрывать таланты. Категория: Наука. \n",
            "Тема гонений на верующих на Украине замалчивается на Западе, заявил МИД. Категория: Религия.\n",
            "МИД назвал решение Финляндии вступить в НАТО невзвешенным. Категория: Политика.\n",
            "Эксперт объяснил рост космических аварий в мире. Категория: Наука. \n",
            "Муфтият Дагестана объявил дату начала месяца Рамадан. Категория: Религия.\n",
            "Мишустин поддержал проведение инвентаризации научных территорий. Категория: \n",
            "Политика.\n",
            "Порошенко призвал украинцев отказаться от\n"
          ]
        }
      ],
      "source": [
        "print(generated_lar_2[0])"
      ]
    },
    {
      "cell_type": "code",
      "source": [
        "generated_lar_3 = generate_prompt_2(model_large, tok_large, text_1_prompt_3, num_beams=1)"
      ],
      "metadata": {
        "id": "N29_kQM_bBtV"
      },
      "execution_count": null,
      "outputs": []
    },
    {
      "cell_type": "code",
      "source": [
        "print(generated_lar_3[0])"
      ],
      "metadata": {
        "colab": {
          "base_uri": "https://localhost:8080/"
        },
        "id": "pMwEBrKKYlDI",
        "outputId": "1f68de71-e7ac-4aef-f29f-62e1ad29cd11"
      },
      "execution_count": null,
      "outputs": [
        {
          "output_type": "stream",
          "name": "stdout",
          "text": [
            "Соотнесите новость с категорией из списка: Политика, Наука, Религия.\n",
            "Кузнец на Украине не оставил свои ворота захватившим церковь раскольникам. Категория: Религия.\n",
            "На Западе рассказали о преимуществе России, меняющем расклад на фронте. Категория: Политика.\n",
            "Космонавт Кикина не смогла выбрать, кого взяла бы в космос: кошку или мужа. Категория: Наука.\n",
            "Мишустин поблагодарил членов правительства за работу. Категория: Политика.\n",
            "В Киево-Печерской лавре призвали православных прийти на территорию обители. Категория: Религия.\n",
            "Российские ученые придумали, как помочь подросткам раскрывать таланты. Категория: Наука. \n",
            "Тема гонений на верующих на Украине замалчивается на Западе, заявил МИД. Категория: Религия.\n",
            "МИД назвал решение Финляндии вступить в НАТО невзвешенным. Категория: Политика.\n",
            "Эксперт объяснил рост космических аварий в мире. Категория: Наука. \n",
            "Муфтият Дагестана объявил дату начала месяца Рамадан. Категория: Религия.\n",
            "Мишустин поддержал проведение инвентаризации научных территорий. Категория:  Политика.<s>\tОставить комментарий (0)\n"
          ]
        }
      ]
    },
    {
      "cell_type": "markdown",
      "source": [
        "##Замена примера и длины последовательности"
      ],
      "metadata": {
        "id": "dhFTnpjIdGl_"
      }
    },
    {
      "cell_type": "markdown",
      "source": [
        "Можно отметить, что в большинстве вариантов генерации класс определяется как Политика, что, воможно, происходит ввиду того, что одна из новостей в промпте относится к этому классу и в ней употреблена фамилия \"Мишустин\".\n",
        "Попробуем заменить эту новость, а также поменять максимальную длину последовательности в модели генерации, чтобы избавиться от продолжения генерации текста:"
      ],
      "metadata": {
        "id": "RkqxDw3ccBaE"
      }
    },
    {
      "cell_type": "code",
      "source": [
        "def generate_prompt_3(\n",
        "    model, tok, text,\n",
        "    early_stopping=True,\n",
        "    do_sample=True, max_length=245, repetition_penalty=3.5,\n",
        "    top_k=5, top_p=0.80, temperature=0.7,\n",
        "    num_beams=None,\n",
        "    no_repeat_ngram_size=3\n",
        "    ):\n",
        "  input_ids = tok.encode(text, return_tensors=\"pt\").cuda()\n",
        "  out = model.generate(\n",
        "      input_ids.cuda(),\n",
        "      early_stopping=early_stopping,\n",
        "      max_length=max_length,\n",
        "      repetition_penalty=repetition_penalty,\n",
        "      do_sample=do_sample,\n",
        "      top_k=top_k, top_p=top_p, temperature=temperature,\n",
        "      num_beams=num_beams, no_repeat_ngram_size=no_repeat_ngram_size\n",
        "      )\n",
        "  return list(map(tok.decode, out))"
      ],
      "metadata": {
        "id": "mBrVrQAxdCnN"
      },
      "execution_count": null,
      "outputs": []
    },
    {
      "cell_type": "code",
      "source": [
        "text_2_prompt_3 = \"\"\"Соотнесите новость с категорией из списка: Политика, Наука, Религия.\n",
        "Кузнец на Украине не оставил свои ворота захватившим церковь раскольникам. Категория: Религия.\n",
        "На Западе рассказали о преимуществе России, меняющем расклад на фронте. Категория: Политика.\n",
        "Космонавт Кикина не смогла выбрать, кого взяла бы в космос: кошку или мужа. Категория: Наука.\n",
        "На отчете правительства в Госдуме присутствуют 417 депутатов из 450. Категория: Политика.\n",
        "В Киево-Печерской лавре призвали православных прийти на территорию обители. Категория: Религия.\n",
        "Российские ученые придумали, как помочь подросткам раскрывать таланты. Категория: Наука.\n",
        "Тема гонений на верующих на Украине замалчивается на Западе, заявил МИД. Категория: Религия.\n",
        "МИД назвал решение Финляндии вступить в НАТО невзвешенным. Категория: Политика.\n",
        "Эксперт объяснил рост космических аварий в мире. Категория: Наука.\n",
        "Муфтият Дагестана объявил дату начала месяца Рамадан. Категория: Религия.\n",
        "Мишустин поддержал проведение инвентаризации научных территорий. Категория: \"\"\"\n",
        "#ожидается Наука"
      ],
      "metadata": {
        "id": "Fy_l0BmDYlBC"
      },
      "execution_count": null,
      "outputs": []
    },
    {
      "cell_type": "code",
      "source": [
        "generated_sm_3 = generate_prompt_3(model_small, tok_small, text_2_prompt_3, num_beams=10)"
      ],
      "metadata": {
        "id": "sHU56qoWcnra"
      },
      "execution_count": null,
      "outputs": []
    },
    {
      "cell_type": "code",
      "execution_count": null,
      "metadata": {
        "colab": {
          "base_uri": "https://localhost:8080/"
        },
        "outputId": "7d14d7df-fd75-4344-e09a-67b0c7f1bb10",
        "id": "6VUWVheVcnrb"
      },
      "outputs": [
        {
          "output_type": "stream",
          "name": "stdout",
          "text": [
            "Соотнесите новость с категорией из списка: Политика, Наука, Религия.\n",
            "Кузнец на Украине не оставил свои ворота захватившим церковь раскольникам. Категория: Религия.\n",
            "На Западе рассказали о преимуществе России, меняющем расклад на фронте. Категория: Политика.\n",
            "Космонавт Кикина не смогла выбрать, кого взяла бы в космос: кошку или мужа. Категория: Наука.\n",
            "На отчете правительства в Госдуме присутствуют 417 депутатов из 450. Категория: Политика.\n",
            "В Киево-Печерской лавре призвали православных прийти на территорию обители. Категория: Религия.\n",
            "Российские ученые придумали, как помочь подросткам раскрывать таланты. Категория: Наука. \n",
            "Тема гонений на верующих на Украине замалчивается на Западе, заявил МИД. Категория: Религия.\n",
            "МИД назвал решение Финляндии вступить в НАТО невзвешенным. Категория: Политика.\n",
            "Эксперт объяснил рост космических аварий в мире. Категория: Наука. \n",
            "Муфтият Дагестана объявил дату начала месяца Рамадан. Категория: Религия.\n",
            "Мишустин поддержал проведение инвентаризации научных территорий. Категория:  Политика. \n",
            "\n",
            "\n"
          ]
        }
      ],
      "source": [
        "print(generated_sm_3[0])"
      ]
    },
    {
      "cell_type": "code",
      "source": [
        "generated_med_3 = generate_prompt_3(model_medium, tok_medium, text_2_prompt_3, num_beams=5)"
      ],
      "metadata": {
        "id": "G6soW-0Mcnrb"
      },
      "execution_count": null,
      "outputs": []
    },
    {
      "cell_type": "code",
      "execution_count": null,
      "metadata": {
        "colab": {
          "base_uri": "https://localhost:8080/"
        },
        "outputId": "68fb40be-1dc9-4e5a-da59-9efa396abd97",
        "id": "-qDCuycQcnrb"
      },
      "outputs": [
        {
          "output_type": "stream",
          "name": "stdout",
          "text": [
            "Соотнесите новость с категорией из списка: Политика, Наука, Религия.\n",
            "Кузнец на Украине не оставил свои ворота захватившим церковь раскольникам. Категория: Религия.\n",
            "На Западе рассказали о преимуществе России, меняющем расклад на фронте. Категория: Политика.\n",
            "Космонавт Кикина не смогла выбрать, кого взяла бы в космос: кошку или мужа. Категория: Наука.\n",
            "На отчете правительства в Госдуме присутствуют 417 депутатов из 450. Категория: Политика.\n",
            "В Киево-Печерской лавре призвали православных прийти на территорию обители. Категория: Религия.\n",
            "Российские ученые придумали, как помочь подросткам раскрывать таланты. Категория: Наука. \n",
            "Тема гонений на верующих на Украине замалчивается на Западе, заявил МИД. Категория: Религия.\n",
            "МИД назвал решение Финляндии вступить в НАТО невзвешенным. Категория: Политика.\n",
            "Эксперт объяснил рост космических аварий в мире. Категория: Наука. \n",
            "Муфтият Дагестана объявил дату начала месяца Рамадан. Категория: Религия.\n",
            "Мишустин поддержал проведение инвентаризации научных территорий. Категория:  Экономика.\n",
            "С\n"
          ]
        }
      ],
      "source": [
        "print(generated_med_3[0])"
      ]
    },
    {
      "cell_type": "code",
      "source": [
        "generated_lar_4 = generate_prompt_3(model_large, tok_large, text_2_prompt_3, num_beams=5)"
      ],
      "metadata": {
        "id": "xaFHOPvfcnrb"
      },
      "execution_count": null,
      "outputs": []
    },
    {
      "cell_type": "code",
      "execution_count": null,
      "metadata": {
        "colab": {
          "base_uri": "https://localhost:8080/"
        },
        "outputId": "8cb1a77d-9308-409f-8346-17c607ae1202",
        "id": "5SRqlHZMcnrb"
      },
      "outputs": [
        {
          "output_type": "stream",
          "name": "stdout",
          "text": [
            "Соотнесите новость с категорией из списка: Политика, Наука, Религия.\n",
            "Кузнец на Украине не оставил свои ворота захватившим церковь раскольникам. Категория: Религия.\n",
            "На Западе рассказали о преимуществе России, меняющем расклад на фронте. Категория: Политика.\n",
            "Космонавт Кикина не смогла выбрать, кого взяла бы в космос: кошку или мужа. Категория: Наука.\n",
            "На отчете правительства в Госдуме присутствуют 417 депутатов из 450. Категория: Политика.\n",
            "В Киево-Печерской лавре призвали православных прийти на территорию обители. Категория: Религия.\n",
            "Российские ученые придумали, как помочь подросткам раскрывать таланты. Категория: Наука. \n",
            "Тема гонений на верующих на Украине замалчивается на Западе, заявил МИД. Категория: Религия.\n",
            "МИД назвал решение Финляндии вступить в НАТО невзвешенным. Категория: Политика.\n",
            "Эксперт объяснил рост космических аварий в мире. Категория: Наука. \n",
            "Муфтият Дагестана объявил дату начала месяца Рамадан. Категория: Религия.\n",
            "Мишустин поддержал проведение инвентаризации научных территорий. Категория: \n",
            "Политика.\n"
          ]
        }
      ],
      "source": [
        "print(generated_lar_4[0])"
      ]
    },
    {
      "cell_type": "markdown",
      "source": [
        "Выводы:\n",
        "1. Исключение из промпта фамилии с целью не создавать ассоциацию категории новости с человеком не способствовало правильной классификации.\n",
        "2. Измененение максимальной длины последовательности (параметр max_length) индивидуально для каждого промпта, и требует подбора вручную, в связи с чем его нельзя использовать универсально."
      ],
      "metadata": {
        "id": "4nmHQu2Ld60b"
      }
    },
    {
      "cell_type": "markdown",
      "source": [
        "#Затравки 4\n",
        "\n",
        "Попробуем упростить инструкцию для модели и попробуем два немного разных набора гиперпараметров для определения наиболее оптимального.\n",
        "\n",
        "> N. B. Данные наборы гиперпараметров были подобраны с опорой на демонстрационные материалы работы ruGPT-3, тексты статей и примеры ноутбуков других исследователей.\n",
        "\n"
      ],
      "metadata": {
        "id": "tO6YrNgYfMMh"
      }
    },
    {
      "cell_type": "markdown",
      "source": [
        "##Модель 4.1"
      ],
      "metadata": {
        "id": "PMt5AVwHm2yX"
      }
    },
    {
      "cell_type": "code",
      "source": [
        "def generate_prompt_4_1(\n",
        "    model, tok, text,\n",
        "    do_sample=True, max_length=212, repetition_penalty=3.5,\n",
        "    top_k=10, top_p=0.85, temperature=0.6,\n",
        "    num_beams=None,\n",
        "    no_repeat_ngram_size=3\n",
        "    ):\n",
        "  input_ids = tok.encode(text, return_tensors=\"pt\").cuda()\n",
        "  out = model.generate(\n",
        "      input_ids.cuda(),\n",
        "      max_length=max_length,\n",
        "      repetition_penalty=repetition_penalty,\n",
        "      do_sample=do_sample,\n",
        "      top_k=top_k, top_p=top_p, temperature=temperature,\n",
        "      num_beams=num_beams, no_repeat_ngram_size=no_repeat_ngram_size\n",
        "      )\n",
        "  return list(map(tok.decode, out))"
      ],
      "metadata": {
        "id": "Qo7KK-t8Wq8y"
      },
      "execution_count": null,
      "outputs": []
    },
    {
      "cell_type": "code",
      "source": [
        "text_1_prompt_4 = \"\"\"Классифицируй текст. Классы: Политика, Экономика, Религия, Туризм.\n",
        "Путин проведет международный телефонный разговор. Категория - Политика.\n",
        "Абрамченко ожидает хорошего урожая в этом году. Категория - Экономика.\n",
        "Депутат Баженов прокомментировал приговор украинского суда. Категория - Политика.\n",
        "РЖД рассказали про дополнительные поезда и круизы на майские праздники. Категория - Туризм.\n",
        "Главный раввин России призвал духовных лидеров выступить за мир на Украине. Категория - Религия.\n",
        "Новак назвал причину падения цен на нефть в мире. Категория - Экономика.\n",
        "В Совфеде намерены интенсифицировать контакты с китайскими коллегами. Категория - Политика.\n",
        "Китай открыт, но есть вопросы: новые правила отдыха в Поднебесной. Категория - Туризм.\n",
        "В Литовской епархии РПЦ обратились к патриарху Варфоломею. Категория - Религия.\n",
        "Россия поставила в Китай около 67 миллионов тонн нефти в 2022 году. Категория - \"\"\"\n",
        "#ожидается Экономика"
      ],
      "metadata": {
        "id": "3G7fYVBnhMJG"
      },
      "execution_count": null,
      "outputs": []
    },
    {
      "cell_type": "markdown",
      "metadata": {
        "id": "wEacO9KmhMJG"
      },
      "source": [
        "### RuGPT3Small"
      ]
    },
    {
      "cell_type": "code",
      "source": [
        "generated_sm_1 = generate_prompt_4_1(model_small, tok_small, text_1_prompt_4, num_beams=10)"
      ],
      "metadata": {
        "id": "WwBCCQpqhMJH"
      },
      "execution_count": null,
      "outputs": []
    },
    {
      "cell_type": "code",
      "execution_count": null,
      "metadata": {
        "colab": {
          "base_uri": "https://localhost:8080/"
        },
        "outputId": "c3f71a9c-d232-43c9-b884-e2dcd188f88f",
        "id": "e_-xTp-_hMJH"
      },
      "outputs": [
        {
          "output_type": "stream",
          "name": "stdout",
          "text": [
            "Классифицируй текст. Классы: Политика, Экономика, Религия, Туризм.\n",
            "Путин проведет международный телефонный разговор. Категория - Политика.\n",
            "Абрамченко ожидает хорошего урожая в этом году. Категория - Экономика.\n",
            "Депутат Баженов прокомментировал приговор украинского суда. Категория - Политика.\n",
            "РЖД рассказали про дополнительные поезда и круизы на майские праздники. Категория - Туризм.\n",
            "Главный раввин России призвал духовных лидеров выступить за мир на Украине. Категория - Религия. \n",
            "Новак назвал причину падения цен на нефть в мире. Категория - Экономика.\n",
            "В Совфеде намерены интенсифицировать контакты с китайскими коллегами. Категория - Политика.\n",
            "Китай открыт, но есть вопросы: новые правила отдыха в Поднебесной. Категория - Туризм. \n",
            "В Литовской епархии РПЦ обратились к патриарху Варфоломею. Категория - Религия.\n",
            "Россия поставила в Китай около 67 миллионов тонн нефти в 2022 году. Категория -  Политика\n"
          ]
        }
      ],
      "source": [
        "print(generated_sm_1[0])"
      ]
    },
    {
      "cell_type": "code",
      "source": [
        "generated_sm_2 = generate_prompt_4_1(model_small, tok_small, text_1_prompt_4, num_beams=1)"
      ],
      "metadata": {
        "id": "_jPU9DLlhMJH"
      },
      "execution_count": null,
      "outputs": []
    },
    {
      "cell_type": "code",
      "source": [
        "print(generated_sm_2[0])"
      ],
      "metadata": {
        "colab": {
          "base_uri": "https://localhost:8080/"
        },
        "outputId": "68261cc8-8773-49c6-8d03-e4d1e0bfe0cf",
        "id": "qTUfRiVehMJH"
      },
      "execution_count": null,
      "outputs": [
        {
          "output_type": "stream",
          "name": "stdout",
          "text": [
            "Классифицируй текст. Классы: Политика, Экономика, Религия, Туризм.\n",
            "Путин проведет международный телефонный разговор. Категория - Политика.\n",
            "Абрамченко ожидает хорошего урожая в этом году. Категория - Экономика.\n",
            "Депутат Баженов прокомментировал приговор украинского суда. Категория - Политика.\n",
            "РЖД рассказали про дополнительные поезда и круизы на майские праздники. Категория - Туризм.\n",
            "Главный раввин России призвал духовных лидеров выступить за мир на Украине. Категория - Религия. \n",
            "Новак назвал причину падения цен на нефть в мире. Категория - Экономика.\n",
            "В Совфеде намерены интенсифицировать контакты с китайскими коллегами. Категория - Политика.\n",
            "Китай открыт, но есть вопросы: новые правила отдыха в Поднебесной. Категория - Туризм. \n",
            "В Литовской епархии РПЦ обратились к патриарху Варфоломею. Категория - Религия.\n",
            "Россия поставила в Китай около 67 миллионов тонн нефти в 2022 году. Категория -  Культура\n"
          ]
        }
      ]
    },
    {
      "cell_type": "markdown",
      "metadata": {
        "id": "xvuxN5xlhMJH"
      },
      "source": [
        "### RuGPT3Medium"
      ]
    },
    {
      "cell_type": "code",
      "source": [
        "generated_med_1 = generate_prompt_4_1(model_medium, tok_medium, text_1_prompt_4, num_beams=10)"
      ],
      "metadata": {
        "id": "Z4WYffTWhMJH"
      },
      "execution_count": null,
      "outputs": []
    },
    {
      "cell_type": "code",
      "execution_count": null,
      "metadata": {
        "colab": {
          "base_uri": "https://localhost:8080/"
        },
        "outputId": "eb88264d-a363-4ed8-9614-79159fb40a15",
        "id": "5pFLE-zxhMJH"
      },
      "outputs": [
        {
          "output_type": "stream",
          "name": "stdout",
          "text": [
            "Классифицируй текст. Классы: Политика, Экономика, Религия, Туризм.\n",
            "Путин проведет международный телефонный разговор. Категория - Политика.\n",
            "Абрамченко ожидает хорошего урожая в этом году. Категория - Экономика.\n",
            "Депутат Баженов прокомментировал приговор украинского суда. Категория - Политика.\n",
            "РЖД рассказали про дополнительные поезда и круизы на майские праздники. Категория - Туризм.\n",
            "Главный раввин России призвал духовных лидеров выступить за мир на Украине. Категория - Религия. \n",
            "Новак назвал причину падения цен на нефть в мире. Категория - Экономика.\n",
            "В Совфеде намерены интенсифицировать контакты с китайскими коллегами. Категория - Политика.\n",
            "Китай открыт, но есть вопросы: новые правила отдыха в Поднебесной. Категория - Туризм. \n",
            "В Литовской епархии РПЦ обратились к патриарху Варфоломею. Категория - Религия.\n",
            "Россия поставила в Китай около 67 миллионов тонн нефти в 2022 году. Категория -  Экономика. \n",
            "\n"
          ]
        }
      ],
      "source": [
        "print(generated_med_1[0])"
      ]
    },
    {
      "cell_type": "code",
      "source": [
        "generated_med_1_1 = generate_prompt_4_1(model_medium, tok_medium, text_1_prompt_4, num_beams=5)"
      ],
      "metadata": {
        "id": "b4ifTuUGk1Eu"
      },
      "execution_count": null,
      "outputs": []
    },
    {
      "cell_type": "code",
      "execution_count": null,
      "metadata": {
        "colab": {
          "base_uri": "https://localhost:8080/"
        },
        "outputId": "4c446d53-fcf5-406a-8378-83ffb464a101",
        "id": "It8RVf_Fk1Eu"
      },
      "outputs": [
        {
          "output_type": "stream",
          "name": "stdout",
          "text": [
            "Классифицируй текст. Классы: Политика, Экономика, Религия, Туризм.\n",
            "Путин проведет международный телефонный разговор. Категория - Политика.\n",
            "Абрамченко ожидает хорошего урожая в этом году. Категория - Экономика.\n",
            "Депутат Баженов прокомментировал приговор украинского суда. Категория - Политика.\n",
            "РЖД рассказали про дополнительные поезда и круизы на майские праздники. Категория - Туризм.\n",
            "Главный раввин России призвал духовных лидеров выступить за мир на Украине. Категория - Религия. \n",
            "Новак назвал причину падения цен на нефть в мире. Категория - Экономика.\n",
            "В Совфеде намерены интенсифицировать контакты с китайскими коллегами. Категория - Политика.\n",
            "Китай открыт, но есть вопросы: новые правила отдыха в Поднебесной. Категория - Туризм. \n",
            "В Литовской епархии РПЦ обратились к патриарху Варфоломею. Категория - Религия.\n",
            "Россия поставила в Китай около 67 миллионов тонн нефти в 2022 году. Категория -  Экономика. \n",
            "\n"
          ]
        }
      ],
      "source": [
        "print(generated_med_1_1[0])"
      ]
    },
    {
      "cell_type": "code",
      "source": [
        "generated_med_2 = generate_prompt_4_1(model_medium, tok_medium, text_1_prompt_4, num_beams=1)"
      ],
      "metadata": {
        "id": "TkZ_1kdEhMJH"
      },
      "execution_count": null,
      "outputs": []
    },
    {
      "cell_type": "code",
      "execution_count": null,
      "metadata": {
        "colab": {
          "base_uri": "https://localhost:8080/"
        },
        "outputId": "3f67fa1b-3c05-46b3-f772-fd6cb57afe08",
        "id": "QuKpN5AOhMJH"
      },
      "outputs": [
        {
          "output_type": "stream",
          "name": "stdout",
          "text": [
            "Классифицируй текст. Классы: Политика, Экономика, Религия, Туризм.\n",
            "Путин проведет международный телефонный разговор. Категория - Политика.\n",
            "Абрамченко ожидает хорошего урожая в этом году. Категория - Экономика.\n",
            "Депутат Баженов прокомментировал приговор украинского суда. Категория - Политика.\n",
            "РЖД рассказали про дополнительные поезда и круизы на майские праздники. Категория - Туризм.\n",
            "Главный раввин России призвал духовных лидеров выступить за мир на Украине. Категория - Религия. \n",
            "Новак назвал причину падения цен на нефть в мире. Категория - Экономика.\n",
            "В Совфеде намерены интенсифицировать контакты с китайскими коллегами. Категория - Политика.\n",
            "Китай открыт, но есть вопросы: новые правила отдыха в Поднебесной. Категория - Туризм. \n",
            "В Литовской епархии РПЦ обратились к патриарху Варфоломею. Категория - Религия.\n",
            "Россия поставила в Китай около 67 миллионов тонн нефти в 2022 году. Категория -  Наука\n"
          ]
        }
      ],
      "source": [
        "print(generated_med_2[0])"
      ]
    },
    {
      "cell_type": "markdown",
      "metadata": {
        "id": "VouyI0rhhMJH"
      },
      "source": [
        "### RuGPT3Large"
      ]
    },
    {
      "cell_type": "code",
      "source": [
        "generated_lar_1 = generate_prompt_4_1(model_large, tok_large, text_1_prompt_4, num_beams=5)"
      ],
      "metadata": {
        "id": "vsNdhGTLhMJH"
      },
      "execution_count": null,
      "outputs": []
    },
    {
      "cell_type": "code",
      "execution_count": null,
      "metadata": {
        "colab": {
          "base_uri": "https://localhost:8080/"
        },
        "outputId": "23bbd035-485b-4f90-b022-34e4ea7c9be7",
        "id": "EOIeDzrnhMJH"
      },
      "outputs": [
        {
          "output_type": "stream",
          "name": "stdout",
          "text": [
            "Классифицируй текст. Классы: Политика, Экономика, Религия, Туризм.\n",
            "Путин проведет международный телефонный разговор. Категория - Политика.\n",
            "Абрамченко ожидает хорошего урожая в этом году. Категория - Экономика.\n",
            "Депутат Баженов прокомментировал приговор украинского суда. Категория - Политика.\n",
            "РЖД рассказали про дополнительные поезда и круизы на майские праздники. Категория - Туризм.\n",
            "Главный раввин России призвал духовных лидеров выступить за мир на Украине. Категория - Религия. \n",
            "Новак назвал причину падения цен на нефть в мире. Категория - Экономика.\n",
            "В Совфеде намерены интенсифицировать контакты с китайскими коллегами. Категория - Политика.\n",
            "Китай открыт, но есть вопросы: новые правила отдыха в Поднебесной. Категория - Туризм. \n",
            "В Литовской епархии РПЦ обратились к патриарху Варфоломею. Категория - Религия.\n",
            "Россия поставила в Китай около 67 миллионов тонн нефти в 2022 году. Категория - \n",
            "Экономика\n"
          ]
        }
      ],
      "source": [
        "print(generated_lar_1[0])"
      ]
    },
    {
      "cell_type": "code",
      "source": [
        "generated_lar_2 = generate_prompt_4_1(model_large, tok_large, text_1_prompt_4, num_beams=3)"
      ],
      "metadata": {
        "id": "_1jQIE1thMJH"
      },
      "execution_count": null,
      "outputs": []
    },
    {
      "cell_type": "code",
      "execution_count": null,
      "metadata": {
        "colab": {
          "base_uri": "https://localhost:8080/"
        },
        "outputId": "67753a74-23c6-4c53-bf8c-e94213d83b58",
        "id": "aCD61nFVhMJH"
      },
      "outputs": [
        {
          "output_type": "stream",
          "name": "stdout",
          "text": [
            "Классифицируй текст. Классы: Политика, Экономика, Религия, Туризм.\n",
            "Путин проведет международный телефонный разговор. Категория - Политика.\n",
            "Абрамченко ожидает хорошего урожая в этом году. Категория - Экономика.\n",
            "Депутат Баженов прокомментировал приговор украинского суда. Категория - Политика.\n",
            "РЖД рассказали про дополнительные поезда и круизы на майские праздники. Категория - Туризм.\n",
            "Главный раввин России призвал духовных лидеров выступить за мир на Украине. Категория - Религия. \n",
            "Новак назвал причину падения цен на нефть в мире. Категория - Экономика.\n",
            "В Совфеде намерены интенсифицировать контакты с китайскими коллегами. Категория - Политика.\n",
            "Китай открыт, но есть вопросы: новые правила отдыха в Поднебесной. Категория - Туризм. \n",
            "В Литовской епархии РПЦ обратились к патриарху Варфоломею. Категория - Религия.\n",
            "Россия поставила в Китай около 67 миллионов тонн нефти в 2022 году. Категория - \n",
            "Экономика\n"
          ]
        }
      ],
      "source": [
        "print(generated_lar_2[0])"
      ]
    },
    {
      "cell_type": "code",
      "source": [
        "generated_lar_3 = generate_prompt_4_1(model_large, tok_large, text_1_prompt_4, num_beams=1)"
      ],
      "metadata": {
        "id": "ub-1qDcrjgTc"
      },
      "execution_count": null,
      "outputs": []
    },
    {
      "cell_type": "code",
      "source": [
        "print(generated_lar_3[0])"
      ],
      "metadata": {
        "colab": {
          "base_uri": "https://localhost:8080/"
        },
        "outputId": "cf6d1ac3-eaad-4584-8faf-551889a323b2",
        "id": "qsHMnskijgTc"
      },
      "execution_count": null,
      "outputs": [
        {
          "output_type": "stream",
          "name": "stdout",
          "text": [
            "Классифицируй текст. Классы: Политика, Экономика, Религия, Туризм.\n",
            "Путин проведет международный телефонный разговор. Категория - Политика.\n",
            "Абрамченко ожидает хорошего урожая в этом году. Категория - Экономика.\n",
            "Депутат Баженов прокомментировал приговор украинского суда. Категория - Политика.\n",
            "РЖД рассказали про дополнительные поезда и круизы на майские праздники. Категория - Туризм.\n",
            "Главный раввин России призвал духовных лидеров выступить за мир на Украине. Категория - Религия. \n",
            "Новак назвал причину падения цен на нефть в мире. Категория - Экономика.\n",
            "В Совфеде намерены интенсифицировать контакты с китайскими коллегами. Категория - Политика.\n",
            "Китай открыт, но есть вопросы: новые правила отдыха в Поднебесной. Категория - Туризм. \n",
            "В Литовской епархии РПЦ обратились к патриарху Варфоломею. Категория - Религия.\n",
            "Россия поставила в Китай около 67 миллионов тонн нефти в 2022 году. Категория - ﻿\n"
          ]
        }
      ]
    },
    {
      "cell_type": "markdown",
      "source": [
        "##Модель 4.2"
      ],
      "metadata": {
        "id": "TIEyb1S8m9oI"
      }
    },
    {
      "cell_type": "code",
      "source": [
        "def generate_prompt_4_2(\n",
        "    model, tok, text,\n",
        "    do_sample=True, max_length=212, repetition_penalty=2.0,\n",
        "    top_k=3, top_p=0.95, temperature=0.2,\n",
        "    num_beams=None,\n",
        "    no_repeat_ngram_size=3\n",
        "    ):\n",
        "  input_ids = tok.encode(text, return_tensors=\"pt\").cuda()\n",
        "  out = model.generate(\n",
        "      input_ids.cuda(),\n",
        "      max_length=max_length,\n",
        "      repetition_penalty=repetition_penalty,\n",
        "      do_sample=do_sample,\n",
        "      top_k=top_k, top_p=top_p, temperature=temperature,\n",
        "      num_beams=num_beams, no_repeat_ngram_size=no_repeat_ngram_size\n",
        "      )\n",
        "  return list(map(tok.decode, out))"
      ],
      "metadata": {
        "id": "Wj4LaC0sm9oI"
      },
      "execution_count": null,
      "outputs": []
    },
    {
      "cell_type": "code",
      "source": [
        "text_1_prompt_4 = \"\"\"Классифицируй текст. Классы: Политика, Экономика, Религия, Туризм.\n",
        "Путин проведет международный телефонный разговор. Категория - Политика.\n",
        "Абрамченко ожидает хорошего урожая в этом году. Категория - Экономика.\n",
        "Депутат Баженов прокомментировал приговор украинского суда. Категория - Политика.\n",
        "РЖД рассказали про дополнительные поезда и круизы на майские праздники. Категория - Туризм.\n",
        "Главный раввин России призвал духовных лидеров выступить за мир на Украине. Категория - Религия.\n",
        "Новак назвал причину падения цен на нефть в мире. Категория - Экономика.\n",
        "В Совфеде намерены интенсифицировать контакты с китайскими коллегами. Категория - Политика.\n",
        "Китай открыт, но есть вопросы: новые правила отдыха в Поднебесной. Категория - Туризм.\n",
        "В Литовской епархии РПЦ обратились к патриарху Варфоломею. Категория - Религия.\n",
        "Россия поставила в Китай около 67 миллионов тонн нефти в 2022 году. Категория - \"\"\"\n",
        "#ожидается Экономика"
      ],
      "metadata": {
        "id": "NeqCzLQfm9oI"
      },
      "execution_count": null,
      "outputs": []
    },
    {
      "cell_type": "markdown",
      "metadata": {
        "id": "v0IAHIHqm9oI"
      },
      "source": [
        "### RuGPT3Small"
      ]
    },
    {
      "cell_type": "code",
      "source": [
        "generated_sm_1 = generate_prompt_4_2(model_small, tok_small, text_1_prompt_4, num_beams=10)"
      ],
      "metadata": {
        "id": "QITcSDChm9oI"
      },
      "execution_count": null,
      "outputs": []
    },
    {
      "cell_type": "code",
      "execution_count": null,
      "metadata": {
        "colab": {
          "base_uri": "https://localhost:8080/"
        },
        "outputId": "2fe3e99a-c41e-4459-8be3-77197db44c48",
        "id": "0o3adEulm9oJ"
      },
      "outputs": [
        {
          "output_type": "stream",
          "name": "stdout",
          "text": [
            "Классифицируй текст. Классы: Политика, Экономика, Религия, Туризм.\n",
            "Путин проведет международный телефонный разговор. Категория - Политика.\n",
            "Абрамченко ожидает хорошего урожая в этом году. Категория - Экономика.\n",
            "Депутат Баженов прокомментировал приговор украинского суда. Категория - Политика.\n",
            "РЖД рассказали про дополнительные поезда и круизы на майские праздники. Категория - Туризм.\n",
            "Главный раввин России призвал духовных лидеров выступить за мир на Украине. Категория - Религия. \n",
            "Новак назвал причину падения цен на нефть в мире. Категория - Экономика.\n",
            "В Совфеде намерены интенсифицировать контакты с китайскими коллегами. Категория - Политика.\n",
            "Китай открыт, но есть вопросы: новые правила отдыха в Поднебесной. Категория - Туризм. \n",
            "В Литовской епархии РПЦ обратились к патриарху Варфоломею. Категория - Религия.\n",
            "Россия поставила в Китай около 67 миллионов тонн нефти в 2022 году. Категория -  Политика. \n"
          ]
        }
      ],
      "source": [
        "print(generated_sm_1[0])"
      ]
    },
    {
      "cell_type": "code",
      "source": [
        "generated_sm_2 = generate_prompt_4_2(model_small, tok_small, text_1_prompt_4, num_beams=1)"
      ],
      "metadata": {
        "id": "Wschc_e4m9oJ"
      },
      "execution_count": null,
      "outputs": []
    },
    {
      "cell_type": "code",
      "source": [
        "print(generated_sm_2[0])"
      ],
      "metadata": {
        "colab": {
          "base_uri": "https://localhost:8080/"
        },
        "outputId": "b1b5e601-63c1-46b4-fd03-798be9af76d6",
        "id": "3N4tTaxJm9oJ"
      },
      "execution_count": null,
      "outputs": [
        {
          "output_type": "stream",
          "name": "stdout",
          "text": [
            "Классифицируй текст. Классы: Политика, Экономика, Религия, Туризм.\n",
            "Путин проведет международный телефонный разговор. Категория - Политика.\n",
            "Абрамченко ожидает хорошего урожая в этом году. Категория - Экономика.\n",
            "Депутат Баженов прокомментировал приговор украинского суда. Категория - Политика.\n",
            "РЖД рассказали про дополнительные поезда и круизы на майские праздники. Категория - Туризм.\n",
            "Главный раввин России призвал духовных лидеров выступить за мир на Украине. Категория - Религия. \n",
            "Новак назвал причину падения цен на нефть в мире. Категория - Экономика.\n",
            "В Совфеде намерены интенсифицировать контакты с китайскими коллегами. Категория - Политика.\n",
            "Китай открыт, но есть вопросы: новые правила отдыха в Поднебесной. Категория - Туризм. \n",
            "В Литовской епархии РПЦ обратились к патриарху Варфоломею. Категория - Религия.\n",
            "Россия поставила в Китай около 67 миллионов тонн нефти в 2022 году. Категория -  Россия.  \n"
          ]
        }
      ]
    },
    {
      "cell_type": "markdown",
      "metadata": {
        "id": "qM3agHXam9oJ"
      },
      "source": [
        "### RuGPT3Medium"
      ]
    },
    {
      "cell_type": "code",
      "source": [
        "generated_med_1 = generate_prompt_4_2(model_medium, tok_medium, text_1_prompt_4, num_beams=10)"
      ],
      "metadata": {
        "id": "sP5ESOOBm9oJ"
      },
      "execution_count": null,
      "outputs": []
    },
    {
      "cell_type": "code",
      "execution_count": null,
      "metadata": {
        "colab": {
          "base_uri": "https://localhost:8080/"
        },
        "outputId": "92b144ae-8c7a-4ec2-c831-32993c0f67c9",
        "id": "8ju6bPf4m9oJ"
      },
      "outputs": [
        {
          "output_type": "stream",
          "name": "stdout",
          "text": [
            "Классифицируй текст. Классы: Политика, Экономика, Религия, Туризм.\n",
            "Путин проведет международный телефонный разговор. Категория - Политика.\n",
            "Абрамченко ожидает хорошего урожая в этом году. Категория - Экономика.\n",
            "Депутат Баженов прокомментировал приговор украинского суда. Категория - Политика.\n",
            "РЖД рассказали про дополнительные поезда и круизы на майские праздники. Категория - Туризм.\n",
            "Главный раввин России призвал духовных лидеров выступить за мир на Украине. Категория - Религия. \n",
            "Новак назвал причину падения цен на нефть в мире. Категория - Экономика.\n",
            "В Совфеде намерены интенсифицировать контакты с китайскими коллегами. Категория - Политика.\n",
            "Китай открыт, но есть вопросы: новые правила отдыха в Поднебесной. Категория - Туризм. \n",
            "В Литовской епархии РПЦ обратились к патриарху Варфоломею. Категория - Религия.\n",
            "Россия поставила в Китай около 67 миллионов тонн нефти в 2022 году. Категория -  Экономика. \n"
          ]
        }
      ],
      "source": [
        "print(generated_med_1[0])"
      ]
    },
    {
      "cell_type": "code",
      "source": [
        "generated_med_1_1 = generate_prompt_4_2(model_medium, tok_medium, text_1_prompt_4, num_beams=3)"
      ],
      "metadata": {
        "id": "u3nlyoeMm9oJ"
      },
      "execution_count": null,
      "outputs": []
    },
    {
      "cell_type": "code",
      "execution_count": null,
      "metadata": {
        "colab": {
          "base_uri": "https://localhost:8080/"
        },
        "outputId": "c23fc103-bef3-43ef-f1da-226a453afda0",
        "id": "dhodcf3hm9oJ"
      },
      "outputs": [
        {
          "output_type": "stream",
          "name": "stdout",
          "text": [
            "Классифицируй текст. Классы: Политика, Экономика, Религия, Туризм.\n",
            "Путин проведет международный телефонный разговор. Категория - Политика.\n",
            "Абрамченко ожидает хорошего урожая в этом году. Категория - Экономика.\n",
            "Депутат Баженов прокомментировал приговор украинского суда. Категория - Политика.\n",
            "РЖД рассказали про дополнительные поезда и круизы на майские праздники. Категория - Туризм.\n",
            "Главный раввин России призвал духовных лидеров выступить за мир на Украине. Категория - Религия. \n",
            "Новак назвал причину падения цен на нефть в мире. Категория - Экономика.\n",
            "В Совфеде намерены интенсифицировать контакты с китайскими коллегами. Категория - Политика.\n",
            "Китай открыт, но есть вопросы: новые правила отдыха в Поднебесной. Категория - Туризм. \n",
            "В Литовской епархии РПЦ обратились к патриарху Варфоломею. Категория - Религия.\n",
            "Россия поставила в Китай около 67 миллионов тонн нефти в 2022 году. Категория -  Экономика. \n"
          ]
        }
      ],
      "source": [
        "print(generated_med_1_1[0])"
      ]
    },
    {
      "cell_type": "code",
      "source": [
        "generated_med_2 = generate_prompt_4_2(model_medium, tok_medium, text_1_prompt_4, num_beams=1)"
      ],
      "metadata": {
        "id": "vsIDzaPnm9oJ"
      },
      "execution_count": null,
      "outputs": []
    },
    {
      "cell_type": "code",
      "execution_count": null,
      "metadata": {
        "colab": {
          "base_uri": "https://localhost:8080/"
        },
        "outputId": "1ea165f6-f05e-415b-85c4-c26c8c45a6a4",
        "id": "LfxjUcr3m9oJ"
      },
      "outputs": [
        {
          "output_type": "stream",
          "name": "stdout",
          "text": [
            "Классифицируй текст. Классы: Политика, Экономика, Религия, Туризм.\n",
            "Путин проведет международный телефонный разговор. Категория - Политика.\n",
            "Абрамченко ожидает хорошего урожая в этом году. Категория - Экономика.\n",
            "Депутат Баженов прокомментировал приговор украинского суда. Категория - Политика.\n",
            "РЖД рассказали про дополнительные поезда и круизы на майские праздники. Категория - Туризм.\n",
            "Главный раввин России призвал духовных лидеров выступить за мир на Украине. Категория - Религия. \n",
            "Новак назвал причину падения цен на нефть в мире. Категория - Экономика.\n",
            "В Совфеде намерены интенсифицировать контакты с китайскими коллегами. Категория - Политика.\n",
            "Китай открыт, но есть вопросы: новые правила отдыха в Поднебесной. Категория - Туризм. \n",
            "В Литовской епархии РПЦ обратились к патриарху Варфоломею. Категория - Религия.\n",
            "Россия поставила в Китай около 67 миллионов тонн нефти в 2022 году. Категория -  Культура (ви\n"
          ]
        }
      ],
      "source": [
        "print(generated_med_2[0])"
      ]
    },
    {
      "cell_type": "markdown",
      "metadata": {
        "id": "nyI1viccm9oJ"
      },
      "source": [
        "### RuGPT3Large"
      ]
    },
    {
      "cell_type": "code",
      "source": [
        "generated_lar_1 = generate_prompt_4_2(model_large, tok_large, text_1_prompt_4, num_beams=5)"
      ],
      "metadata": {
        "id": "Hkebgltvm9oJ"
      },
      "execution_count": null,
      "outputs": []
    },
    {
      "cell_type": "code",
      "execution_count": null,
      "metadata": {
        "colab": {
          "base_uri": "https://localhost:8080/"
        },
        "outputId": "d3b2b644-ac90-4ab4-bb2b-b2478b9fddb6",
        "id": "AgjuTjIUm9oJ"
      },
      "outputs": [
        {
          "output_type": "stream",
          "name": "stdout",
          "text": [
            "Классифицируй текст. Классы: Политика, Экономика, Религия, Туризм.\n",
            "Путин проведет международный телефонный разговор. Категория - Политика.\n",
            "Абрамченко ожидает хорошего урожая в этом году. Категория - Экономика.\n",
            "Депутат Баженов прокомментировал приговор украинского суда. Категория - Политика.\n",
            "РЖД рассказали про дополнительные поезда и круизы на майские праздники. Категория - Туризм.\n",
            "Главный раввин России призвал духовных лидеров выступить за мир на Украине. Категория - Религия. \n",
            "Новак назвал причину падения цен на нефть в мире. Категория - Экономика.\n",
            "В Совфеде намерены интенсифицировать контакты с китайскими коллегами. Категория - Политика.\n",
            "Китай открыт, но есть вопросы: новые правила отдыха в Поднебесной. Категория - Туризм. \n",
            "В Литовской епархии РПЦ обратились к патриарху Варфоломею. Категория - Религия.\n",
            "Россия поставила в Китай около 67 миллионов тонн нефти в 2022 году. Категория - \n",
            "Экономика\n"
          ]
        }
      ],
      "source": [
        "print(generated_lar_1[0])"
      ]
    },
    {
      "cell_type": "code",
      "source": [
        "generated_lar_2 = generate_prompt_4_2(model_large, tok_large, text_1_prompt_4, num_beams=20)"
      ],
      "metadata": {
        "id": "tDKXkfPwm9oJ"
      },
      "execution_count": null,
      "outputs": []
    },
    {
      "cell_type": "code",
      "execution_count": null,
      "metadata": {
        "colab": {
          "base_uri": "https://localhost:8080/"
        },
        "outputId": "5457bada-6f13-457e-d343-3cf1bf237af5",
        "id": "1Pu_dVocm9oJ"
      },
      "outputs": [
        {
          "output_type": "stream",
          "name": "stdout",
          "text": [
            "Классифицируй текст. Классы: Политика, Экономика, Религия, Туризм.\n",
            "Путин проведет международный телефонный разговор. Категория - Политика.\n",
            "Абрамченко ожидает хорошего урожая в этом году. Категория - Экономика.\n",
            "Депутат Баженов прокомментировал приговор украинского суда. Категория - Политика.\n",
            "РЖД рассказали про дополнительные поезда и круизы на майские праздники. Категория - Туризм.\n",
            "Главный раввин России призвал духовных лидеров выступить за мир на Украине. Категория - Религия. \n",
            "Новак назвал причину падения цен на нефть в мире. Категория - Экономика.\n",
            "В Совфеде намерены интенсифицировать контакты с китайскими коллегами. Категория - Политика.\n",
            "Китай открыт, но есть вопросы: новые правила отдыха в Поднебесной. Категория - Туризм. \n",
            "В Литовской епархии РПЦ обратились к патриарху Варфоломею. Категория - Религия.\n",
            "Россия поставила в Китай около 67 миллионов тонн нефти в 2022 году. Категория - \n",
            "Экономика\n"
          ]
        }
      ],
      "source": [
        "print(generated_lar_2[0])"
      ]
    },
    {
      "cell_type": "code",
      "source": [
        "generated_lar_3 = generate_prompt_4_2(model_large, tok_large, text_1_prompt_4, num_beams=1)"
      ],
      "metadata": {
        "id": "B5zhuZaAm9oJ"
      },
      "execution_count": null,
      "outputs": []
    },
    {
      "cell_type": "code",
      "source": [
        "print(generated_lar_3[0])"
      ],
      "metadata": {
        "colab": {
          "base_uri": "https://localhost:8080/"
        },
        "outputId": "7621fe83-727c-4015-dbae-1c83b582ea3c",
        "id": "p2_QwPFnm9oJ"
      },
      "execution_count": null,
      "outputs": [
        {
          "output_type": "stream",
          "name": "stdout",
          "text": [
            "Классифицируй текст. Классы: Политика, Экономика, Религия, Туризм.\n",
            "Путин проведет международный телефонный разговор. Категория - Политика.\n",
            "Абрамченко ожидает хорошего урожая в этом году. Категория - Экономика.\n",
            "Депутат Баженов прокомментировал приговор украинского суда. Категория - Политика.\n",
            "РЖД рассказали про дополнительные поезда и круизы на майские праздники. Категория - Туризм.\n",
            "Главный раввин России призвал духовных лидеров выступить за мир на Украине. Категория - Религия. \n",
            "Новак назвал причину падения цен на нефть в мире. Категория - Экономика.\n",
            "В Совфеде намерены интенсифицировать контакты с китайскими коллегами. Категория - Политика.\n",
            "Китай открыт, но есть вопросы: новые правила отдыха в Поднебесной. Категория - Туризм. \n",
            "В Литовской епархии РПЦ обратились к патриарху Варфоломею. Категория - Религия.\n",
            "Россия поставила в Китай около 67 миллионов тонн нефти в 2022 году. Категория - ﻿\n"
          ]
        }
      ]
    },
    {
      "cell_type": "markdown",
      "source": [
        "Вывод:\n",
        "\n",
        "Более лаконичный с точки зрения постановки задачи промпт работает однозначно лучше (теперь не только большая **large** модель может правильно классифицировать текст, но и средняя **medium**), при этом обе модели с разными гиперпараметрами показали примерно одинаковый результат.\n",
        "\n",
        "Однако, подбор значения max_len осложняется тем, что его опртимальное значение будет разным для разных размеров модели (например, при значении 210 у маленькой модели генерировалась точка в конце генерации, у средней нет, а у большой не генерировалась даже категория текста, в связи с чем для исключения генерации текста после определения класса было необходимо установить оптимальное для всех моделей значение экспериментальным путем).\n",
        "\n",
        "Также стоит отметить, что генерация класса текста правильно работает при num_beams != 1 (то есть не при жадном подборе слов)."
      ],
      "metadata": {
        "id": "9p1YY8nUnttU"
      }
    },
    {
      "cell_type": "markdown",
      "source": [
        "#Затравки 5"
      ],
      "metadata": {
        "id": "Q4yFrR30o9Nq"
      }
    },
    {
      "cell_type": "markdown",
      "source": [
        "Попробуем добавить в \"инструкцию\" указание на необходимость генерировать 1 слово, и при этом длину специально ставим побольше:"
      ],
      "metadata": {
        "id": "Zua--Q0Uu335"
      }
    },
    {
      "cell_type": "code",
      "source": [
        "def generate_prompt_5(\n",
        "    model, tok, text,\n",
        "    do_sample=True, max_length=230, repetition_penalty=2.0,\n",
        "    top_k=5, top_p=0.90, temperature=0.5,\n",
        "    num_beams=None,\n",
        "    no_repeat_ngram_size=3\n",
        "    ):\n",
        "  input_ids = tok.encode(text, return_tensors=\"pt\").cuda()\n",
        "  out = model.generate(\n",
        "      input_ids.cuda(),\n",
        "      max_length=max_length,\n",
        "      repetition_penalty=repetition_penalty,\n",
        "      do_sample=do_sample,\n",
        "      top_k=top_k, top_p=top_p, temperature=temperature,\n",
        "      num_beams=num_beams, no_repeat_ngram_size=no_repeat_ngram_size\n",
        "      )\n",
        "  return list(map(tok.decode, out))"
      ],
      "metadata": {
        "id": "aQ3-XF6qsTa4"
      },
      "execution_count": null,
      "outputs": []
    },
    {
      "cell_type": "code",
      "source": [
        "text_1_prompt_5 = \"\"\"Классифицируй текст и напиши только одно слово. Классы: Происшествия, Культура, Спорт, Армия.\n",
        "В Шереметьево экстренно сел самолет из-за разгерметизации салона. Категория - Происшествия.\n",
        "Мэр латвийского города заявил о желании забрать памятник Пушкину из Риги. Категория - Культура.\n",
        "\"Зенит\" сыграл вничью с \"Фенербахче\" в товарищеском матче. Категория - Спорт.\n",
        "Спасатели 4-й армии ВВС и ПВО ЮВО провели тренировки по эвакуации летчика. Категория - Армия.\n",
        "В Тюмени два подростка погибли из-за пожара в бане. Категория - Происшествия.\n",
        "УЕФА открыл дело в отношении \"Барселоны\" из-за подозрений в подкупе судей. Категория - Спорт.\n",
        "Житель Чувашии задушил мать шнурками от обуви. Категория - Происшествия.\n",
        "Появились первые кадры фильма Шахназарова о бандитской Москве. Категория - \"\"\"\n",
        "#ожидается Культура"
      ],
      "metadata": {
        "id": "91kSiZT5sTa5"
      },
      "execution_count": null,
      "outputs": []
    },
    {
      "cell_type": "markdown",
      "metadata": {
        "id": "-TYavfyVsTa5"
      },
      "source": [
        "### RuGPT3Small"
      ]
    },
    {
      "cell_type": "code",
      "source": [
        "generated_sm_1 = generate_prompt_5(model_small, tok_small, text_1_prompt_5, num_beams=10)"
      ],
      "metadata": {
        "id": "e32aFi4MsTa5"
      },
      "execution_count": null,
      "outputs": []
    },
    {
      "cell_type": "code",
      "execution_count": null,
      "metadata": {
        "colab": {
          "base_uri": "https://localhost:8080/"
        },
        "outputId": "f327c12c-ee72-432f-f992-e023902e7c33",
        "id": "JsH6UIFJsTa5"
      },
      "outputs": [
        {
          "output_type": "stream",
          "name": "stdout",
          "text": [
            "Классифицируй текст и напиши только одно слово. Классы: Происшествия, Культура, Спорт, Армия. \n",
            "В Шереметьево экстренно сел самолет из-за разгерметизации салона. Категория - Происшествия.\n",
            "Мэр латвийского города заявил о желании забрать памятник Пушкину из Риги. Категория - Культура.\n",
            "\"Зенит\" сыграл вничью с \"Фенербахче\" в товарищеском матче. Категория - Спорт.\n",
            "Спасатели 4-й армии ВВС и ПВО ЮВО провели тренировки по эвакуации летчика. Категория - Армия.\n",
            "В Тюмени два подростка погибли из-за пожара в бане. Категория - Происшествия. \n",
            "УЕФА открыл дело в отношении \"Барселоны\" из-за подозрений в подкупе судей. Категория - Спорт.\n",
            "Житель Чувашии задушил мать шнурками от обуви. Категория - Происшествия.\n",
            "Появились первые кадры фильма Шахназарова о бандитской Москве. Категория -  Общество.\n",
            "Премьер-министр России Дмитрий Медведев подписал указ о создании комиссии по расследованию причин крушения самолета Ту-15\n"
          ]
        }
      ],
      "source": [
        "print(generated_sm_1[0])"
      ]
    },
    {
      "cell_type": "code",
      "source": [
        "generated_sm_2 = generate_prompt_5(model_small, tok_small, text_1_prompt_5, num_beams=1)"
      ],
      "metadata": {
        "id": "Jl35DNA9sTa5"
      },
      "execution_count": null,
      "outputs": []
    },
    {
      "cell_type": "code",
      "source": [
        "print(generated_sm_2[0])"
      ],
      "metadata": {
        "colab": {
          "base_uri": "https://localhost:8080/"
        },
        "outputId": "cf683967-3116-482e-f19c-76c4ba36ce67",
        "id": "wLWfAqZusTa5"
      },
      "execution_count": null,
      "outputs": [
        {
          "output_type": "stream",
          "name": "stdout",
          "text": [
            "Классифицируй текст и напиши только одно слово. Классы: Происшествия, Культура, Спорт, Армия. \n",
            "В Шереметьево экстренно сел самолет из-за разгерметизации салона. Категория - Происшествия.\n",
            "Мэр латвийского города заявил о желании забрать памятник Пушкину из Риги. Категория - Культура.\n",
            "\"Зенит\" сыграл вничью с \"Фенербахче\" в товарищеском матче. Категория - Спорт.\n",
            "Спасатели 4-й армии ВВС и ПВО ЮВО провели тренировки по эвакуации летчика. Категория - Армия.\n",
            "В Тюмени два подростка погибли из-за пожара в бане. Категория - Происшествия. \n",
            "УЕФА открыл дело в отношении \"Барселоны\" из-за подозрений в подкупе судей. Категория - Спорт.\n",
            "Житель Чувашии задушил мать шнурками от обуви. Категория - Происшествия.\n",
            "Появились первые кадры фильма Шахназарова о бандитской Москве. Категория -  Общество. \n",
            "       Оригинал записи находится на сайте YouTube http://www1tvsudirektor\n"
          ]
        }
      ]
    },
    {
      "cell_type": "markdown",
      "metadata": {
        "id": "kPUFH3m9sTa5"
      },
      "source": [
        "### RuGPT3Medium"
      ]
    },
    {
      "cell_type": "code",
      "source": [
        "generated_med_1 = generate_prompt_5(model_medium, tok_medium, text_1_prompt_5, num_beams=10)"
      ],
      "metadata": {
        "id": "Z7E14TCUsTa6"
      },
      "execution_count": null,
      "outputs": []
    },
    {
      "cell_type": "code",
      "execution_count": null,
      "metadata": {
        "colab": {
          "base_uri": "https://localhost:8080/"
        },
        "outputId": "dfa193f1-3525-4e89-a3dc-edb4a2046398",
        "id": "7x-cEJ76sTa6"
      },
      "outputs": [
        {
          "output_type": "stream",
          "name": "stdout",
          "text": [
            "Классифицируй текст и напиши только одно слово. Классы: Происшествия, Культура, Спорт, Армия. \n",
            "В Шереметьево экстренно сел самолет из-за разгерметизации салона. Категория - Происшествия.\n",
            "Мэр латвийского города заявил о желании забрать памятник Пушкину из Риги. Категория - Культура.\n",
            "\"Зенит\" сыграл вничью с \"Фенербахче\" в товарищеском матче. Категория - Спорт.\n",
            "Спасатели 4-й армии ВВС и ПВО ЮВО провели тренировки по эвакуации летчика. Категория - Армия.\n",
            "В Тюмени два подростка погибли из-за пожара в бане. Категория - Происшествия. \n",
            "УЕФА открыл дело в отношении \"Барселоны\" из-за подозрений в подкупе судей. Категория - Спорт.\n",
            "Житель Чувашии задушил мать шнурками от обуви. Категория - Происшествия.\n",
            "Появились первые кадры фильма Шахназарова о бандитской Москве. Категория -  Кино.\n",
            "Пожар в жилом доме в подмосковном Жуковском потушен. Категории - Кино. \n",
            "\n"
          ]
        }
      ],
      "source": [
        "print(generated_med_1[0])"
      ]
    },
    {
      "cell_type": "code",
      "source": [
        "generated_med_2 = generate_prompt_5(model_medium, tok_medium, text_1_prompt_5, num_beams=3)"
      ],
      "metadata": {
        "id": "RTCXgoJ2sTa6"
      },
      "execution_count": null,
      "outputs": []
    },
    {
      "cell_type": "code",
      "execution_count": null,
      "metadata": {
        "colab": {
          "base_uri": "https://localhost:8080/"
        },
        "outputId": "a48e0b39-a65c-4859-cc7d-5d7f6bc743c3",
        "id": "U2xuJM9ssTa6"
      },
      "outputs": [
        {
          "output_type": "stream",
          "name": "stdout",
          "text": [
            "Классифицируй текст и напиши только одно слово. Классы: Происшествия, Культура, Спорт, Армия. \n",
            "В Шереметьево экстренно сел самолет из-за разгерметизации салона. Категория - Происшествия.\n",
            "Мэр латвийского города заявил о желании забрать памятник Пушкину из Риги. Категория - Культура.\n",
            "\"Зенит\" сыграл вничью с \"Фенербахче\" в товарищеском матче. Категория - Спорт.\n",
            "Спасатели 4-й армии ВВС и ПВО ЮВО провели тренировки по эвакуации летчика. Категория - Армия.\n",
            "В Тюмени два подростка погибли из-за пожара в бане. Категория - Происшествия. \n",
            "УЕФА открыл дело в отношении \"Барселоны\" из-за подозрений в подкупе судей. Категория - Спорт.\n",
            "Житель Чувашии задушил мать шнурками от обуви. Категория - Происшествия.\n",
            "Появились первые кадры фильма Шахназарова о бандитской Москве. Категория -  Кино.\n",
            "Нападающий \"Зенита\" Александр Кокорин признан лучшим футболистом России 2015 года по версии ФИФА. Категории - Футбол.\n",
            "Пожар на востоке\n"
          ]
        }
      ],
      "source": [
        "print(generated_med_2[0])"
      ]
    },
    {
      "cell_type": "markdown",
      "source": [
        "####Добавление примеров\n",
        "\n",
        "> Пришлось менять максимальную длину в моделях, но больше ничего не изменено\n",
        "\n"
      ],
      "metadata": {
        "id": "kFV2Juw-1r80"
      }
    },
    {
      "cell_type": "code",
      "source": [
        "def generate_prompt_5_1(\n",
        "    model, tok, text,\n",
        "    do_sample=True, max_length=400, repetition_penalty=2.0,\n",
        "    top_k=5, top_p=0.90, temperature=0.5,\n",
        "    num_beams=None,\n",
        "    no_repeat_ngram_size=3\n",
        "    ):\n",
        "  input_ids = tok.encode(text, return_tensors=\"pt\").cuda()\n",
        "  out = model.generate(\n",
        "      input_ids.cuda(),\n",
        "      max_length=max_length,\n",
        "      repetition_penalty=repetition_penalty,\n",
        "      do_sample=do_sample,\n",
        "      top_k=top_k, top_p=top_p, temperature=temperature,\n",
        "      num_beams=num_beams, no_repeat_ngram_size=no_repeat_ngram_size\n",
        "      )\n",
        "  return list(map(tok.decode, out))"
      ],
      "metadata": {
        "id": "OZS15Xkb3FuV"
      },
      "execution_count": null,
      "outputs": []
    },
    {
      "cell_type": "code",
      "source": [
        "text_2_prompt_5 = \"\"\"Классифицируй текст и напиши только одно слово. Классы: Происшествия, Культура, Спорт, Армия.\n",
        "В Шереметьево экстренно сел самолет из-за разгерметизации салона. Категория - Происшествия.\n",
        "В Запорожской области уничтожили украинское хранилище топлива. Категория - Армия.\n",
        "Мэр латвийского города заявил о желании забрать памятник Пушкину из Риги. Категория - Культура.\n",
        "\"Зенит\" сыграл вничью с \"Фенербахче\" в товарищеском матче. Категория - Спорт.\n",
        "Спасатели 4-й армии ВВС и ПВО ЮВО провели тренировки по эвакуации летчика. Категория - Армия.\n",
        "На премьеру \"Чебурашки\" на русском языке в Эстонии продали почти все билеты. Категория - Культура.\n",
        "Кучеров — лучший русский хоккеист. Первым выбил сотню в сезоне НХЛ! Категория - Спорт.\n",
        "В Тюмени два подростка погибли из-за пожара в бане. Категория - Происшествия.\n",
        "УЕФА открыл дело в отношении \"Барселоны\" из-за подозрений в подкупе судей. Категория - Спорт.\n",
        "В книге было лучше: сюжеты фильмов, которые отошли от оригинала. Категория - Культура.\n",
        "Житель Омска из мести поджег гараж с людьми. Категория - Происшествия.\n",
        "Медведев: поставки Западом оружия на Украину приближают ядерный апокалипсис. Категория - Армия.\n",
        "Появились кадры с Ходченковой в сериале о маньяке в приморском городке. Категория - Культура.\n",
        "Житель Чувашии задушил мать шнурками от обуви. Категория - Происшествия.\n",
        "Читатели РИА Спорт назвали Загитову самой красивой спортсменкой России. Категория - Спорт.\n",
        "Появились первые кадры фильма Шахназарова о бандитской Москве. Категория - \"\"\"\n",
        "#ожидается Культура"
      ],
      "metadata": {
        "id": "DDRKXhr91upg"
      },
      "execution_count": null,
      "outputs": []
    },
    {
      "cell_type": "code",
      "source": [
        "generated_med_3 = generate_prompt_5_1(model_medium, tok_medium, text_2_prompt_5, num_beams=5)"
      ],
      "metadata": {
        "id": "0QgyH9TZ282D"
      },
      "execution_count": null,
      "outputs": []
    },
    {
      "cell_type": "code",
      "execution_count": null,
      "metadata": {
        "colab": {
          "base_uri": "https://localhost:8080/"
        },
        "outputId": "043ab364-0173-44f3-c278-d4dd12693890",
        "id": "619nzBkx282D"
      },
      "outputs": [
        {
          "output_type": "stream",
          "name": "stdout",
          "text": [
            "Классифицируй текст и напиши только одно слово. Классы: Происшествия, Культура, Спорт, Армия. \n",
            "В Шереметьево экстренно сел самолет из-за разгерметизации салона. Категория - Происшествия.\n",
            "В Запорожской области уничтожили украинское хранилище топлива. Категория - Армия.\n",
            "Мэр латвийского города заявил о желании забрать памятник Пушкину из Риги. Категория - Культура.\n",
            "\"Зенит\" сыграл вничью с \"Фенербахче\" в товарищеском матче. Категория - Спорт.\n",
            "Спасатели 4-й армии ВВС и ПВО ЮВО провели тренировки по эвакуации летчика. Категория - Армия.\n",
            "На премьеру \"Чебурашки\" на русском языке в Эстонии продали почти все билеты. Категория - Культура.\n",
            "Кучеров — лучший русский хоккеист. Первым выбил сотню в сезоне НХЛ! Категория - Спорт.\n",
            "В Тюмени два подростка погибли из-за пожара в бане. Категория - Происшествия. \n",
            "УЕФА открыл дело в отношении \"Барселоны\" из-за подозрений в подкупе судей. Категория - Спорт.\n",
            "В книге было лучше: сюжеты фильмов, которые отошли от оригинала. Категория - Культура.\n",
            "Житель Омска из мести поджег гараж с людьми. Категория - Происшествия. \n",
            "Медведев: поставки Западом оружия на Украину приближают ядерный апокалипсис. Категория - Армия.\n",
            "Появились кадры с Ходченковой в сериале о маньяке в приморском городке. Категория - Культура.\n",
            "Житель Чувашии задушил мать шнурками от обуви. Категория - Происшествия.\n",
            "Читатели РИА Спорт назвали Загитову самой красивой спортсменкой России. Категория - Спорт.\n",
            "Появились первые кадры фильма Шахназарова о бандитской Москве. Категория -  Культура. \n",
            "\n",
            "\n",
            "\n",
            "3107995\tdjhooligantk\n"
          ]
        }
      ],
      "source": [
        "print(generated_med_3[0])"
      ]
    },
    {
      "cell_type": "code",
      "source": [
        "generated_med_3_1 = generate_prompt_5_1(model_medium, tok_medium, text_2_prompt_5, num_beams=20)"
      ],
      "metadata": {
        "id": "9wnaAOi23bVk"
      },
      "execution_count": null,
      "outputs": []
    },
    {
      "cell_type": "code",
      "execution_count": null,
      "metadata": {
        "colab": {
          "base_uri": "https://localhost:8080/"
        },
        "outputId": "f0fa848b-299d-4db0-df6a-0e0e957a6810",
        "id": "IQAJKcE93bVl"
      },
      "outputs": [
        {
          "output_type": "stream",
          "name": "stdout",
          "text": [
            "Классифицируй текст и напиши только одно слово. Классы: Происшествия, Культура, Спорт, Армия. \n",
            "В Шереметьево экстренно сел самолет из-за разгерметизации салона. Категория - Происшествия.\n",
            "В Запорожской области уничтожили украинское хранилище топлива. Категория - Армия.\n",
            "Мэр латвийского города заявил о желании забрать памятник Пушкину из Риги. Категория - Культура.\n",
            "\"Зенит\" сыграл вничью с \"Фенербахче\" в товарищеском матче. Категория - Спорт.\n",
            "Спасатели 4-й армии ВВС и ПВО ЮВО провели тренировки по эвакуации летчика. Категория - Армия.\n",
            "На премьеру \"Чебурашки\" на русском языке в Эстонии продали почти все билеты. Категория - Культура.\n",
            "Кучеров — лучший русский хоккеист. Первым выбил сотню в сезоне НХЛ! Категория - Спорт.\n",
            "В Тюмени два подростка погибли из-за пожара в бане. Категория - Происшествия. \n",
            "УЕФА открыл дело в отношении \"Барселоны\" из-за подозрений в подкупе судей. Категория - Спорт.\n",
            "В книге было лучше: сюжеты фильмов, которые отошли от оригинала. Категория - Культура.\n",
            "Житель Омска из мести поджег гараж с людьми. Категория - Происшествия. \n",
            "Медведев: поставки Западом оружия на Украину приближают ядерный апокалипсис. Категория - Армия.\n",
            "Появились кадры с Ходченковой в сериале о маньяке в приморском городке. Категория - Культура.\n",
            "Житель Чувашии задушил мать шнурками от обуви. Категория - Происшествия.\n",
            "Читатели РИА Спорт назвали Загитову самой красивой спортсменкой России. Категория - Спорт.\n",
            "Появились первые кадры фильма Шахназарова о бандитской Москве. Категория -  Культура. \n",
            "\n",
            "\n",
            "\n",
            "31086851\trussos\t2012-08\n"
          ]
        }
      ],
      "source": [
        "print(generated_med_3_1[0])"
      ]
    },
    {
      "cell_type": "code",
      "source": [
        "generated_med_4 = generate_prompt_5_1(model_medium, tok_medium, text_2_prompt_5, num_beams=1)"
      ],
      "metadata": {
        "id": "qGIwFvLusTa6"
      },
      "execution_count": null,
      "outputs": []
    },
    {
      "cell_type": "code",
      "execution_count": null,
      "metadata": {
        "colab": {
          "base_uri": "https://localhost:8080/"
        },
        "outputId": "ba7108fc-8130-4f0e-d39e-50121a37dde0",
        "id": "JqZtiXZmsTa6"
      },
      "outputs": [
        {
          "output_type": "stream",
          "name": "stdout",
          "text": [
            "Классифицируй текст и напиши только одно слово. Классы: Происшествия, Культура, Спорт, Армия. \n",
            "В Шереметьево экстренно сел самолет из-за разгерметизации салона. Категория - Происшествия.\n",
            "В Запорожской области уничтожили украинское хранилище топлива. Категория - Армия.\n",
            "Мэр латвийского города заявил о желании забрать памятник Пушкину из Риги. Категория - Культура.\n",
            "\"Зенит\" сыграл вничью с \"Фенербахче\" в товарищеском матче. Категория - Спорт.\n",
            "Спасатели 4-й армии ВВС и ПВО ЮВО провели тренировки по эвакуации летчика. Категория - Армия.\n",
            "На премьеру \"Чебурашки\" на русском языке в Эстонии продали почти все билеты. Категория - Культура.\n",
            "Кучеров — лучший русский хоккеист. Первым выбил сотню в сезоне НХЛ! Категория - Спорт.\n",
            "В Тюмени два подростка погибли из-за пожара в бане. Категория - Происшествия. \n",
            "УЕФА открыл дело в отношении \"Барселоны\" из-за подозрений в подкупе судей. Категория - Спорт.\n",
            "В книге было лучше: сюжеты фильмов, которые отошли от оригинала. Категория - Культура.\n",
            "Житель Омска из мести поджег гараж с людьми. Категория - Происшествия. \n",
            "Медведев: поставки Западом оружия на Украину приближают ядерный апокалипсис. Категория - Армия.\n",
            "Появились кадры с Ходченковой в сериале о маньяке в приморском городке. Категория - Культура.\n",
            "Житель Чувашии задушил мать шнурками от обуви. Категория - Происшествия.\n",
            "Читатели РИА Спорт назвали Загитову самой красивой спортсменкой России. Категория - Спорт.\n",
            "Появились первые кадры фильма Шахназарова о бандитской Москве. Категория -  Киноиндустрия СССР (СССР). \n",
            " В США разбился пассажирский Boeing 737 авиакомпании United\n"
          ]
        }
      ],
      "source": [
        "print(generated_med_4[0])"
      ]
    },
    {
      "cell_type": "markdown",
      "metadata": {
        "id": "rwoys7ZXsTa6"
      },
      "source": [
        "### RuGPT3Large"
      ]
    },
    {
      "cell_type": "code",
      "source": [
        "generated_lar_1 = generate_prompt_5(model_large, tok_large, text_1_prompt_5, num_beams=5)"
      ],
      "metadata": {
        "id": "ZA7bDyq2sTa6"
      },
      "execution_count": null,
      "outputs": []
    },
    {
      "cell_type": "code",
      "execution_count": null,
      "metadata": {
        "colab": {
          "base_uri": "https://localhost:8080/"
        },
        "outputId": "653baadb-2221-4159-9c4f-60a90f39ef75",
        "id": "kHnE3ikCsTa6"
      },
      "outputs": [
        {
          "output_type": "stream",
          "name": "stdout",
          "text": [
            "Классифицируй текст и напиши только одно слово. Классы: Происшествия, Культура, Спорт, Армия. \n",
            "В Шереметьево экстренно сел самолет из-за разгерметизации салона. Категория - Происшествия.\n",
            "Мэр латвийского города заявил о желании забрать памятник Пушкину из Риги. Категория - Культура.\n",
            "\"Зенит\" сыграл вничью с \"Фенербахче\" в товарищеском матче. Категория - Спорт.\n",
            "Спасатели 4-й армии ВВС и ПВО ЮВО провели тренировки по эвакуации летчика. Категория - Армия.\n",
            "В Тюмени два подростка погибли из-за пожара в бане. Категория - Происшествия. \n",
            "УЕФА открыл дело в отношении \"Барселоны\" из-за подозрений в подкупе судей. Категория - Спорт.\n",
            "Житель Чувашии задушил мать шнурками от обуви. Категория - Происшествия.\n",
            "Появились первые кадры фильма Шахназарова о бандитской Москве. Категория - \n",
            "Спорт.\n",
            "На Украине разбился военный самолет. Категории - Чужленному element походаИногда пози костейеноеFollowing Господ\n"
          ]
        }
      ],
      "source": [
        "print(generated_lar_1[0])"
      ]
    },
    {
      "cell_type": "code",
      "source": [
        "generated_lar_2 = generate_prompt_5(model_large, tok_large, text_1_prompt_5, num_beams=20)"
      ],
      "metadata": {
        "id": "h_F_qgu_sTa6"
      },
      "execution_count": null,
      "outputs": []
    },
    {
      "cell_type": "code",
      "execution_count": null,
      "metadata": {
        "colab": {
          "base_uri": "https://localhost:8080/"
        },
        "outputId": "73792715-9f8f-427a-f988-5fffbd82ae9b",
        "id": "GCBnvjj5sTa6"
      },
      "outputs": [
        {
          "output_type": "stream",
          "name": "stdout",
          "text": [
            "Классифицируй текст и напиши только одно слово. Классы: Происшествия, Культура, Спорт, Армия. \n",
            "В Шереметьево экстренно сел самолет из-за разгерметизации салона. Категория - Происшествия.\n",
            "Мэр латвийского города заявил о желании забрать памятник Пушкину из Риги. Категория - Культура.\n",
            "\"Зенит\" сыграл вничью с \"Фенербахче\" в товарищеском матче. Категория - Спорт.\n",
            "Спасатели 4-й армии ВВС и ПВО ЮВО провели тренировки по эвакуации летчика. Категория - Армия.\n",
            "В Тюмени два подростка погибли из-за пожара в бане. Категория - Происшествия. \n",
            "УЕФА открыл дело в отношении \"Барселоны\" из-за подозрений в подкупе судей. Категория - Спорт.\n",
            "Житель Чувашии задушил мать шнурками от обуви. Категория - Происшествия.\n",
            "Появились первые кадры фильма Шахназарова о бандитской Москве. Категория - \n",
            "Спорт.\n",
            "На Ставрополье возбуждено уголовное дело по факту гибели двух человек при пожаре в частном доме. Категории\n"
          ]
        }
      ],
      "source": [
        "print(generated_lar_2[0])"
      ]
    },
    {
      "cell_type": "code",
      "source": [
        "generated_lar_3 = generate_prompt_5(model_large, tok_large, text_1_prompt_5, num_beams=1)"
      ],
      "metadata": {
        "id": "EG24ByHDsTa6"
      },
      "execution_count": null,
      "outputs": []
    },
    {
      "cell_type": "code",
      "source": [
        "print(generated_lar_3[0])"
      ],
      "metadata": {
        "colab": {
          "base_uri": "https://localhost:8080/"
        },
        "outputId": "e759c496-2dd5-4a92-e0cf-8312d0db590d",
        "id": "Vm0qJ1YosTa6"
      },
      "execution_count": null,
      "outputs": [
        {
          "output_type": "stream",
          "name": "stdout",
          "text": [
            "Классифицируй текст и напиши только одно слово. Классы: Происшествия, Культура, Спорт, Армия. \n",
            "В Шереметьево экстренно сел самолет из-за разгерметизации салона. Категория - Происшествия.\n",
            "Мэр латвийского города заявил о желании забрать памятник Пушкину из Риги. Категория - Культура.\n",
            "\"Зенит\" сыграл вничью с \"Фенербахче\" в товарищеском матче. Категория - Спорт.\n",
            "Спасатели 4-й армии ВВС и ПВО ЮВО провели тренировки по эвакуации летчика. Категория - Армия.\n",
            "В Тюмени два подростка погибли из-за пожара в бане. Категория - Происшествия. \n",
            "УЕФА открыл дело в отношении \"Барселоны\" из-за подозрений в подкупе судей. Категория - Спорт.\n",
            "Житель Чувашии задушил мать шнурками от обуви. Категория - Происшествия.\n",
            "Появились первые кадры фильма Шахназарова о бандитской Москве. Категория - _Спорт<s>\n",
            "Операция «Норд» Операции советских войск на территории Финляндии начались 22 июня 1941 года\n"
          ]
        }
      ]
    },
    {
      "cell_type": "markdown",
      "source": [
        "На добавленных примерах:"
      ],
      "metadata": {
        "id": "nrkcqwve3rwd"
      }
    },
    {
      "cell_type": "code",
      "source": [
        "generated_lar_4 = generate_prompt_5_1(model_large, tok_large, text_2_prompt_5, num_beams=5)"
      ],
      "metadata": {
        "id": "laxfSjq83mh8"
      },
      "execution_count": null,
      "outputs": []
    },
    {
      "cell_type": "code",
      "execution_count": null,
      "metadata": {
        "colab": {
          "base_uri": "https://localhost:8080/"
        },
        "outputId": "29afb9df-1302-4107-8ccc-67a593b09979",
        "id": "xkNfSfxy3mh8"
      },
      "outputs": [
        {
          "output_type": "stream",
          "name": "stdout",
          "text": [
            "Классифицируй текст и напиши только одно слово. Классы: Происшествия, Культура, Спорт, Армия. \n",
            "В Шереметьево экстренно сел самолет из-за разгерметизации салона. Категория - Происшествия.\n",
            "В Запорожской области уничтожили украинское хранилище топлива. Категория - Армия.\n",
            "Мэр латвийского города заявил о желании забрать памятник Пушкину из Риги. Категория - Культура.\n",
            "\"Зенит\" сыграл вничью с \"Фенербахче\" в товарищеском матче. Категория - Спорт.\n",
            "Спасатели 4-й армии ВВС и ПВО ЮВО провели тренировки по эвакуации летчика. Категория - Армия.\n",
            "На премьеру \"Чебурашки\" на русском языке в Эстонии продали почти все билеты. Категория - Культура.\n",
            "Кучеров — лучший русский хоккеист. Первым выбил сотню в сезоне НХЛ! Категория - Спорт.\n",
            "В Тюмени два подростка погибли из-за пожара в бане. Категория - Происшествия. \n",
            "УЕФА открыл дело в отношении \"Барселоны\" из-за подозрений в подкупе судей. Категория - Спорт.\n",
            "В книге было лучше: сюжеты фильмов, которые отошли от оригинала. Категория - Культура.\n",
            "Житель Омска из мести поджег гараж с людьми. Категория - Происшествия. \n",
            "Медведев: поставки Западом оружия на Украину приближают ядерный апокалипсис. Категория - Армия.\n",
            "Появились кадры с Ходченковой в сериале о маньяке в приморском городке. Категория - Культура.\n",
            "Житель Чувашии задушил мать шнурками от обуви. Категория - Происшествия.\n",
            "Читатели РИА Спорт назвали Загитову самой красивой спортсменкой России. Категория - Спорт.\n",
            "Появились первые кадры фильма Шахназарова о бандитской Москве. Категория - \n",
            "Спорт.\n",
            "Премьер-министр Великобритании Дэвид Кэмерон заявил, что Великобритания не будет участвовать\n"
          ]
        }
      ],
      "source": [
        "print(generated_lar_4[0])"
      ]
    },
    {
      "cell_type": "code",
      "source": [
        "generated_lar_5 = generate_prompt_5_1(model_large, tok_large, text_2_prompt_5, num_beams=20)"
      ],
      "metadata": {
        "colab": {
          "base_uri": "https://localhost:8080/"
        },
        "id": "tFDd-Sjv3mh8",
        "outputId": "5e45924f-a11f-44f0-c2b2-d8590e95f944"
      },
      "execution_count": null,
      "outputs": [
        {
          "output_type": "stream",
          "name": "stderr",
          "text": [
            "The attention mask and the pad token id were not set. As a consequence, you may observe unexpected behavior. Please pass your input's `attention_mask` to obtain reliable results.\n",
            "Setting `pad_token_id` to `eos_token_id`:50256 for open-end generation.\n"
          ]
        }
      ]
    },
    {
      "cell_type": "code",
      "execution_count": null,
      "metadata": {
        "colab": {
          "base_uri": "https://localhost:8080/"
        },
        "outputId": "4aae28f4-d038-448c-fba3-921e4f9e8eeb",
        "id": "xByJeqKE3mh8"
      },
      "outputs": [
        {
          "output_type": "stream",
          "name": "stdout",
          "text": [
            "Классифицируй текст и напиши только одно слово. Классы: Происшествия, Культура, Спорт, Армия. \n",
            "В Шереметьево экстренно сел самолет из-за разгерметизации салона. Категория - Происшествия.\n",
            "В Запорожской области уничтожили украинское хранилище топлива. Категория - Армия.\n",
            "Мэр латвийского города заявил о желании забрать памятник Пушкину из Риги. Категория - Культура.\n",
            "\"Зенит\" сыграл вничью с \"Фенербахче\" в товарищеском матче. Категория - Спорт.\n",
            "Спасатели 4-й армии ВВС и ПВО ЮВО провели тренировки по эвакуации летчика. Категория - Армия.\n",
            "На премьеру \"Чебурашки\" на русском языке в Эстонии продали почти все билеты. Категория - Культура.\n",
            "Кучеров — лучший русский хоккеист. Первым выбил сотню в сезоне НХЛ! Категория - Спорт.\n",
            "В Тюмени два подростка погибли из-за пожара в бане. Категория - Происшествия. \n",
            "УЕФА открыл дело в отношении \"Барселоны\" из-за подозрений в подкупе судей. Категория - Спорт.\n",
            "В книге было лучше: сюжеты фильмов, которые отошли от оригинала. Категория - Культура.\n",
            "Житель Омска из мести поджег гараж с людьми. Категория - Происшествия. \n",
            "Медведев: поставки Западом оружия на Украину приближают ядерный апокалипсис. Категория - Армия.\n",
            "Появились кадры с Ходченковой в сериале о маньяке в приморском городке. Категория - Культура.\n",
            "Житель Чувашии задушил мать шнурками от обуви. Категория - Происшествия.\n",
            "Читатели РИА Спорт назвали Загитову самой красивой спортсменкой России. Категория - Спорт.\n",
            "Появились первые кадры фильма Шахназарова о бандитской Москве. Категория - \n",
            "Спорт.\n",
            "Полузащитник \"Зенита\" Аксель Витсель забил гол в ворота \"\n"
          ]
        }
      ],
      "source": [
        "print(generated_lar_5[0])"
      ]
    },
    {
      "cell_type": "markdown",
      "source": [
        "Вывод: промпт с указанием сгенерировать 1 слово не помог моделям понять, что именно от них требуется, в связи с чем генерация текста продолжалась, при этом только **medium** модель смогла правильно определить класс текста и не сгенерировать текст сразу за ним (только ближе к концу символы), также показался интересным один результат средней модели, когда она неверно определила класс (при чем с семантической точки зрения все верно - новость о кино, - однако в представленном ей списке не было такой категории), затем сгенерировала текст новости и снова ее классифицировала по своим \"внутренним\" классам.\n",
        "\n",
        "Проблема классификации, возможно, заключается также и в классах, представленных в примерах на 5 промпт, поскольку это не самые очевидные или частовстречаемые классы новостей (кажется, что самыми популярными все же являются Политика и Экономика), однако в данном случае модели зачастую в принципе не выбирают класс из списка, поэтому сама формулировка промпта тоже может быть неудачной.\n",
        "\n",
        "Попробуем такую формулировку с примерами текстов из предыдущих промптов:"
      ],
      "metadata": {
        "id": "6R6mNxM45ztj"
      }
    },
    {
      "cell_type": "markdown",
      "source": [
        "####Затравки 5.1"
      ],
      "metadata": {
        "id": "TbKkFIus7ZcT"
      }
    },
    {
      "cell_type": "code",
      "source": [
        "def generate_prompt_5_1(\n",
        "    model, tok, text,\n",
        "    do_sample=True, max_length=500, repetition_penalty=2.0,\n",
        "    top_k=5, top_p=0.90, temperature=0.5,\n",
        "    num_beams=None,\n",
        "    no_repeat_ngram_size=3\n",
        "    ):\n",
        "  input_ids = tok.encode(text, return_tensors=\"pt\").cuda()\n",
        "  out = model.generate(\n",
        "      input_ids.cuda(),\n",
        "      max_length=max_length,\n",
        "      repetition_penalty=repetition_penalty,\n",
        "      do_sample=do_sample,\n",
        "      top_k=top_k, top_p=top_p, temperature=temperature,\n",
        "      num_beams=num_beams, no_repeat_ngram_size=no_repeat_ngram_size\n",
        "      )\n",
        "  return list(map(tok.decode, out))"
      ],
      "metadata": {
        "id": "XBxYGl4L9MO0"
      },
      "execution_count": null,
      "outputs": []
    },
    {
      "cell_type": "code",
      "source": [
        "text_3_prompt_5 = \"\"\"Классифицируй текст и напиши только одно слово. Классы: Политика, Религия, Экономика, Культура.\n",
        "В Киево-Печерской лавре призвали православных прийти на территорию обители. Категория - Религия.\n",
        "Абрамченко ожидает хорошего урожая в этом году. Категория - Экономика.\n",
        "Актриса из \"Друзей\" помыла звезды на Аллее славы в Голливуде. Категория - Культура.\n",
        "Депутат Баженов прокомментировал приговор украинского суда. Категория - Политика.\n",
        "Кузнец на Украине не оставил свои ворота захватившим церковь раскольникам. Категория - Религия.\n",
        "На Западе рассказали о преимуществе России, меняющем расклад на фронте. Категория - Политика.\n",
        "Цена российской нефти для налогов осталась ниже 50 долларов второй месяц подряд. Категория - Экономика.\n",
        "Си Цзиньпин заявил, что хочет обсудить с Путиным важные международные темы. Категория - \"\"\"\n",
        "#ожидается Политика"
      ],
      "metadata": {
        "id": "w2_9BTgyo89Y"
      },
      "execution_count": null,
      "outputs": []
    },
    {
      "cell_type": "code",
      "source": [
        "generated_med_5 = generate_prompt_5_1(model_medium, tok_medium, text_3_prompt_5, num_beams=3)"
      ],
      "metadata": {
        "colab": {
          "base_uri": "https://localhost:8080/"
        },
        "id": "UEdcHfUn8eg_",
        "outputId": "8666ac70-2a88-49aa-93ec-e98453a93fd9"
      },
      "execution_count": null,
      "outputs": [
        {
          "output_type": "stream",
          "name": "stderr",
          "text": [
            "The attention mask and the pad token id were not set. As a consequence, you may observe unexpected behavior. Please pass your input's `attention_mask` to obtain reliable results.\n",
            "Setting `pad_token_id` to `eos_token_id`:50256 for open-end generation.\n"
          ]
        }
      ]
    },
    {
      "cell_type": "code",
      "execution_count": null,
      "metadata": {
        "id": "v-nz_d5a8eg_",
        "colab": {
          "base_uri": "https://localhost:8080/"
        },
        "outputId": "5f2002fe-3e01-45cc-d702-2a8fdeb644c6"
      },
      "outputs": [
        {
          "output_type": "stream",
          "name": "stdout",
          "text": [
            "Классифицируй текст и напиши только одно слово. Классы: Политика, Религия, Экономика, Культура. \n",
            "В Киево-Печерской лавре призвали православных прийти на территорию обители. Категория - Религия.\n",
            "Абрамченко ожидает хорошего урожая в этом году. Категория - Экономика.\n",
            "Актриса из \"Друзей\" помыла звезды на Аллее славы в Голливуде. Категория - Культура. \n",
            "Депутат Баженов прокомментировал приговор украинского суда. Категория - Политика.\n",
            "Кузнец на Украине не оставил свои ворота захватившим церковь раскольникам. Категория - Религия.\n",
            "На Западе рассказали о преимуществе России, меняющем расклад на фронте. Категория - Политика.\n",
            "Цена российской нефти для налогов осталась ниже 50 долларов второй месяц подряд. Категория - Экономика.\n",
            "Си Цзиньпин заявил, что хочет обсудить с Путиным важные международные темы. Категория -  Наука \n",
            "   В Москве прошел первый международный форум «Россия – Центральная Азия». Тема форума — Россия как центр Евразии (Москва).    На форуме присутствовали представители более чем 40 стран мира во главе со своими руководителями государств; руководители международных организаций по вопросам региональной безопасности...     &nbsp;&lt;.&gt;, http://www220821303707334241/news?p=129776#more--14023527483866474678793788364539997656582898808915357529496826598601694413341816251708195710646022110055965090409543200000543219867421096572105201078531d09e04bcfa84ee06ac83ca53ba41de87ce94ff0563ec97cc03ae02edef81fe52af92ab93eb61be71adda51\n"
          ]
        }
      ],
      "source": [
        "print(generated_med_5[0])"
      ]
    },
    {
      "cell_type": "code",
      "source": [
        "generated_med_6 = generate_prompt_5_1(model_medium, tok_medium, text_3_prompt_5, num_beams=1)"
      ],
      "metadata": {
        "id": "387SWIGy8mAN"
      },
      "execution_count": null,
      "outputs": []
    },
    {
      "cell_type": "code",
      "execution_count": null,
      "metadata": {
        "colab": {
          "base_uri": "https://localhost:8080/"
        },
        "outputId": "ad017a3a-3e19-4774-d4d9-9091492f3f62",
        "id": "vp_OrbPi8mAO"
      },
      "outputs": [
        {
          "output_type": "stream",
          "name": "stdout",
          "text": [
            "Классифицируй текст и напиши только одно слово. Классы: Политика, Религия, Экономика, Культура. \n",
            "В Киево-Печерской лавре призвали православных прийти на территорию обители. Категория - Религия.\n",
            "Абрамченко ожидает хорошего урожая в этом году. Категория - Экономика.\n",
            "Актриса из \"Друзей\" помыла звезды на Аллее славы в Голливуде. Категория - Культура. \n",
            "Депутат Баженов прокомментировал приговор украинского суда. Категория - Политика.\n",
            "Кузнец на Украине не оставил свои ворота захватившим церковь раскольникам. Категория - Религия.\n",
            "На Западе рассказали о преимуществе России, меняющем расклад на фронте. Категория - Политика.\n",
            "Цена российской нефти для налогов осталась ниже 50 долларов второй месяц подряд. Категория - Экономика.\n",
            "Си Цзиньпин заявил, что хочет обсудить с Путиным важные международные темы. Категория -  Реакция Запада. \n",
            "   В Киеве прошел митинг за мир во всем мире под лозунгом «Украина без Путина». Участники акции требовали от властей Украины прекратить насилие против мирного населения Донбасса, а также ввести мораторий по выплате пенсий жителям региона до полного погашения долга перед Россией (Россия должна Киеву $3 млрд). На митинге присутствовали представители общественных организаций Донецкой области — Движения неприсоединения ДНР/ЛНР («Евромайдан»), партии регионов Виктора Медведчука (\"Батькивщина\"), движения украинских националистов “Свобода” Олега Тягнибока.\"Мы требуем немедленного прекращения огня!\"— заявили участники митинга.— Мы обращаемся к президенту РФ Владимиру Путину! Он должен немедленно принять меры!»(с) http://www22442112968520747839633887748997898798958765646274466140303629492890593780451555233538751617502669182570961357608610344065010864191100221198743100097100600542000000500800300700400100025036049920008743160201061120410105115079432120https%u... Posted by Юрий Благодарова on&nbsp;09 ноя 2015 г., 19 : 20 am UTC+03DEFT_HTML=GLOBALS#comments============================== = &quot;&gt;.@t\n"
          ]
        }
      ],
      "source": [
        "print(generated_med_6[0])"
      ]
    },
    {
      "cell_type": "code",
      "source": [
        "generated_lar_6 = generate_prompt_5_1(model_large, tok_large, text_3_prompt_5, num_beams=3)"
      ],
      "metadata": {
        "id": "bIXLk7_b8v4k",
        "colab": {
          "base_uri": "https://localhost:8080/"
        },
        "outputId": "b1977886-0de9-4463-db13-20f304305866"
      },
      "execution_count": null,
      "outputs": [
        {
          "output_type": "stream",
          "name": "stderr",
          "text": [
            "The attention mask and the pad token id were not set. As a consequence, you may observe unexpected behavior. Please pass your input's `attention_mask` to obtain reliable results.\n",
            "Setting `pad_token_id` to `eos_token_id`:50256 for open-end generation.\n"
          ]
        }
      ]
    },
    {
      "cell_type": "code",
      "execution_count": null,
      "metadata": {
        "colab": {
          "base_uri": "https://localhost:8080/"
        },
        "outputId": "636d9009-f49f-4de8-c069-2bb6b65e312d",
        "id": "RUTp3GRg8v4k"
      },
      "outputs": [
        {
          "output_type": "stream",
          "name": "stdout",
          "text": [
            "Классифицируй текст и напиши только одно слово. Классы: Политика, Религия, Экономика, Культура. \n",
            "В Киево-Печерской лавре призвали православных прийти на территорию обители. Категория - Религия.\n",
            "Абрамченко ожидает хорошего урожая в этом году. Категория - Экономика.\n",
            "Актриса из \"Друзей\" помыла звезды на Аллее славы в Голливуде. Категория - Культура. \n",
            "Депутат Баженов прокомментировал приговор украинского суда. Категория - Политика.\n",
            "Кузнец на Украине не оставил свои ворота захватившим церковь раскольникам. Категория - Религия.\n",
            "На Западе рассказали о преимуществе России, меняющем расклад на фронте. Категория - Политика.\n",
            "Цена российской нефти для налогов осталась ниже 50 долларов второй месяц подряд. Категория - Экономика.\n",
            "Си Цзиньпин заявил, что хочет обсудить с Путиным важные международные темы. Категория -  Экономика.<s>\n",
            "Операция по спасению мира от ядерной зимы \n",
            " Оригинал взят у коллеги alex_kravetskijвчерашняя новость об аварии под Донецком (http://www2newsruua/worldNews%20donbassa) вызвала много вопросов относительно того как же всё таки удалось спасти мир? Ведь если бы этого события просто НЕ БЫЛО то мы все давно уже были мертвы! Как это возможно?! И почему до сих пор никто ничего толком объяснить так сказать ВНУТРИ этой новости нам НИЧЕГО неизвестно!? А ведь именно эта информация должна была стать основой всей нашей работы над предотвращением мировой катастрофы!!! Но увы...Ибо она оказалась никому ненужной пустой болтовнёй! Вот такие пироги :(Попробую ответить за себя лично :)Итак, я считаю эту информацию абсолютно бесполезным мусором который ни к чему кроме вреда человечеству принести никаким образом быть может даже наоборот поможет избежать глобальной экологической катастрофе!!! Ибо во первых этот мусор будет способствовать сохранением природы планеты Земля а значит жизни всего живого вокруг нас ;Во вторых он позволит сохранить жизнь всем тем кто живёт рядом со мной например моим родителям или моей жене которая сейчас находится дома вместе c моими детьми которые живут далеко отсюда...Так вот эти люди будут жить вечно ибо они сами создали себе такую возможность но им самим было совершенно наплевать НА ВСЕМ МИРЕ КОГДА ЭТО СЛУЧИЛАСЬ их собственная смерть потому ЧТО ИМ НУЖНО ЖИТЬ ПОЛНОЙ жизнью чтобы потом когда нибудь потомки смогли восстановить своё здоровье после такой страшной\n"
          ]
        }
      ],
      "source": [
        "print(generated_lar_6[0])"
      ]
    },
    {
      "cell_type": "code",
      "source": [
        "generated_lar_7 = generate_prompt_5_1(model_large, tok_large, text_3_prompt_5, num_beams=5)"
      ],
      "metadata": {
        "id": "AgBY7YEj8v4k"
      },
      "execution_count": null,
      "outputs": []
    },
    {
      "cell_type": "code",
      "execution_count": null,
      "metadata": {
        "colab": {
          "base_uri": "https://localhost:8080/"
        },
        "outputId": "a8832075-0f55-4844-f4e4-a834adbf2ec8",
        "id": "N4rt9sTO8v4k"
      },
      "outputs": [
        {
          "output_type": "stream",
          "name": "stdout",
          "text": [
            "Классифицируй текст и напиши только одно слово. Классы: Политика, Религия, Экономика, Культура. \n",
            "В Киево-Печерской лавре призвали православных прийти на территорию обители. Категория - Религия.\n",
            "Абрамченко ожидает хорошего урожая в этом году. Категория - Экономика.\n",
            "Актриса из \"Друзей\" помыла звезды на Аллее славы в Голливуде. Категория - Культура. \n",
            "Депутат Баженов прокомментировал приговор украинского суда. Категория - Политика.\n",
            "Кузнец на Украине не оставил свои ворота захватившим церковь раскольникам. Категория - Религия.\n",
            "На Западе рассказали о преимуществе России, меняющем расклад на фронте. Категория - Политика.\n",
            "Цена российской нефти для налогов осталась ниже 50 долларов второй месяц подряд. Категория - Экономика.\n",
            "Си Цзиньпин заявил, что хочет обсудить с Путиным важные международные темы. Категория - ﻿Политика\".<s>\n",
            "Праздничное... \n",
            " В связи со вчерашним праздником хочется поделиться праздничными фотографиями))). Вот вам несколько фото)))! А вот так выглядит праздничный стол у нас дома)!). И еще немного фотографий праздничного стола!!! Ну а теперь самое главное!! Сегодня мы будем отмечать День Рождения нашего любимого мужа!!!! Мы очень любим его за то,что он есть))))),а также просто обожаем нашу семью.... Так пусть же все будет хорошо..... Пусть наши дети будут здоровыми красивыми счастливыми успешныыми....и конечно самыми лучшими друзьями!!! Спасибо всем кто поздравил сегодня утром..спасибо нашим родителям которые подарили нам столько радости..Спасибо тем кому удалось сделать наш праздник незабываемым.Всем спасибо от всей души! Всем здоровья счастья любви удачи процветания нашей семье...Пусть каждый день приносит радость улыбки счастье смех успех благополучие во всех сферах жизни наших близких родных людей друзей семьи коллег партнеров по работе детей соседей бабушек дедуськх внуков родителей братьев сестер мужей жен подруг подружек сыновей отцов дочерей мамочек папенек дочек матерей девушек девушек женщин мужчин ну наконец жену любимую маму которая всегда рядом помогает советом дает советы поддерживает словом утешает дарит подарки цветы конфеты сладости фрукты торты шоколадки мороженое вино шампанское чай кофе сигареты сигары пиво алкоголь напитки газировки сокеты вина кальвадос лимонады пивасвинину баранина шашлык рыбу копченую колбасу сыр сырокопчённую ветчину соленья огурцы помидоры грибы яблоки грушу персики апельсины мандарины абрикосы вишни арбузы дыни банановы\n"
          ]
        }
      ],
      "source": [
        "print(generated_lar_7[0])"
      ]
    },
    {
      "cell_type": "markdown",
      "source": [
        "Вывод: категории новостей не особо влияют на классификацию, поскольку только 1 раз большая модель смогла правильно определить класс, однако стоит отметить, что большая модель стала выбирать категории из представленного ей списка."
      ],
      "metadata": {
        "id": "fQQ-HEM5AA7g"
      }
    },
    {
      "cell_type": "markdown",
      "source": [
        "#Необычные заголовки"
      ],
      "metadata": {
        "id": "hjzYPf2iAcG_"
      }
    },
    {
      "cell_type": "markdown",
      "source": [
        "Можно попробовать дать модели новость с не самым очевидным заголовком, иил даже не совсем понятным обычному читателю и посмотреть, как она справится с классификацией:"
      ],
      "metadata": {
        "id": "pmJmJiZ0AsDP"
      }
    },
    {
      "cell_type": "code",
      "source": [
        "text_1_special_prompt_1 = \"Музыканты построили творческий мост между Москвой и Нижним Новгородом. Категория - \"  # поймет ли метафору\n",
        "text_1_special_prompt_2 = \"Слава КПСС презентовал худший микстейп Ангельское True. Категория - \"  # поймет ли сленг/профессионализмы\n",
        "# ожидается Культура"
      ],
      "metadata": {
        "id": "r0URCh-oAY2D"
      },
      "execution_count": null,
      "outputs": []
    },
    {
      "cell_type": "markdown",
      "source": [
        "##На вход - только текст"
      ],
      "metadata": {
        "id": "ffAbMqo8BfOP"
      }
    },
    {
      "cell_type": "code",
      "source": [
        "def generate_prompt_6(\n",
        "    model, tok, text,\n",
        "    do_sample=True, max_length=50, repetition_penalty=2.0,\n",
        "    top_k=5, top_p=0.90, temperature=0.4,\n",
        "    num_beams=None,\n",
        "    no_repeat_ngram_size=3\n",
        "    ):\n",
        "  input_ids = tok.encode(text, return_tensors=\"pt\").cuda()\n",
        "  out = model.generate(\n",
        "      input_ids.cuda(),\n",
        "      max_length=max_length,\n",
        "      repetition_penalty=repetition_penalty,\n",
        "      do_sample=do_sample,\n",
        "      top_k=top_k, top_p=top_p, temperature=temperature,\n",
        "      num_beams=num_beams, no_repeat_ngram_size=no_repeat_ngram_size\n",
        "      )\n",
        "  return list(map(tok.decode, out))"
      ],
      "metadata": {
        "id": "11QfA9dvAYzz"
      },
      "execution_count": null,
      "outputs": []
    },
    {
      "cell_type": "code",
      "source": [
        "generated_med_1 = generate_prompt_6(model_medium, tok_medium, text_1_special_prompt_1, num_beams=5)"
      ],
      "metadata": {
        "colab": {
          "base_uri": "https://localhost:8080/"
        },
        "id": "DestYk_WAqmj",
        "outputId": "cd80cf15-fd18-4126-9861-c0105681632d"
      },
      "execution_count": null,
      "outputs": [
        {
          "output_type": "stream",
          "name": "stderr",
          "text": [
            "The attention mask and the pad token id were not set. As a consequence, you may observe unexpected behavior. Please pass your input's `attention_mask` to obtain reliable results.\n",
            "Setting `pad_token_id` to `eos_token_id`:50256 for open-end generation.\n"
          ]
        }
      ]
    },
    {
      "cell_type": "code",
      "execution_count": null,
      "metadata": {
        "colab": {
          "base_uri": "https://localhost:8080/"
        },
        "outputId": "c8cfb655-c949-42f7-9230-b64b4bf6eee7",
        "id": "FoBXuS9_Aqmj"
      },
      "outputs": [
        {
          "output_type": "stream",
          "name": "stdout",
          "text": [
            "Музыканты построили творческий мост между Москвой и Нижним Новгородом. Категория - \n",
            "&laquo;Классика&raquo;.\n",
            "\n",
            "В Нижнем Новгороде прошел поша верите непрерывно пожаре Англиюнд длинном зву Ctrl plantsansion\n"
          ]
        }
      ],
      "source": [
        "print(generated_med_1[0])"
      ]
    },
    {
      "cell_type": "code",
      "source": [
        "generated_med_2 = generate_prompt_6(model_medium, tok_medium, text_1_special_prompt_2, num_beams=5)"
      ],
      "metadata": {
        "colab": {
          "base_uri": "https://localhost:8080/"
        },
        "outputId": "fe7c1c7d-8ec9-48a9-b9b0-34bb854ac4bc",
        "id": "bWB5cCsQDprX"
      },
      "execution_count": null,
      "outputs": [
        {
          "output_type": "stream",
          "name": "stderr",
          "text": [
            "The attention mask and the pad token id were not set. As a consequence, you may observe unexpected behavior. Please pass your input's `attention_mask` to obtain reliable results.\n",
            "Setting `pad_token_id` to `eos_token_id`:50256 for open-end generation.\n"
          ]
        }
      ]
    },
    {
      "cell_type": "code",
      "execution_count": null,
      "metadata": {
        "colab": {
          "base_uri": "https://localhost:8080/"
        },
        "outputId": "9850997b-8a73-47f8-d7ba-ff83cc65388b",
        "id": "vbPeW9qdDprY"
      },
      "outputs": [
        {
          "output_type": "stream",
          "name": "stdout",
          "text": [
            "Слава КПСС презентовал худший микстейп Ангельское True. Категория - \n",
            "&quot;Супер-хит&quot;.\n",
            "\n",
            "\n",
            "24073366\tirm звуча бюджет 48 Штанички taking произнести соприк бесед\n"
          ]
        }
      ],
      "source": [
        "print(generated_med_2[0])"
      ]
    },
    {
      "cell_type": "code",
      "source": [
        "generated_lar_1 = generate_prompt_6(model_large, tok_large, text_1_special_prompt_1, num_beams=10)"
      ],
      "metadata": {
        "colab": {
          "base_uri": "https://localhost:8080/"
        },
        "id": "1nPXVoBKAqmj",
        "outputId": "24201183-5e46-481e-8f09-de7c905f32be"
      },
      "execution_count": null,
      "outputs": [
        {
          "output_type": "stream",
          "name": "stderr",
          "text": [
            "The attention mask and the pad token id were not set. As a consequence, you may observe unexpected behavior. Please pass your input's `attention_mask` to obtain reliable results.\n",
            "Setting `pad_token_id` to `eos_token_id`:50256 for open-end generation.\n"
          ]
        }
      ]
    },
    {
      "cell_type": "code",
      "execution_count": null,
      "metadata": {
        "colab": {
          "base_uri": "https://localhost:8080/"
        },
        "outputId": "2d413c90-f038-40aa-cecc-1a1b7a05b6f1",
        "id": "i0SYuYDXAqmj"
      },
      "outputs": [
        {
          "output_type": "stream",
          "name": "stdout",
          "text": [
            "Музыканты построили творческий мост между Москвой и Нижним Новгородом. Категория - \n",
            "\"Событие года\".\n",
            "\n",
            "В этом году фестиваль \"Путешествие в Рождество\", ориенти 86 батаре сочли удивительные помогать придет поразAmeric необычной simple\n"
          ]
        }
      ],
      "source": [
        "print(generated_lar_1[0])"
      ]
    },
    {
      "cell_type": "code",
      "source": [
        "generated_lar_2 = generate_prompt_6(model_large, tok_large, text_1_special_prompt_2, num_beams=10)"
      ],
      "metadata": {
        "id": "r5ls8wubDxk1"
      },
      "execution_count": null,
      "outputs": []
    },
    {
      "cell_type": "code",
      "execution_count": null,
      "metadata": {
        "colab": {
          "base_uri": "https://localhost:8080/"
        },
        "outputId": "75fa5e3c-3576-42eb-8e32-e449623af5b8",
        "id": "lymFswhbDxk2"
      },
      "outputs": [
        {
          "output_type": "stream",
          "name": "stdout",
          "text": [
            "Слава КПСС презентовал худший микстейп Ангельское True. Категория - \n",
            "\"Лучшее из того, что было в этом году\". \n",
            "\n",
            "Второе место очень умствовал увеличится situated инфраструктуры threatomot Кни Плюс сообще агрессив\n"
          ]
        }
      ],
      "source": [
        "print(generated_lar_2[0])"
      ]
    },
    {
      "cell_type": "markdown",
      "source": [
        "##Схема промпта 4"
      ],
      "metadata": {
        "id": "n-qV_Ek6B5RZ"
      }
    },
    {
      "cell_type": "code",
      "source": [
        "text_2_special_prompt_1 = \"\"\"Классифицируй текст. Классы: Политика, Экономика, Общество, Культура.\n",
        "В МИД пообещали бороться за сына губернатора Усса. Категория - Политика.\n",
        "Мишустин назвал число получателей пособия на ребенка. Категория - Общество.\n",
        "Абрамченко ожидает хорошего урожая в этом году. Категория - Экономика.\n",
        "На премьеру \"Чебурашки\" на русском языке в Эстонии продали почти все билеты. Категория - Культура.\n",
        "Мишустин призвал обеспечить устойчивость роста российской экономики. Категория - Экономика.\n",
        "Музыканты построили творческий мост между Москвой и Нижним Новгородом. Категория - \"\"\"\n",
        "\n",
        "text_2_special_prompt_2 = \"\"\"Классифицируй текст. Классы: Политика, Экономика, Общество, Культура.\n",
        "В МИД пообещали бороться за сына губернатора Усса. Категория - Политика.\n",
        "Мишустин назвал число получателей пособия на ребенка. Категория - Общество.\n",
        "Абрамченко ожидает хорошего урожая в этом году. Категория - Экономика.\n",
        "На премьеру \"Чебурашки\" на русском языке в Эстонии продали почти все билеты. Категория - Культура.\n",
        "Мишустин призвал обеспечить устойчивость роста российской экономики. Категория - Экономика.\n",
        "Слава КПСС презентовал худший микстейп Ангельское True. Категория - \"\"\""
      ],
      "metadata": {
        "id": "BPiSR3j9AYxp"
      },
      "execution_count": null,
      "outputs": []
    },
    {
      "cell_type": "code",
      "source": [
        "def generate_prompt_7(\n",
        "    model, tok, text,\n",
        "    do_sample=True, max_length=135, repetition_penalty=2.0,\n",
        "    top_k=5, top_p=0.90, temperature=0.4,\n",
        "    num_beams=None,\n",
        "    no_repeat_ngram_size=3\n",
        "    ):\n",
        "  input_ids = tok.encode(text, return_tensors=\"pt\").cuda()\n",
        "  out = model.generate(\n",
        "      input_ids.cuda(),\n",
        "      max_length=max_length,\n",
        "      repetition_penalty=repetition_penalty,\n",
        "      do_sample=do_sample,\n",
        "      top_k=top_k, top_p=top_p, temperature=temperature,\n",
        "      num_beams=num_beams, no_repeat_ngram_size=no_repeat_ngram_size\n",
        "      )\n",
        "  return list(map(tok.decode, out))"
      ],
      "metadata": {
        "id": "je5i4uoADdcT"
      },
      "execution_count": null,
      "outputs": []
    },
    {
      "cell_type": "code",
      "source": [
        "generated_med_3 = generate_prompt_7(model_medium, tok_medium, text_2_special_prompt_1, num_beams=5)"
      ],
      "metadata": {
        "colab": {
          "base_uri": "https://localhost:8080/"
        },
        "outputId": "dc117ab1-8fdf-4024-ff10-9a74416591b3",
        "id": "bZGWp3cSDdcT"
      },
      "execution_count": null,
      "outputs": [
        {
          "output_type": "stream",
          "name": "stderr",
          "text": [
            "The attention mask and the pad token id were not set. As a consequence, you may observe unexpected behavior. Please pass your input's `attention_mask` to obtain reliable results.\n",
            "Setting `pad_token_id` to `eos_token_id`:50256 for open-end generation.\n"
          ]
        }
      ]
    },
    {
      "cell_type": "code",
      "execution_count": null,
      "metadata": {
        "colab": {
          "base_uri": "https://localhost:8080/"
        },
        "outputId": "7f0c8de9-02f5-453d-e36e-466c7a88498b",
        "id": "xvK7iE8UDdcT"
      },
      "outputs": [
        {
          "output_type": "stream",
          "name": "stdout",
          "text": [
            "Классифицируй текст. Классы: Политика, Экономика, Общество, Культура.\n",
            "В МИД пообещали бороться за сына губернатора Усса. Категория - Политика.\n",
            "Мишустин назвал число получателей пособия на ребенка. Категория - Общество.\n",
            "Абрамченко ожидает хорошего урожая в этом году. Категория - Экономика.\n",
            "На премьеру \"Чебурашки\" на русском языке в Эстонии продали почти все билеты. Категория - Культура.\n",
            "Мишустин призвал обеспечить устойчивость роста российской экономики. Категория - Экономика.\n",
            "Музыканты построили творческий мост между Москвой и Нижним Новгородом. Категория -  Культура. \n",
            "\n",
            "\n",
            "\n"
          ]
        }
      ],
      "source": [
        "print(generated_med_3[0])"
      ]
    },
    {
      "cell_type": "code",
      "source": [
        "generated_med_4 = generate_prompt_7(model_medium, tok_medium, text_2_special_prompt_1, num_beams=10)"
      ],
      "metadata": {
        "id": "QAofhRW_DjIh"
      },
      "execution_count": null,
      "outputs": []
    },
    {
      "cell_type": "code",
      "execution_count": null,
      "metadata": {
        "colab": {
          "base_uri": "https://localhost:8080/"
        },
        "outputId": "240fd04c-5350-4078-e7fb-bbea0754ef4f",
        "id": "MEL8fn1GDjIh"
      },
      "outputs": [
        {
          "output_type": "stream",
          "name": "stdout",
          "text": [
            "Классифицируй текст. Классы: Политика, Экономика, Общество, Культура.\n",
            "В МИД пообещали бороться за сына губернатора Усса. Категория - Политика.\n",
            "Мишустин назвал число получателей пособия на ребенка. Категория - Общество.\n",
            "Абрамченко ожидает хорошего урожая в этом году. Категория - Экономика.\n",
            "На премьеру \"Чебурашки\" на русском языке в Эстонии продали почти все билеты. Категория - Культура.\n",
            "Мишустин призвал обеспечить устойчивость роста российской экономики. Категория - Экономика.\n",
            "Музыканты построили творческий мост между Москвой и Нижним Новгородом. Категория -  Культура. \n",
            "\n",
            "\n",
            "\n"
          ]
        }
      ],
      "source": [
        "print(generated_med_4[0])"
      ]
    },
    {
      "cell_type": "code",
      "source": [
        "generated_med_5 = generate_prompt_7(model_medium, tok_medium, text_2_special_prompt_2, num_beams=5)"
      ],
      "metadata": {
        "id": "F89T5Oj0D8r4"
      },
      "execution_count": null,
      "outputs": []
    },
    {
      "cell_type": "code",
      "execution_count": null,
      "metadata": {
        "colab": {
          "base_uri": "https://localhost:8080/"
        },
        "outputId": "3c602503-deac-4a60-bb0a-1b49c68ade38",
        "id": "vRLQnJEoD8r5"
      },
      "outputs": [
        {
          "output_type": "stream",
          "name": "stdout",
          "text": [
            "Классифицируй текст. Классы: Политика, Экономика, Общество, Культура.\n",
            "В МИД пообещали бороться за сына губернатора Усса. Категория - Политика.\n",
            "Мишустин назвал число получателей пособия на ребенка. Категория - Общество.\n",
            "Абрамченко ожидает хорошего урожая в этом году. Категория - Экономика.\n",
            "На премьеру \"Чебурашки\" на русском языке в Эстонии продали почти все билеты. Категория - Культура.\n",
            "Мишустин призвал обеспечить устойчивость роста российской экономики. Категория - Экономика.\n",
            "Слава КПСС презентовал худший микстейп Ангельское True. Категория -  Музыка.\n",
            "С\n"
          ]
        }
      ],
      "source": [
        "print(generated_med_5[0])"
      ]
    },
    {
      "cell_type": "code",
      "source": [
        "generated_med_5 = generate_prompt_7(model_medium, tok_medium, text_2_special_prompt_2, num_beams=10)"
      ],
      "metadata": {
        "id": "pdl9gxY3D8r5"
      },
      "execution_count": null,
      "outputs": []
    },
    {
      "cell_type": "code",
      "execution_count": null,
      "metadata": {
        "colab": {
          "base_uri": "https://localhost:8080/"
        },
        "outputId": "9db1b073-197a-4b45-f5ac-fab166844a3d",
        "id": "P9UB0bwWD8r5"
      },
      "outputs": [
        {
          "output_type": "stream",
          "name": "stdout",
          "text": [
            "Классифицируй текст. Классы: Политика, Экономика, Общество, Культура.\n",
            "В МИД пообещали бороться за сына губернатора Усса. Категория - Политика.\n",
            "Мишустин назвал число получателей пособия на ребенка. Категория - Общество.\n",
            "Абрамченко ожидает хорошего урожая в этом году. Категория - Экономика.\n",
            "На премьеру \"Чебурашки\" на русском языке в Эстонии продали почти все билеты. Категория - Культура.\n",
            "Мишустин призвал обеспечить устойчивость роста российской экономики. Категория - Экономика.\n",
            "Слава КПСС презентовал худший микстейп Ангельское True. Категория -  Музыка.\n",
            "С\n"
          ]
        }
      ],
      "source": [
        "print(generated_med_5[0])"
      ]
    },
    {
      "cell_type": "code",
      "source": [
        "generated_lar_3 = generate_prompt_7(model_large, tok_large, text_2_special_prompt_1, num_beams=10)"
      ],
      "metadata": {
        "id": "Oq4pvu0MDdcT"
      },
      "execution_count": null,
      "outputs": []
    },
    {
      "cell_type": "code",
      "execution_count": null,
      "metadata": {
        "colab": {
          "base_uri": "https://localhost:8080/"
        },
        "outputId": "641a564b-c3a4-45c6-dfe1-9df93c0ab197",
        "id": "O5h1z58wDdcT"
      },
      "outputs": [
        {
          "output_type": "stream",
          "name": "stdout",
          "text": [
            "Классифицируй текст. Классы: Политика, Экономика, Общество, Культура.\n",
            "В МИД пообещали бороться за сына губернатора Усса. Категория - Политика.\n",
            "Мишустин назвал число получателей пособия на ребенка. Категория - Общество.\n",
            "Абрамченко ожидает хорошего урожая в этом году. Категория - Экономика.\n",
            "На премьеру \"Чебурашки\" на русском языке в Эстонии продали почти все билеты. Категория - Культура.\n",
            "Мишустин призвал обеспечить устойчивость роста российской экономики. Категория - Экономика.\n",
            "Музыканты построили творческий мост между Москвой и Нижним Новгородом. Категория - ﻿ Культура.\n"
          ]
        }
      ],
      "source": [
        "print(generated_lar_3[0])"
      ]
    },
    {
      "cell_type": "code",
      "source": [
        "generated_lar_4 = generate_prompt_7(model_large, tok_large, text_2_special_prompt_1, num_beams=5)"
      ],
      "metadata": {
        "id": "grlXUXNrEZs6"
      },
      "execution_count": null,
      "outputs": []
    },
    {
      "cell_type": "code",
      "execution_count": null,
      "metadata": {
        "colab": {
          "base_uri": "https://localhost:8080/"
        },
        "outputId": "de11c66f-7b6f-4c96-d9c1-f3467dd11600",
        "id": "j-Bu4268EZs6"
      },
      "outputs": [
        {
          "output_type": "stream",
          "name": "stdout",
          "text": [
            "Классифицируй текст. Классы: Политика, Экономика, Общество, Культура.\n",
            "В МИД пообещали бороться за сына губернатора Усса. Категория - Политика.\n",
            "Мишустин назвал число получателей пособия на ребенка. Категория - Общество.\n",
            "Абрамченко ожидает хорошего урожая в этом году. Категория - Экономика.\n",
            "На премьеру \"Чебурашки\" на русском языке в Эстонии продали почти все билеты. Категория - Культура.\n",
            "Мишустин призвал обеспечить устойчивость роста российской экономики. Категория - Экономика.\n",
            "Музыканты построили творческий мост между Москвой и Нижним Новгородом. Категория - ﻿ Культура.\n"
          ]
        }
      ],
      "source": [
        "print(generated_lar_4[0])"
      ]
    },
    {
      "cell_type": "code",
      "source": [
        "generated_lar_5 = generate_prompt_7(model_large, tok_large, text_2_special_prompt_2, num_beams=10)"
      ],
      "metadata": {
        "id": "NTe7OpjTEZ1x"
      },
      "execution_count": null,
      "outputs": []
    },
    {
      "cell_type": "code",
      "execution_count": null,
      "metadata": {
        "colab": {
          "base_uri": "https://localhost:8080/"
        },
        "outputId": "4e0fb76a-4625-4f70-b4cc-4be274bee6ed",
        "id": "qJVZ2BGeEZ1x"
      },
      "outputs": [
        {
          "output_type": "stream",
          "name": "stdout",
          "text": [
            "Классифицируй текст. Классы: Политика, Экономика, Общество, Культура.\n",
            "В МИД пообещали бороться за сына губернатора Усса. Категория - Политика.\n",
            "Мишустин назвал число получателей пособия на ребенка. Категория - Общество.\n",
            "Абрамченко ожидает хорошего урожая в этом году. Категория - Экономика.\n",
            "На премьеру \"Чебурашки\" на русском языке в Эстонии продали почти все билеты. Категория - Культура.\n",
            "Мишустин призвал обеспечить устойчивость роста российской экономики. Категория - Экономика.\n",
            "Слава КПСС презентовал худший микстейп Ангельское True. Категория - ютуб.\n",
            "\n"
          ]
        }
      ],
      "source": [
        "print(generated_lar_5[0])"
      ]
    },
    {
      "cell_type": "code",
      "source": [
        "generated_lar_6 = generate_prompt_7(model_large, tok_large, text_2_special_prompt_2, num_beams=3)"
      ],
      "metadata": {
        "id": "WQ4IfyUQEjyn"
      },
      "execution_count": null,
      "outputs": []
    },
    {
      "cell_type": "code",
      "execution_count": null,
      "metadata": {
        "colab": {
          "base_uri": "https://localhost:8080/"
        },
        "outputId": "dfb66d29-ab61-4bfa-d39a-6b5306f8f934",
        "id": "NFwO-cbwEjyn"
      },
      "outputs": [
        {
          "output_type": "stream",
          "name": "stdout",
          "text": [
            "Классифицируй текст. Классы: Политика, Экономика, Общество, Культура.\n",
            "В МИД пообещали бороться за сына губернатора Усса. Категория - Политика.\n",
            "Мишустин назвал число получателей пособия на ребенка. Категория - Общество.\n",
            "Абрамченко ожидает хорошего урожая в этом году. Категория - Экономика.\n",
            "На премьеру \"Чебурашки\" на русском языке в Эстонии продали почти все билеты. Категория - Культура.\n",
            "Мишустин призвал обеспечить устойчивость роста российской экономики. Категория - Экономика.\n",
            "Слава КПСС презентовал худший микстейп Ангельское True. Категория - ютуб.\n",
            "\n"
          ]
        }
      ],
      "source": [
        "print(generated_lar_6[0])"
      ]
    },
    {
      "cell_type": "markdown",
      "source": [
        "Вывод: модели хорошо \"схватили\" метафору с постройкой моста (текст 1), и они понимают текст с еще не прочно вощедщими в язык словами (текст 2), и хотя категории определяются достаточно точно (Музыка или Ютуб), но при этом теряется связь с заданием и перечисленными там категориями."
      ],
      "metadata": {
        "id": "0JiecR7iE3cD"
      }
    },
    {
      "cell_type": "markdown",
      "source": [
        "#Итог"
      ],
      "metadata": {
        "id": "lzbfaw36AXBa"
      }
    },
    {
      "cell_type": "markdown",
      "source": [
        "Таким образом, на основе проведенных экспериментов с изменением затравок для моделей можно сделать следующие основополвгающие выводы:\n",
        "1. Для классификации текстов лучше использовать **medium** или **large** модели, которые справляются с этой задачей практически одинаково.\n",
        "2. Для адекватной генерации стоит подбирать значения **num_beams != 1**.\n",
        "3. Лучше всего в задаче классификации себя показал промпт, в котором присутствует простое указание на действие, которое необходимо совершить (простой императив без веждивых форм и формальных конструкций).\n",
        "4. Для ограничения генерации одним словом (классом текста), необходимо экспериментальным путем подбирать значение max_len.\n",
        "5. Качество классификации не кажется зависимым от распространенности классов новостей (например, на новостных порталах, где-то есть категория новостей \"Происшествия\", где-то нет).\n",
        "\n"
      ],
      "metadata": {
        "id": "c5fQE0JmSY3l"
      }
    },
    {
      "cell_type": "code",
      "source": [],
      "metadata": {
        "id": "JdgvPOlXHBos"
      },
      "execution_count": null,
      "outputs": []
    }
  ]
}